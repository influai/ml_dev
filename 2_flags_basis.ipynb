{
 "cells": [
  {
   "cell_type": "code",
   "execution_count": 1,
   "metadata": {},
   "outputs": [
    {
     "data": {
      "text/plain": [
       "True"
      ]
     },
     "execution_count": 1,
     "metadata": {},
     "output_type": "execute_result"
    }
   ],
   "source": [
    "import os\n",
    "import time\n",
    "import numpy as np\n",
    "import pandas as pd \n",
    "from dotenv import load_dotenv\n",
    "\n",
    "from sqlalchemy import create_engine, inspect\n",
    "load_dotenv('./.env')"
   ]
  },
  {
   "cell_type": "code",
   "execution_count": 2,
   "metadata": {},
   "outputs": [],
   "source": [
    "DB_IP = os.environ.get(\"DB_IP\")\n",
    "DB_PORT = os.environ.get(\"DB_PORT\")\n",
    "DB_NAME = os.environ.get(\"DB_NAME\")\n",
    "DB_USER = os.environ.get(\"DB_USER\")\n",
    "DB_PASSWORD = os.environ.get(\"DB_PASSWORD\")\n",
    "\n",
    "url = f\"postgresql://{DB_USER}:{DB_PASSWORD}@{DB_IP}:{DB_PORT}/{DB_NAME}\"\n",
    "engine = create_engine(url)\n",
    "inspector = inspect(engine)"
   ]
  },
  {
   "cell_type": "code",
   "execution_count": 3,
   "metadata": {},
   "outputs": [
    {
     "name": "stdout",
     "output_type": "stream",
     "text": [
      "0.9396559874216716\n"
     ]
    }
   ],
   "source": [
    "start = time.time()\n",
    "basis = pd.read_sql_table(\"basis_with_metrics\", schema=\"ml_house\", con=engine)\n",
    "print((time.time() - start)/60)"
   ]
  },
  {
   "cell_type": "markdown",
   "metadata": {},
   "source": [
    "# posts_flags"
   ]
  },
  {
   "cell_type": "code",
   "execution_count": 4,
   "metadata": {},
   "outputs": [
    {
     "name": "stdout",
     "output_type": "stream",
     "text": [
      "3.7246795376141866\n"
     ]
    }
   ],
   "source": [
    "start = time.time()\n",
    "flags = pd.read_sql_table(\"posts_flags\", schema=\"parse\", con=engine)\n",
    "print((time.time() - start)/60)"
   ]
  },
  {
   "cell_type": "code",
   "execution_count": 5,
   "metadata": {},
   "outputs": [
    {
     "name": "stdout",
     "output_type": "stream",
     "text": [
      "(17544153, 13)\n"
     ]
    },
    {
     "data": {
      "text/html": [
       "<div>\n",
       "<style scoped>\n",
       "    .dataframe tbody tr th:only-of-type {\n",
       "        vertical-align: middle;\n",
       "    }\n",
       "\n",
       "    .dataframe tbody tr th {\n",
       "        vertical-align: top;\n",
       "    }\n",
       "\n",
       "    .dataframe thead th {\n",
       "        text-align: right;\n",
       "    }\n",
       "</style>\n",
       "<table border=\"1\" class=\"dataframe\">\n",
       "  <thead>\n",
       "    <tr style=\"text-align: right;\">\n",
       "      <th></th>\n",
       "      <th>id</th>\n",
       "      <th>is_post</th>\n",
       "      <th>silent</th>\n",
       "      <th>noforwards</th>\n",
       "      <th>pinned</th>\n",
       "      <th>fwd_from_flag</th>\n",
       "      <th>photo</th>\n",
       "      <th>document</th>\n",
       "      <th>web</th>\n",
       "      <th>audio</th>\n",
       "      <th>voice</th>\n",
       "      <th>video</th>\n",
       "      <th>gif</th>\n",
       "    </tr>\n",
       "  </thead>\n",
       "  <tbody>\n",
       "    <tr>\n",
       "      <th>14238017</th>\n",
       "      <td>5913976</td>\n",
       "      <td>True</td>\n",
       "      <td>False</td>\n",
       "      <td>False</td>\n",
       "      <td>False</td>\n",
       "      <td>False</td>\n",
       "      <td>False</td>\n",
       "      <td>True</td>\n",
       "      <td>False</td>\n",
       "      <td>False</td>\n",
       "      <td>False</td>\n",
       "      <td>True</td>\n",
       "      <td>False</td>\n",
       "    </tr>\n",
       "  </tbody>\n",
       "</table>\n",
       "</div>"
      ],
      "text/plain": [
       "               id  is_post  silent noforwards pinned  fwd_from_flag  photo  \\\n",
       "14238017  5913976     True   False      False  False          False  False   \n",
       "\n",
       "          document    web  audio  voice  video    gif  \n",
       "14238017      True  False  False  False   True  False  "
      ]
     },
     "execution_count": 5,
     "metadata": {},
     "output_type": "execute_result"
    }
   ],
   "source": [
    "print(flags.shape)\n",
    "flags.sample()"
   ]
  },
  {
   "cell_type": "code",
   "execution_count": 6,
   "metadata": {},
   "outputs": [
    {
     "data": {
      "text/plain": [
       "(177373, 58)"
      ]
     },
     "execution_count": 6,
     "metadata": {},
     "output_type": "execute_result"
    }
   ],
   "source": [
    "basis_with_flags = (\n",
    "    basis\n",
    "    .merge(\n",
    "        flags, \n",
    "        on=\"id\",\n",
    "        how=\"inner\"\n",
    "    )\n",
    ")\n",
    "\n",
    "basis_with_flags.shape"
   ]
  },
  {
   "cell_type": "markdown",
   "metadata": {},
   "source": [
    "# posts_metadata"
   ]
  },
  {
   "cell_type": "code",
   "execution_count": 8,
   "metadata": {},
   "outputs": [
    {
     "name": "stdout",
     "output_type": "stream",
     "text": [
      "6.740217089653015\n"
     ]
    }
   ],
   "source": [
    "start = time.time()\n",
    "posts_metadata = pd.read_sql_table(\"posts_metadata\", schema=\"parse\", con=engine)\n",
    "print((time.time() - start)/60)"
   ]
  },
  {
   "cell_type": "code",
   "execution_count": 9,
   "metadata": {},
   "outputs": [
    {
     "data": {
      "text/plain": [
       "(177373, 60)"
      ]
     },
     "execution_count": 9,
     "metadata": {},
     "output_type": "execute_result"
    }
   ],
   "source": [
    "posts_metadata = posts_metadata[[\"id\", \"channel_id\", \"post_date\"]]\n",
    "\n",
    "basis_with_meatadata = (\n",
    "    basis_with_flags\n",
    "    .merge(\n",
    "        posts_metadata, \n",
    "        on=\"id\",\n",
    "        how=\"inner\"\n",
    "    )\n",
    ")\n",
    "\n",
    "basis_with_meatadata.shape"
   ]
  },
  {
   "cell_type": "markdown",
   "metadata": {},
   "source": [
    "# channels"
   ]
  },
  {
   "cell_type": "code",
   "execution_count": 26,
   "metadata": {},
   "outputs": [
    {
     "name": "stdout",
     "output_type": "stream",
     "text": [
      "0.06086671749750773\n"
     ]
    }
   ],
   "source": [
    "start = time.time()\n",
    "channels = pd.read_sql_table(\"channels\", schema=\"parse\", con=engine)\n",
    "print((time.time() - start)/60)"
   ]
  },
  {
   "cell_type": "code",
   "execution_count": 27,
   "metadata": {},
   "outputs": [
    {
     "data": {
      "text/html": [
       "<div>\n",
       "<style scoped>\n",
       "    .dataframe tbody tr th:only-of-type {\n",
       "        vertical-align: middle;\n",
       "    }\n",
       "\n",
       "    .dataframe tbody tr th {\n",
       "        vertical-align: top;\n",
       "    }\n",
       "\n",
       "    .dataframe thead th {\n",
       "        text-align: right;\n",
       "    }\n",
       "</style>\n",
       "<table border=\"1\" class=\"dataframe\">\n",
       "  <thead>\n",
       "    <tr style=\"text-align: right;\">\n",
       "      <th></th>\n",
       "      <th>id</th>\n",
       "      <th>name</th>\n",
       "      <th>title</th>\n",
       "      <th>participants</th>\n",
       "      <th>last_pinned_msg_id</th>\n",
       "      <th>about</th>\n",
       "    </tr>\n",
       "  </thead>\n",
       "  <tbody>\n",
       "    <tr>\n",
       "      <th>0</th>\n",
       "      <td>1097289882</td>\n",
       "      <td>medicalksu</td>\n",
       "      <td>Medical Ксю</td>\n",
       "      <td>12026</td>\n",
       "      <td>5335.0</td>\n",
       "      <td>Канал о цифровых технологиях в здравоохранении...</td>\n",
       "    </tr>\n",
       "    <tr>\n",
       "      <th>1</th>\n",
       "      <td>1203719412</td>\n",
       "      <td>ngised</td>\n",
       "      <td>Design Porn</td>\n",
       "      <td>10048</td>\n",
       "      <td>NaN</td>\n",
       "      <td></td>\n",
       "    </tr>\n",
       "    <tr>\n",
       "      <th>2</th>\n",
       "      <td>1336205252</td>\n",
       "      <td>TolmacChannel</td>\n",
       "      <td>Tolmaç Channel</td>\n",
       "      <td>445</td>\n",
       "      <td>124.0</td>\n",
       "      <td>Group of @TolmacBot\\nChat @tolmacchat\\nContact...</td>\n",
       "    </tr>\n",
       "    <tr>\n",
       "      <th>3</th>\n",
       "      <td>1742423071</td>\n",
       "      <td>kobzevii</td>\n",
       "      <td>#кобзевнасвязи</td>\n",
       "      <td>54831</td>\n",
       "      <td>9078.0</td>\n",
       "      <td>Официальный канал Губернатора Иркутской област...</td>\n",
       "    </tr>\n",
       "    <tr>\n",
       "      <th>4</th>\n",
       "      <td>1362285551</td>\n",
       "      <td>vlgsud</td>\n",
       "      <td>Объединенная пресс-служба судов Волгоградской ...</td>\n",
       "      <td>1659</td>\n",
       "      <td>2520.0</td>\n",
       "      <td></td>\n",
       "    </tr>\n",
       "    <tr>\n",
       "      <th>...</th>\n",
       "      <td>...</td>\n",
       "      <td>...</td>\n",
       "      <td>...</td>\n",
       "      <td>...</td>\n",
       "      <td>...</td>\n",
       "      <td>...</td>\n",
       "    </tr>\n",
       "    <tr>\n",
       "      <th>13189</th>\n",
       "      <td>1901789788</td>\n",
       "      <td>Dekretnyeistorii</td>\n",
       "      <td>По с(д)екрету всему свету🙈</td>\n",
       "      <td>784</td>\n",
       "      <td>NaN</td>\n",
       "      <td>Привет✌🏼ты зашла в Мой маленький личный дневни...</td>\n",
       "    </tr>\n",
       "    <tr>\n",
       "      <th>13190</th>\n",
       "      <td>1488393404</td>\n",
       "      <td>tre_kyrsk</td>\n",
       "      <td>Тревожный Курск | Суджа</td>\n",
       "      <td>38208</td>\n",
       "      <td>6708.0</td>\n",
       "      <td>Новости Курска и Курской области.\\n\\nПредложит...</td>\n",
       "    </tr>\n",
       "    <tr>\n",
       "      <th>13191</th>\n",
       "      <td>1239513509</td>\n",
       "      <td>naufortelegram</td>\n",
       "      <td>Национальная ассоциация участников фондового р...</td>\n",
       "      <td>1871</td>\n",
       "      <td>NaN</td>\n",
       "      <td>Национальная ассоциация участников фондового р...</td>\n",
       "    </tr>\n",
       "    <tr>\n",
       "      <th>13192</th>\n",
       "      <td>1962245308</td>\n",
       "      <td>Kuturchin</td>\n",
       "      <td>База отдыха Кутурчин-Центр</td>\n",
       "      <td>232</td>\n",
       "      <td>742.0</td>\n",
       "      <td></td>\n",
       "    </tr>\n",
       "    <tr>\n",
       "      <th>13193</th>\n",
       "      <td>1946640655</td>\n",
       "      <td>treshbanka</td>\n",
       "      <td>ЖЕСТЯНКА</td>\n",
       "      <td>114538</td>\n",
       "      <td>171.0</td>\n",
       "      <td>Весь трэш, экшн, хайп и sex 🔞\\n\\nГлавный: @fre...</td>\n",
       "    </tr>\n",
       "  </tbody>\n",
       "</table>\n",
       "<p>13194 rows × 6 columns</p>\n",
       "</div>"
      ],
      "text/plain": [
       "               id              name  \\\n",
       "0      1097289882        medicalksu   \n",
       "1      1203719412            ngised   \n",
       "2      1336205252     TolmacChannel   \n",
       "3      1742423071          kobzevii   \n",
       "4      1362285551            vlgsud   \n",
       "...           ...               ...   \n",
       "13189  1901789788  Dekretnyeistorii   \n",
       "13190  1488393404         tre_kyrsk   \n",
       "13191  1239513509    naufortelegram   \n",
       "13192  1962245308         Kuturchin   \n",
       "13193  1946640655        treshbanka   \n",
       "\n",
       "                                                   title  participants  \\\n",
       "0                                            Medical Ксю         12026   \n",
       "1                                            Design Porn         10048   \n",
       "2                                         Tolmaç Channel           445   \n",
       "3                                         #кобзевнасвязи         54831   \n",
       "4      Объединенная пресс-служба судов Волгоградской ...          1659   \n",
       "...                                                  ...           ...   \n",
       "13189                         По с(д)екрету всему свету🙈           784   \n",
       "13190                            Тревожный Курск | Суджа         38208   \n",
       "13191  Национальная ассоциация участников фондового р...          1871   \n",
       "13192                         База отдыха Кутурчин-Центр           232   \n",
       "13193                                           ЖЕСТЯНКА        114538   \n",
       "\n",
       "       last_pinned_msg_id                                              about  \n",
       "0                  5335.0  Канал о цифровых технологиях в здравоохранении...  \n",
       "1                     NaN                                                     \n",
       "2                   124.0  Group of @TolmacBot\\nChat @tolmacchat\\nContact...  \n",
       "3                  9078.0  Официальный канал Губернатора Иркутской област...  \n",
       "4                  2520.0                                                     \n",
       "...                   ...                                                ...  \n",
       "13189                 NaN  Привет✌🏼ты зашла в Мой маленький личный дневни...  \n",
       "13190              6708.0  Новости Курска и Курской области.\\n\\nПредложит...  \n",
       "13191                 NaN  Национальная ассоциация участников фондового р...  \n",
       "13192               742.0                                                     \n",
       "13193               171.0  Весь трэш, экшн, хайп и sex 🔞\\n\\nГлавный: @fre...  \n",
       "\n",
       "[13194 rows x 6 columns]"
      ]
     },
     "execution_count": 27,
     "metadata": {},
     "output_type": "execute_result"
    }
   ],
   "source": [
    "channels"
   ]
  },
  {
   "cell_type": "code",
   "execution_count": 34,
   "metadata": {},
   "outputs": [
    {
     "data": {
      "text/plain": [
       "(177373, 63)"
      ]
     },
     "execution_count": 34,
     "metadata": {},
     "output_type": "execute_result"
    }
   ],
   "source": [
    "channels = channels[[\"id\", \"participants\", \"about\"]]\n",
    "\n",
    "basis_with_channels = (\n",
    "    pd.merge(\n",
    "        basis_with_meatadata,\n",
    "        channels,\n",
    "        left_on=\"channel_id\",\n",
    "        right_on=\"id\",\n",
    "        how=\"inner\",\n",
    "        suffixes=(\"\", \"_channels\")\n",
    "    )\n",
    ")\n",
    "\n",
    "basis_with_channels.shape"
   ]
  },
  {
   "cell_type": "markdown",
   "metadata": {},
   "source": [
    "# save"
   ]
  },
  {
   "cell_type": "code",
   "execution_count": 37,
   "metadata": {},
   "outputs": [
    {
     "name": "stdout",
     "output_type": "stream",
     "text": [
      "14.239390444755553\n"
     ]
    }
   ],
   "source": [
    "start = time.time()\n",
    "basis_with_channels.to_sql(\"final_basis\", schema=\"ml_house\", con=engine)\n",
    "print((time.time() - start)/60)"
   ]
  }
 ],
 "metadata": {
  "kernelspec": {
   "display_name": ".venv",
   "language": "python",
   "name": "python3"
  },
  "language_info": {
   "codemirror_mode": {
    "name": "ipython",
    "version": 3
   },
   "file_extension": ".py",
   "mimetype": "text/x-python",
   "name": "python",
   "nbconvert_exporter": "python",
   "pygments_lexer": "ipython3",
   "version": "3.12.0"
  }
 },
 "nbformat": 4,
 "nbformat_minor": 2
}

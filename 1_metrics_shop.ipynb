{
 "cells": [
  {
   "cell_type": "code",
   "execution_count": 1,
   "metadata": {},
   "outputs": [
    {
     "data": {
      "text/plain": [
       "True"
      ]
     },
     "execution_count": 1,
     "metadata": {},
     "output_type": "execute_result"
    }
   ],
   "source": [
    "import os\n",
    "import time\n",
    "import numpy as np\n",
    "import pandas as pd \n",
    "from dotenv import load_dotenv\n",
    "\n",
    "from sqlalchemy import create_engine, inspect\n",
    "load_dotenv('./.env')"
   ]
  },
  {
   "cell_type": "code",
   "execution_count": 2,
   "metadata": {},
   "outputs": [
    {
     "data": {
      "text/plain": [
       "['information_schema', 'ml_house', 'parse', 'public']"
      ]
     },
     "execution_count": 2,
     "metadata": {},
     "output_type": "execute_result"
    }
   ],
   "source": [
    "DB_IP = os.environ.get(\"DB_IP\")\n",
    "DB_PORT = os.environ.get(\"DB_PORT\")\n",
    "DB_NAME = os.environ.get(\"DB_NAME\")\n",
    "DB_USER = os.environ.get(\"DB_USER\")\n",
    "DB_PASSWORD = os.environ.get(\"DB_PASSWORD\")\n",
    "\n",
    "url = f\"postgresql://{DB_USER}:{DB_PASSWORD}@{DB_IP}:{DB_PORT}/{DB_NAME}\"\n",
    "engine = create_engine(url)\n",
    "inspector = inspect(engine)\n",
    "\n",
    "inspector.get_schema_names()"
   ]
  },
  {
   "cell_type": "code",
   "execution_count": 3,
   "metadata": {},
   "outputs": [
    {
     "name": "stdout",
     "output_type": "stream",
     "text": [
      "10.326252210140229\n"
     ]
    }
   ],
   "source": [
    "start = time.time()\n",
    "\n",
    "metrics = pd.read_sql_table(\"posts_metrics\", schema=\"parse\", con=engine)\n",
    "\n",
    "print((time.time() - start)/60)"
   ]
  },
  {
   "cell_type": "code",
   "execution_count": 4,
   "metadata": {},
   "outputs": [
    {
     "data": {
      "text/html": [
       "<div>\n",
       "<style scoped>\n",
       "    .dataframe tbody tr th:only-of-type {\n",
       "        vertical-align: middle;\n",
       "    }\n",
       "\n",
       "    .dataframe tbody tr th {\n",
       "        vertical-align: top;\n",
       "    }\n",
       "\n",
       "    .dataframe thead th {\n",
       "        text-align: right;\n",
       "    }\n",
       "</style>\n",
       "<table border=\"1\" class=\"dataframe\">\n",
       "  <thead>\n",
       "    <tr style=\"text-align: right;\">\n",
       "      <th></th>\n",
       "      <th>id</th>\n",
       "      <th>views</th>\n",
       "      <th>forwards</th>\n",
       "      <th>comments</th>\n",
       "      <th>paid_reactions</th>\n",
       "      <th>standard_reactions</th>\n",
       "      <th>custom_reactions</th>\n",
       "    </tr>\n",
       "  </thead>\n",
       "  <tbody>\n",
       "    <tr>\n",
       "      <th>3530776</th>\n",
       "      <td>5209785</td>\n",
       "      <td>69436.0</td>\n",
       "      <td>145.0</td>\n",
       "      <td>130.0</td>\n",
       "      <td>0</td>\n",
       "      <td>{'🔥': 2078, '🤪': 162, '❤': 125, '👍': 105, '🤣':...</td>\n",
       "      <td>{}</td>\n",
       "    </tr>\n",
       "    <tr>\n",
       "      <th>2205525</th>\n",
       "      <td>3876198</td>\n",
       "      <td>11265.0</td>\n",
       "      <td>14.0</td>\n",
       "      <td>25.0</td>\n",
       "      <td>0</td>\n",
       "      <td>{'👍': 27}</td>\n",
       "      <td>{}</td>\n",
       "    </tr>\n",
       "    <tr>\n",
       "      <th>9704313</th>\n",
       "      <td>11351330</td>\n",
       "      <td>9601.0</td>\n",
       "      <td>34.0</td>\n",
       "      <td>NaN</td>\n",
       "      <td>0</td>\n",
       "      <td>{'👍': 88, '🥴': 36, '❤': 8, '🤩': 5, '🥰': 4, '🤔'...</td>\n",
       "      <td>{}</td>\n",
       "    </tr>\n",
       "  </tbody>\n",
       "</table>\n",
       "</div>"
      ],
      "text/plain": [
       "               id    views  forwards  comments  paid_reactions  \\\n",
       "3530776   5209785  69436.0     145.0     130.0               0   \n",
       "2205525   3876198  11265.0      14.0      25.0               0   \n",
       "9704313  11351330   9601.0      34.0       NaN               0   \n",
       "\n",
       "                                        standard_reactions custom_reactions  \n",
       "3530776  {'🔥': 2078, '🤪': 162, '❤': 125, '👍': 105, '🤣':...               {}  \n",
       "2205525                                          {'👍': 27}               {}  \n",
       "9704313  {'👍': 88, '🥴': 36, '❤': 8, '🤩': 5, '🥰': 4, '🤔'...               {}  "
      ]
     },
     "execution_count": 4,
     "metadata": {},
     "output_type": "execute_result"
    }
   ],
   "source": [
    "metrics.sample(3)"
   ]
  },
  {
   "cell_type": "code",
   "execution_count": 6,
   "metadata": {},
   "outputs": [
    {
     "data": {
      "text/plain": [
       "{'🔥': 2078,\n",
       " '🤪': 162,\n",
       " '❤': 125,\n",
       " '👍': 105,\n",
       " '🤣': 33,\n",
       " '🤬': 25,\n",
       " '🌭': 24,\n",
       " '🌚': 22,\n",
       " '😐': 11,\n",
       " '😁': 10,\n",
       " '💘': 9}"
      ]
     },
     "execution_count": 6,
     "metadata": {},
     "output_type": "execute_result"
    }
   ],
   "source": [
    "metrics.standard_reactions.iloc[3530776]"
   ]
  },
  {
   "cell_type": "code",
   "execution_count": 7,
   "metadata": {},
   "outputs": [
    {
     "data": {
      "text/plain": [
       "(17544153, 7)"
      ]
     },
     "execution_count": 7,
     "metadata": {},
     "output_type": "execute_result"
    }
   ],
   "source": [
    "metrics.shape"
   ]
  },
  {
   "cell_type": "markdown",
   "metadata": {},
   "source": [
    "# Feature engineering"
   ]
  },
  {
   "cell_type": "code",
   "execution_count": 8,
   "metadata": {},
   "outputs": [],
   "source": [
    "metrics[\"sum_standard_reactions\"] = metrics.standard_reactions.apply(lambda x: sum(x.values()))\n",
    "metrics[\"sum_custom_reactions\"] = metrics.custom_reactions.apply(lambda x: sum(x.values()))\n",
    "metrics[\"total_sum_reactions\"] = metrics[\"sum_standard_reactions\"] + metrics[\"sum_custom_reactions\"]"
   ]
  },
  {
   "cell_type": "code",
   "execution_count": 9,
   "metadata": {},
   "outputs": [
    {
     "data": {
      "text/plain": [
       "👍      6510340\n",
       "❤      5793166\n",
       "🔥      3874934\n",
       "😁      1652689\n",
       "👎      1421439\n",
       "❤‍🔥    1296481\n",
       "👏      1249224\n",
       "🤔       867314\n",
       "😢       761499\n",
       "🥰       754676\n",
       "Name: count, dtype: int64"
      ]
     },
     "execution_count": 9,
     "metadata": {},
     "output_type": "execute_result"
    }
   ],
   "source": [
    "top_reactions = (\n",
    "    pd.Series(\n",
    "        [key for line in metrics.standard_reactions for key in line.keys()] \n",
    "    )\n",
    "    .value_counts(ascending=False)\n",
    ")\n",
    "\n",
    "top_reactions.head(10)"
   ]
  },
  {
   "cell_type": "code",
   "execution_count": 12,
   "metadata": {},
   "outputs": [
    {
     "name": "stdout",
     "output_type": "stream",
     "text": [
      "['👍', '❤', '🔥', '😁', '👎']\n"
     ]
    }
   ],
   "source": [
    "k = 5\n",
    "top_k_reactions = list(top_reactions.index[:k])\n",
    "print(top_k_reactions)"
   ]
  },
  {
   "cell_type": "code",
   "execution_count": 13,
   "metadata": {},
   "outputs": [
    {
     "data": {
      "text/plain": [
       "{'good_finger': '👍', 'heart': '❤', 'fire': '🔥', 'fun': '😁', 'bad_finger': '👎'}"
      ]
     },
     "execution_count": 13,
     "metadata": {},
     "output_type": "execute_result"
    }
   ],
   "source": [
    "map_names = [\"good_finger\", \"heart\", \"fire\", \"fun\", \"bad_finger\"]\n",
    "mapping = {k: v for k,v in zip(map_names, top_k_reactions)}\n",
    "mapping"
   ]
  },
  {
   "cell_type": "code",
   "execution_count": 14,
   "metadata": {},
   "outputs": [],
   "source": [
    "def get_good_finger(x):\n",
    "\n",
    "    if mapping['good_finger'] in x.keys():\n",
    "        return x[mapping['good_finger']]\n",
    "    \n",
    "    else: return 0 \n",
    "    \n",
    "def get_heart(x):\n",
    "\n",
    "    if mapping['heart'] in x.keys():\n",
    "        return x[mapping['heart']]\n",
    "    \n",
    "    else: return 0 \n",
    "\n",
    "def get_fire(x):\n",
    "\n",
    "    if mapping['fire'] in x.keys():\n",
    "        return x[mapping['fire']]\n",
    "    \n",
    "    else: return 0 \n",
    "\n",
    "def get_fun(x):\n",
    "\n",
    "    if mapping['fun'] in x.keys():\n",
    "        return x[mapping['fun']]\n",
    "    \n",
    "    else: return 0 \n",
    "\n",
    "def get_bad_finger(x):\n",
    "\n",
    "    if mapping['bad_finger'] in x.keys():\n",
    "        return x[mapping['bad_finger']]\n",
    "    \n",
    "    else: return 0 "
   ]
  },
  {
   "cell_type": "code",
   "execution_count": 15,
   "metadata": {},
   "outputs": [
    {
     "data": {
      "text/html": [
       "<div>\n",
       "<style scoped>\n",
       "    .dataframe tbody tr th:only-of-type {\n",
       "        vertical-align: middle;\n",
       "    }\n",
       "\n",
       "    .dataframe tbody tr th {\n",
       "        vertical-align: top;\n",
       "    }\n",
       "\n",
       "    .dataframe thead th {\n",
       "        text-align: right;\n",
       "    }\n",
       "</style>\n",
       "<table border=\"1\" class=\"dataframe\">\n",
       "  <thead>\n",
       "    <tr style=\"text-align: right;\">\n",
       "      <th></th>\n",
       "      <th>id</th>\n",
       "      <th>views</th>\n",
       "      <th>forwards</th>\n",
       "      <th>comments</th>\n",
       "      <th>paid_reactions</th>\n",
       "      <th>standard_reactions</th>\n",
       "      <th>custom_reactions</th>\n",
       "      <th>sum_standard_reactions</th>\n",
       "      <th>sum_custom_reactions</th>\n",
       "      <th>total_sum_reactions</th>\n",
       "      <th>good_finger</th>\n",
       "      <th>heart</th>\n",
       "      <th>fire</th>\n",
       "      <th>fun</th>\n",
       "      <th>bad_finger</th>\n",
       "    </tr>\n",
       "  </thead>\n",
       "  <tbody>\n",
       "    <tr>\n",
       "      <th>6781969</th>\n",
       "      <td>8450431</td>\n",
       "      <td>143.0</td>\n",
       "      <td>0.0</td>\n",
       "      <td>NaN</td>\n",
       "      <td>0</td>\n",
       "      <td>{}</td>\n",
       "      <td>{}</td>\n",
       "      <td>0</td>\n",
       "      <td>0</td>\n",
       "      <td>0</td>\n",
       "      <td>0</td>\n",
       "      <td>0</td>\n",
       "      <td>0</td>\n",
       "      <td>0</td>\n",
       "      <td>0</td>\n",
       "    </tr>\n",
       "  </tbody>\n",
       "</table>\n",
       "</div>"
      ],
      "text/plain": [
       "              id  views  forwards  comments  paid_reactions  \\\n",
       "6781969  8450431  143.0       0.0       NaN               0   \n",
       "\n",
       "        standard_reactions custom_reactions  sum_standard_reactions  \\\n",
       "6781969                 {}               {}                       0   \n",
       "\n",
       "         sum_custom_reactions  total_sum_reactions  good_finger  heart  fire  \\\n",
       "6781969                     0                    0            0      0     0   \n",
       "\n",
       "         fun  bad_finger  \n",
       "6781969    0           0  "
      ]
     },
     "execution_count": 15,
     "metadata": {},
     "output_type": "execute_result"
    }
   ],
   "source": [
    "metrics[\"good_finger\"] = metrics.standard_reactions.map(get_good_finger)\n",
    "metrics[\"heart\"] = metrics.standard_reactions.map(get_heart)\n",
    "metrics[\"fire\"] = metrics.standard_reactions.map(get_fire)\n",
    "metrics[\"fun\"] = metrics.standard_reactions.map(get_fun)\n",
    "metrics[\"bad_finger\"] = metrics.standard_reactions.map(get_bad_finger)\n",
    "\n",
    "metrics.sample()"
   ]
  },
  {
   "cell_type": "code",
   "execution_count": 16,
   "metadata": {},
   "outputs": [
    {
     "data": {
      "text/html": [
       "<div>\n",
       "<style scoped>\n",
       "    .dataframe tbody tr th:only-of-type {\n",
       "        vertical-align: middle;\n",
       "    }\n",
       "\n",
       "    .dataframe tbody tr th {\n",
       "        vertical-align: top;\n",
       "    }\n",
       "\n",
       "    .dataframe thead th {\n",
       "        text-align: right;\n",
       "    }\n",
       "</style>\n",
       "<table border=\"1\" class=\"dataframe\">\n",
       "  <thead>\n",
       "    <tr style=\"text-align: right;\">\n",
       "      <th></th>\n",
       "      <th>id</th>\n",
       "      <th>views</th>\n",
       "      <th>forwards</th>\n",
       "      <th>comments</th>\n",
       "      <th>paid_reactions</th>\n",
       "      <th>standard_reactions</th>\n",
       "      <th>custom_reactions</th>\n",
       "      <th>sum_standard_reactions</th>\n",
       "      <th>sum_custom_reactions</th>\n",
       "      <th>total_sum_reactions</th>\n",
       "      <th>good_finger</th>\n",
       "      <th>heart</th>\n",
       "      <th>fire</th>\n",
       "      <th>fun</th>\n",
       "      <th>bad_finger</th>\n",
       "      <th>total_activites</th>\n",
       "    </tr>\n",
       "  </thead>\n",
       "  <tbody>\n",
       "    <tr>\n",
       "      <th>4366893</th>\n",
       "      <td>6037630</td>\n",
       "      <td>7144.0</td>\n",
       "      <td>14.0</td>\n",
       "      <td>NaN</td>\n",
       "      <td>0</td>\n",
       "      <td>{}</td>\n",
       "      <td>{}</td>\n",
       "      <td>0</td>\n",
       "      <td>0</td>\n",
       "      <td>0</td>\n",
       "      <td>0</td>\n",
       "      <td>0</td>\n",
       "      <td>0</td>\n",
       "      <td>0</td>\n",
       "      <td>0</td>\n",
       "      <td>NaN</td>\n",
       "    </tr>\n",
       "  </tbody>\n",
       "</table>\n",
       "</div>"
      ],
      "text/plain": [
       "              id   views  forwards  comments  paid_reactions  \\\n",
       "4366893  6037630  7144.0      14.0       NaN               0   \n",
       "\n",
       "        standard_reactions custom_reactions  sum_standard_reactions  \\\n",
       "4366893                 {}               {}                       0   \n",
       "\n",
       "         sum_custom_reactions  total_sum_reactions  good_finger  heart  fire  \\\n",
       "4366893                     0                    0            0      0     0   \n",
       "\n",
       "         fun  bad_finger  total_activites  \n",
       "4366893    0           0              NaN  "
      ]
     },
     "execution_count": 16,
     "metadata": {},
     "output_type": "execute_result"
    }
   ],
   "source": [
    "metrics[\"total_activites\"] = metrics[\"forwards\"] + metrics[\"comments\"] + metrics[\"paid_reactions\"] + metrics[\"sum_custom_reactions\"]\n",
    "metrics.sample()"
   ]
  },
  {
   "cell_type": "markdown",
   "metadata": {},
   "source": [
    "# relative features"
   ]
  },
  {
   "cell_type": "code",
   "execution_count": 17,
   "metadata": {},
   "outputs": [],
   "source": [
    "cols = list(set(metrics.columns) - set([\"id\", \"views\", \"standard_reactions\", \"custom_reactions\"]))\n",
    "\n",
    "for x in cols: \n",
    "    metrics[f\"relative_{x}\"] = metrics[x].fillna(0) / metrics[\"views\"]"
   ]
  },
  {
   "cell_type": "code",
   "execution_count": 18,
   "metadata": {},
   "outputs": [],
   "source": [
    "metrics.to_csv(\"../data/metrics_fe.csv\", index=False)"
   ]
  },
  {
   "cell_type": "markdown",
   "metadata": {},
   "source": [
    "# restart kernel, clean ram for saving"
   ]
  },
  {
   "cell_type": "code",
   "execution_count": 22,
   "metadata": {},
   "outputs": [
    {
     "data": {
      "text/plain": [
       "True"
      ]
     },
     "execution_count": 22,
     "metadata": {},
     "output_type": "execute_result"
    }
   ],
   "source": [
    "import os\n",
    "import time\n",
    "import numpy as np\n",
    "import pandas as pd \n",
    "from dotenv import load_dotenv\n",
    "\n",
    "from sqlalchemy import create_engine, inspect\n",
    "load_dotenv('./.env')"
   ]
  },
  {
   "cell_type": "code",
   "execution_count": 23,
   "metadata": {},
   "outputs": [],
   "source": [
    "DB_IP = os.environ.get(\"DB_IP\")\n",
    "DB_PORT = os.environ.get(\"DB_PORT\")\n",
    "DB_NAME = os.environ.get(\"DB_NAME\")\n",
    "DB_USER = os.environ.get(\"DB_USER\")\n",
    "DB_PASSWORD = os.environ.get(\"DB_PASSWORD\")\n",
    "\n",
    "url = f\"postgresql://{DB_USER}:{DB_PASSWORD}@{DB_IP}:{DB_PORT}/{DB_NAME}\"\n",
    "engine = create_engine(url)\n",
    "inspector = inspect(engine)"
   ]
  },
  {
   "cell_type": "code",
   "execution_count": 24,
   "metadata": {},
   "outputs": [],
   "source": [
    "metrics = pd.read_csv(\"../data/metrics_fe.csv\")"
   ]
  },
  {
   "cell_type": "code",
   "execution_count": 25,
   "metadata": {},
   "outputs": [
    {
     "name": "stdout",
     "output_type": "stream",
     "text": [
      "0.5906165242195129\n"
     ]
    }
   ],
   "source": [
    "start = time.time()\n",
    "basis_ad = pd.read_sql_table(\"ad_basis\", schema=\"ml_house\", con=engine)\n",
    "print((time.time() - start)/60)"
   ]
  },
  {
   "cell_type": "code",
   "execution_count": 26,
   "metadata": {},
   "outputs": [
    {
     "data": {
      "text/plain": [
       "(numpy.int64, numpy.int64)"
      ]
     },
     "execution_count": 26,
     "metadata": {},
     "output_type": "execute_result"
    }
   ],
   "source": [
    "type(basis_ad.id.iloc[0]), type(metrics.id.iloc[0])"
   ]
  },
  {
   "cell_type": "code",
   "execution_count": 27,
   "metadata": {},
   "outputs": [
    {
     "data": {
      "text/plain": [
       "(177373, 45)"
      ]
     },
     "execution_count": 27,
     "metadata": {},
     "output_type": "execute_result"
    }
   ],
   "source": [
    "basis_with_metrics = (\n",
    "    basis_ad\n",
    "    .merge(\n",
    "        metrics,\n",
    "        on=\"id\",\n",
    "        how=\"inner\"\n",
    "    )\n",
    ")\n",
    "\n",
    "basis_with_metrics.shape"
   ]
  },
  {
   "cell_type": "code",
   "execution_count": 28,
   "metadata": {},
   "outputs": [
    {
     "data": {
      "text/html": [
       "<div>\n",
       "<style scoped>\n",
       "    .dataframe tbody tr th:only-of-type {\n",
       "        vertical-align: middle;\n",
       "    }\n",
       "\n",
       "    .dataframe tbody tr th {\n",
       "        vertical-align: top;\n",
       "    }\n",
       "\n",
       "    .dataframe thead th {\n",
       "        text-align: right;\n",
       "    }\n",
       "</style>\n",
       "<table border=\"1\" class=\"dataframe\">\n",
       "  <thead>\n",
       "    <tr style=\"text-align: right;\">\n",
       "      <th></th>\n",
       "      <th>id</th>\n",
       "      <th>raw_text</th>\n",
       "      <th>urls</th>\n",
       "      <th>geo</th>\n",
       "      <th>poll</th>\n",
       "      <th>via_bot_id</th>\n",
       "      <th>via_business_bot_id</th>\n",
       "      <th>cnt_urls</th>\n",
       "      <th>target_flag1</th>\n",
       "      <th>target_flag2</th>\n",
       "      <th>...</th>\n",
       "      <th>relative_good_finger</th>\n",
       "      <th>relative_sum_custom_reactions</th>\n",
       "      <th>relative_forwards</th>\n",
       "      <th>relative_heart</th>\n",
       "      <th>relative_comments</th>\n",
       "      <th>relative_fun</th>\n",
       "      <th>relative_sum_standard_reactions</th>\n",
       "      <th>relative_bad_finger</th>\n",
       "      <th>relative_fire</th>\n",
       "      <th>relative_total_activites</th>\n",
       "    </tr>\n",
       "  </thead>\n",
       "  <tbody>\n",
       "    <tr>\n",
       "      <th>34806</th>\n",
       "      <td>11730553</td>\n",
       "      <td>💬СушиSell это про людей\\n\\nЕсли тебе близки це...</td>\n",
       "      <td>{https://t.me/+oQDVky2_lkozYWM6}</td>\n",
       "      <td>None</td>\n",
       "      <td>None</td>\n",
       "      <td>None</td>\n",
       "      <td>None</td>\n",
       "      <td>1</td>\n",
       "      <td>0</td>\n",
       "      <td>0</td>\n",
       "      <td>...</td>\n",
       "      <td>0.000642</td>\n",
       "      <td>0.0</td>\n",
       "      <td>0.002087</td>\n",
       "      <td>0.000000</td>\n",
       "      <td>0.00000</td>\n",
       "      <td>0.0</td>\n",
       "      <td>0.000642</td>\n",
       "      <td>0.000000</td>\n",
       "      <td>0.00000</td>\n",
       "      <td>0.000000</td>\n",
       "    </tr>\n",
       "    <tr>\n",
       "      <th>150612</th>\n",
       "      <td>4313027</td>\n",
       "      <td>erid: 5jtCeReNx12oajt4ZrEdVWg\\n\\nСмартфон Real...</td>\n",
       "      <td>{https://t.me/zakazhisam/47424,https://telegra...</td>\n",
       "      <td>None</td>\n",
       "      <td>None</td>\n",
       "      <td>None</td>\n",
       "      <td>None</td>\n",
       "      <td>2</td>\n",
       "      <td>0</td>\n",
       "      <td>0</td>\n",
       "      <td>...</td>\n",
       "      <td>0.000000</td>\n",
       "      <td>0.0</td>\n",
       "      <td>0.000000</td>\n",
       "      <td>0.000000</td>\n",
       "      <td>0.00000</td>\n",
       "      <td>0.0</td>\n",
       "      <td>0.000000</td>\n",
       "      <td>0.000000</td>\n",
       "      <td>0.00000</td>\n",
       "      <td>0.000000</td>\n",
       "    </tr>\n",
       "    <tr>\n",
       "      <th>66610</th>\n",
       "      <td>13871483</td>\n",
       "      <td>👼С Рождеством! \\n\\nЖелаем, чтобы в доме царили...</td>\n",
       "      <td>{https://bit.ly/3NFvR7O}</td>\n",
       "      <td>None</td>\n",
       "      <td>None</td>\n",
       "      <td>None</td>\n",
       "      <td>None</td>\n",
       "      <td>1</td>\n",
       "      <td>0</td>\n",
       "      <td>0</td>\n",
       "      <td>...</td>\n",
       "      <td>0.002051</td>\n",
       "      <td>0.0</td>\n",
       "      <td>0.000373</td>\n",
       "      <td>0.005695</td>\n",
       "      <td>0.00039</td>\n",
       "      <td>0.0</td>\n",
       "      <td>0.009628</td>\n",
       "      <td>0.000068</td>\n",
       "      <td>0.00061</td>\n",
       "      <td>0.000763</td>\n",
       "    </tr>\n",
       "  </tbody>\n",
       "</table>\n",
       "<p>3 rows × 45 columns</p>\n",
       "</div>"
      ],
      "text/plain": [
       "              id                                           raw_text  \\\n",
       "34806   11730553  💬СушиSell это про людей\\n\\nЕсли тебе близки це...   \n",
       "150612   4313027  erid: 5jtCeReNx12oajt4ZrEdVWg\\n\\nСмартфон Real...   \n",
       "66610   13871483  👼С Рождеством! \\n\\nЖелаем, чтобы в доме царили...   \n",
       "\n",
       "                                                     urls   geo  poll  \\\n",
       "34806                    {https://t.me/+oQDVky2_lkozYWM6}  None  None   \n",
       "150612  {https://t.me/zakazhisam/47424,https://telegra...  None  None   \n",
       "66610                            {https://bit.ly/3NFvR7O}  None  None   \n",
       "\n",
       "       via_bot_id via_business_bot_id  cnt_urls  target_flag1  target_flag2  \\\n",
       "34806        None                None         1             0             0   \n",
       "150612       None                None         2             0             0   \n",
       "66610        None                None         1             0             0   \n",
       "\n",
       "        ...  relative_good_finger  relative_sum_custom_reactions  \\\n",
       "34806   ...              0.000642                            0.0   \n",
       "150612  ...              0.000000                            0.0   \n",
       "66610   ...              0.002051                            0.0   \n",
       "\n",
       "        relative_forwards  relative_heart  relative_comments  relative_fun  \\\n",
       "34806            0.002087        0.000000            0.00000           0.0   \n",
       "150612           0.000000        0.000000            0.00000           0.0   \n",
       "66610            0.000373        0.005695            0.00039           0.0   \n",
       "\n",
       "        relative_sum_standard_reactions  relative_bad_finger  relative_fire  \\\n",
       "34806                          0.000642             0.000000        0.00000   \n",
       "150612                         0.000000             0.000000        0.00000   \n",
       "66610                          0.009628             0.000068        0.00061   \n",
       "\n",
       "        relative_total_activites  \n",
       "34806                   0.000000  \n",
       "150612                  0.000000  \n",
       "66610                   0.000763  \n",
       "\n",
       "[3 rows x 45 columns]"
      ]
     },
     "execution_count": 28,
     "metadata": {},
     "output_type": "execute_result"
    }
   ],
   "source": [
    "basis_with_metrics.sample(3)"
   ]
  },
  {
   "cell_type": "code",
   "execution_count": 30,
   "metadata": {},
   "outputs": [
    {
     "name": "stdout",
     "output_type": "stream",
     "text": [
      "27.12190844217936\n"
     ]
    }
   ],
   "source": [
    "start = time.time()\n",
    "basis_with_metrics.to_sql(\"basis_with_metrics\", schema=\"ml_house\", con=engine)\n",
    "print((time.time() - start)/60)"
   ]
  }
 ],
 "metadata": {
  "kernelspec": {
   "display_name": ".venv",
   "language": "python",
   "name": "python3"
  },
  "language_info": {
   "codemirror_mode": {
    "name": "ipython",
    "version": 3
   },
   "file_extension": ".py",
   "mimetype": "text/x-python",
   "name": "python",
   "nbconvert_exporter": "python",
   "pygments_lexer": "ipython3",
   "version": "3.12.0"
  }
 },
 "nbformat": 4,
 "nbformat_minor": 2
}

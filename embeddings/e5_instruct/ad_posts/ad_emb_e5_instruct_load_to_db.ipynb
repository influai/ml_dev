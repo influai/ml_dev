{
 "cells": [
  {
   "cell_type": "code",
   "execution_count": 44,
   "metadata": {},
   "outputs": [],
   "source": [
    "import os\n",
    "from contextlib import contextmanager\n",
    "\n",
    "import numpy as np\n",
    "from dotenv import load_dotenv\n",
    "from sqlalchemy import (\n",
    "    ARRAY,\n",
    "    BigInteger,\n",
    "    Column,\n",
    "    Float,\n",
    "    create_engine,\n",
    ")\n",
    "from sqlalchemy.orm import declarative_base, sessionmaker\n",
    "from tqdm import trange\n"
   ]
  },
  {
   "cell_type": "code",
   "execution_count": 45,
   "metadata": {},
   "outputs": [
    {
     "data": {
      "text/plain": [
       "True"
      ]
     },
     "execution_count": 45,
     "metadata": {},
     "output_type": "execute_result"
    }
   ],
   "source": [
    "load_dotenv()"
   ]
  },
  {
   "cell_type": "code",
   "execution_count": 46,
   "metadata": {},
   "outputs": [],
   "source": [
    "dbschema = \"embeddings\"\n",
    "engine = create_engine(\n",
    "    f\"postgresql://{os.getenv(\"DB_USER\")}:{os.getenv(\"DB_PASSWORD\")}@{os.getenv(\"DB_IP\")}:{os.getenv(\"DB_PORT\")}/{os.getenv(\"DB_NAME\")}\",\n",
    "    connect_args={\n",
    "        \"options\": f\"-csearch_path={dbschema}\"\n",
    "        # The parameters below have been proposed to try to eliminate `dead` sessions for scrapers\n",
    "        + \" -c statement_timeout=100s\"\n",
    "        + \" -c lock_timeout=100s\"\n",
    "        + \" -c idle_in_transaction_session_timeout=100s\"\n",
    "        + \" -c idle_session_timeout=100s\"\n",
    "    },\n",
    "    pool_pre_ping=True,\n",
    "    pool_recycle=100,  # prevent the pool from using a particular connection that has passed a certain age (in sec)\n",
    ")\n",
    "\n",
    "Session = sessionmaker(engine)\n",
    "\n",
    "\n",
    "@contextmanager\n",
    "def get_database_session():\n",
    "    \"\"\"\n",
    "    Provide a transactional scope around a series of operations.\n",
    "    \"\"\"\n",
    "    session = Session()\n",
    "    try:\n",
    "        yield session\n",
    "        session.commit()\n",
    "    except Exception:\n",
    "        session.rollback()\n",
    "        raise\n",
    "    finally:\n",
    "        session.close()"
   ]
  },
  {
   "cell_type": "code",
   "execution_count": 47,
   "metadata": {},
   "outputs": [],
   "source": [
    "Base = declarative_base()\n",
    "\n",
    "\n",
    "class AdPosts(Base):\n",
    "    __tablename__ = \"ad_emb\"\n",
    "    __table_args__ = {\"comment\": \"Table to store embeddings for ads posts\"}\n",
    "\n",
    "    id = Column(\n",
    "        BigInteger,\n",
    "        primary_key=True,\n",
    "        comment=\"Unique post ID, which correcponds to parse.posts_metadata.id\",\n",
    "    )\n",
    "    emb_e5_instruct_01 = Column(\n",
    "        ARRAY(Float),\n",
    "        nullable=False,\n",
    "        comment=\"Embedding created using `intfloat/multilingual-e5-large-instruct` with prompt-01.\",\n",
    "    )\n",
    "\n",
    "\n",
    "Base.metadata.create_all(engine, checkfirst=True)"
   ]
  },
  {
   "cell_type": "code",
   "execution_count": 48,
   "metadata": {},
   "outputs": [],
   "source": [
    "ids = np.load(\"/home/deniskirbaba/Documents/influai-data/embeddings/ids_ad_emb_t5_instruct.npy\")\n",
    "emb = np.load(\"/home/deniskirbaba/Documents/influai-data/embeddings/ad_emb_t5_instruct.npy\")"
   ]
  },
  {
   "cell_type": "code",
   "execution_count": 49,
   "metadata": {},
   "outputs": [
    {
     "data": {
      "text/plain": [
       "((177373,), (177373, 1024), dtype('float32'))"
      ]
     },
     "execution_count": 49,
     "metadata": {},
     "output_type": "execute_result"
    }
   ],
   "source": [
    "ids.shape, emb.shape, emb.dtype"
   ]
  },
  {
   "cell_type": "code",
   "execution_count": 51,
   "metadata": {},
   "outputs": [
    {
     "name": "stderr",
     "output_type": "stream",
     "text": [
      "100%|██████████| 1774/1774 [50:36<00:00,  1.71s/it] \n"
     ]
    }
   ],
   "source": [
    "BATCH_SIZE = 100\n",
    "\n",
    "for i in trange(0, len(ids), BATCH_SIZE):\n",
    "    objects = [\n",
    "        AdPosts(id=int(id), emb_e5_instruct_01=np_emb.tolist())\n",
    "        for id, np_emb in zip(ids[i : i + BATCH_SIZE], emb[i : i + BATCH_SIZE])\n",
    "    ]\n",
    "    with get_database_session() as db_session:\n",
    "        db_session.add_all(objects)"
   ]
  }
 ],
 "metadata": {
  "kernelspec": {
   "display_name": "influai-emb",
   "language": "python",
   "name": "python3"
  },
  "language_info": {
   "codemirror_mode": {
    "name": "ipython",
    "version": 3
   },
   "file_extension": ".py",
   "mimetype": "text/x-python",
   "name": "python",
   "nbconvert_exporter": "python",
   "pygments_lexer": "ipython3",
   "version": "3.12.8"
  }
 },
 "nbformat": 4,
 "nbformat_minor": 2
}

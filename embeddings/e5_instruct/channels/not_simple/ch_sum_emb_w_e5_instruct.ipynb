{
  "cells": [
    {
      "cell_type": "code",
      "execution_count": 1,
      "metadata": {
        "id": "OKjnPRyQe3SO",
        "outputId": "9674913d-4704-40f6-bedc-fee743bbada1",
        "colab": {
          "base_uri": "https://localhost:8080/"
        }
      },
      "outputs": [
        {
          "output_type": "stream",
          "name": "stdout",
          "text": [
            "\u001b[2K   \u001b[90m━━━━━━━━━━━━━━━━━━━━━━━━━━━━━━━━━━━━━━━━\u001b[0m \u001b[32m36.4/36.4 MB\u001b[0m \u001b[31m47.6 MB/s\u001b[0m eta \u001b[36m0:00:00\u001b[0m\n",
            "\u001b[?25h"
          ]
        }
      ],
      "source": [
        "%pip install -qU torch transformers polars"
      ]
    },
    {
      "cell_type": "code",
      "source": [
        "from google.colab import drive\n",
        "drive.mount('/content/drive')"
      ],
      "metadata": {
        "colab": {
          "base_uri": "https://localhost:8080/"
        },
        "id": "saA8oKg8gVOq",
        "outputId": "9127eaf5-6597-42e5-9272-39011910dd67"
      },
      "execution_count": 2,
      "outputs": [
        {
          "output_type": "stream",
          "name": "stdout",
          "text": [
            "Mounted at /content/drive\n"
          ]
        }
      ]
    },
    {
      "cell_type": "code",
      "execution_count": 6,
      "metadata": {
        "id": "blgUVO30e3SR"
      },
      "outputs": [],
      "source": [
        "from pathlib import Path\n",
        "import polars as pl\n",
        "import numpy as np\n",
        "import matplotlib.pyplot as plt\n",
        "import torch\n",
        "import json\n",
        "import torch.nn.functional as F\n",
        "from torch import Tensor\n",
        "from tqdm import tqdm, trange\n",
        "import pickle\n",
        "from transformers import AutoTokenizer, AutoModel"
      ]
    },
    {
      "cell_type": "code",
      "execution_count": 4,
      "metadata": {
        "id": "4eOiCjm9e3SR",
        "outputId": "4dbfeaef-e5d3-4d35-efbb-4efda5d45d0a",
        "colab": {
          "base_uri": "https://localhost:8080/"
        }
      },
      "outputs": [
        {
          "output_type": "execute_result",
          "data": {
            "text/plain": [
              "device(type='cuda')"
            ]
          },
          "metadata": {},
          "execution_count": 4
        }
      ],
      "source": [
        "device = torch.device('cuda' if torch.cuda.is_available() else 'cpu')\n",
        "device"
      ]
    },
    {
      "cell_type": "markdown",
      "metadata": {
        "id": "omYBMnsse3SS"
      },
      "source": [
        "## Load data"
      ]
    },
    {
      "cell_type": "markdown",
      "source": [
        "### Summaries"
      ],
      "metadata": {
        "id": "mskll8I9NS_k"
      }
    },
    {
      "cell_type": "code",
      "source": [
        "SUMMARIES_FOLDER = Path(\"/content/drive/MyDrive/Telegram Marketing/Embeddings/channels/not_simple/ad_prev_summaries/\")\n",
        "\n",
        "summaries = {}\n",
        "for batch_path in tqdm(Path(SUMMARIES_FOLDER).iterdir()):\n",
        "    with open(batch_path, \"r\") as f:\n",
        "        summaries.update(json.load(f))\n",
        "\n",
        "len(summaries)"
      ],
      "metadata": {
        "colab": {
          "base_uri": "https://localhost:8080/"
        },
        "id": "kaA21jBUMOLe",
        "outputId": "04953584-2c36-407b-8a01-d8175eda42af"
      },
      "execution_count": 28,
      "outputs": [
        {
          "output_type": "stream",
          "name": "stderr",
          "text": [
            "62it [00:26,  2.33it/s]\n"
          ]
        },
        {
          "output_type": "execute_result",
          "data": {
            "text/plain": [
              "310"
            ]
          },
          "metadata": {},
          "execution_count": 28
        }
      ]
    },
    {
      "cell_type": "code",
      "source": [
        "next(iter(summaries.items()))"
      ],
      "metadata": {
        "colab": {
          "base_uri": "https://localhost:8080/"
        },
        "id": "S10TEl7iM4qn",
        "outputId": "4bcd21cf-d6bc-4bdc-b50f-beeb57dcb7c0"
      },
      "execution_count": 29,
      "outputs": [
        {
          "output_type": "execute_result",
          "data": {
            "text/plain": [
              "('3857852',\n",
              " '1. Тематика канала: финансы, инвестиции, фондовый рынок.\\n2. Тональность контента: формальная, образовательная, аналитическая.\\n3. Целевая аудитория: взрослые люди, преимущественно мужчины, интересующиеся инвестициями и фондовым рынком, финансовые аналитики и трейдеры.\\n4. Общий стиль подачи информации: аналитические и информативные посты, содержащие данные и прогнозы, короткие и ёмкие сообщения с актуальной информацией.')"
            ]
          },
          "metadata": {},
          "execution_count": 29
        }
      ]
    },
    {
      "cell_type": "markdown",
      "source": [
        "### Channel description"
      ],
      "metadata": {
        "id": "xJnL3PCONVBw"
      }
    },
    {
      "cell_type": "code",
      "execution_count": 30,
      "metadata": {
        "id": "fRjo-kwRe3SS",
        "outputId": "8c68c209-db6f-4b9e-bdd1-60fc6a09113e",
        "colab": {
          "base_uri": "https://localhost:8080/",
          "height": 443
        }
      },
      "outputs": [
        {
          "output_type": "execute_result",
          "data": {
            "text/plain": [
              "shape: (26_782, 3)\n",
              "┌────────────┬─────────────────────────────────┬─────────────────────────────────┐\n",
              "│ id         ┆ title                           ┆ about                           │\n",
              "│ ---        ┆ ---                             ┆ ---                             │\n",
              "│ i64        ┆ str                             ┆ str                             │\n",
              "╞════════════╪═════════════════════════════════╪═════════════════════════════════╡\n",
              "│ 1097289882 ┆ Medical Ксю                     ┆ Канал о цифровых технологиях в… │\n",
              "│ 1203719412 ┆ Design Porn                     ┆                                 │\n",
              "│ 1336205252 ┆ Tolmaç Channel                  ┆ Group of @TolmacBot             │\n",
              "│            ┆                                 ┆ Chat @tolm…                     │\n",
              "│ 1906656409 ┆ Gaimin Gladiators               ┆                                 │\n",
              "│ 1785605454 ┆ Антон Архипов | Про инфобиз     ┆ Про проекты и работу команды. … │\n",
              "│ …          ┆ …                               ┆ …                               │\n",
              "│ 1667226149 ┆ 🐈Calico Cat🐈‍⬛                  ┆ Мяукаю                          │\n",
              "│ 2223746475 ┆ аушня от малого❄⛄              ┆ 🦔🍂🦔                          │\n",
              "│            ┆                                 ┆ анон - @navimmilBot             │\n",
              "│            ┆                                 ┆ с вонк…                         │\n",
              "│ 1447537721 ┆ Sun above my head|| Кеметизм    ┆ +18, рекламы нет                │\n",
              "│            ┆                                 ┆ Под солнцем в…                  │\n",
              "│ 1646699325 ┆ Лаборатория ненужных вещей: «с… ┆ 15 семинаров, посвященных древ… │\n",
              "│ 1910542558 ┆ ♣️𝙲𝚊𝚛𝚜 𝚂𝚙𝚘𝚝𝚝𝚎𝚛-𝚃𝚞𝚕𝚊♣️           ┆ •iphone 15 pro🥷                │\n",
              "│            ┆                                 ┆                                 │\n",
              "│            ┆                                 ┆ •авторский к…                   │\n",
              "└────────────┴─────────────────────────────────┴─────────────────────────────────┘"
            ],
            "text/html": [
              "<div><style>\n",
              ".dataframe > thead > tr,\n",
              ".dataframe > tbody > tr {\n",
              "  text-align: right;\n",
              "  white-space: pre-wrap;\n",
              "}\n",
              "</style>\n",
              "<small>shape: (26_782, 3)</small><table border=\"1\" class=\"dataframe\"><thead><tr><th>id</th><th>title</th><th>about</th></tr><tr><td>i64</td><td>str</td><td>str</td></tr></thead><tbody><tr><td>1097289882</td><td>&quot;Medical Ксю&quot;</td><td>&quot;Канал о цифровых технологиях в…</td></tr><tr><td>1203719412</td><td>&quot;Design Porn&quot;</td><td>&quot;&quot;</td></tr><tr><td>1336205252</td><td>&quot;Tolmaç Channel&quot;</td><td>&quot;Group of @TolmacBot\n",
              "Chat @tolm…</td></tr><tr><td>1906656409</td><td>&quot;Gaimin Gladiators&quot;</td><td>&quot;&quot;</td></tr><tr><td>1785605454</td><td>&quot;Антон Архипов | Про инфобиз&quot;</td><td>&quot;Про проекты и работу команды. …</td></tr><tr><td>&hellip;</td><td>&hellip;</td><td>&hellip;</td></tr><tr><td>1667226149</td><td>&quot;🐈Calico Cat🐈‍⬛&quot;</td><td>&quot;Мяукаю&quot;</td></tr><tr><td>2223746475</td><td>&quot;аушня от малого❄⛄&quot;</td><td>&quot;🦔🍂🦔\n",
              "анон - @navimmilBot\n",
              "с вонк…</td></tr><tr><td>1447537721</td><td>&quot;Sun above my head|| Кеметизм&quot;</td><td>&quot;+18, рекламы нет\n",
              "Под солнцем в…</td></tr><tr><td>1646699325</td><td>&quot;Лаборатория ненужных вещей: «с…</td><td>&quot;15 семинаров, посвященных древ…</td></tr><tr><td>1910542558</td><td>&quot;♣️𝙲𝚊𝚛𝚜 𝚂𝚙𝚘𝚝𝚝𝚎𝚛-𝚃𝚞𝚕𝚊♣️&quot;</td><td>&quot;•iphone 15 pro🥷\n",
              " \n",
              "•авторский к…</td></tr></tbody></table></div>"
            ]
          },
          "metadata": {},
          "execution_count": 30
        }
      ],
      "source": [
        "ch_descr_path = Path(\"/content/drive/MyDrive/Telegram Marketing/Embeddings/channels/channels_data_for_emb.csv\")\n",
        "ch_descr = pl.read_csv(ch_descr_path)\n",
        "ch_descr.drop_in_place(\"last_pinned_msg_id\")\n",
        "ch_descr"
      ]
    },
    {
      "cell_type": "markdown",
      "source": [
        "### Ad posts metadata"
      ],
      "metadata": {
        "id": "32RrItNjN9tV"
      }
    },
    {
      "cell_type": "code",
      "source": [
        "ad_posts_meta = pl.read_csv(\"/content/drive/MyDrive/Telegram Marketing/Embeddings/ad_posts/ad_posts_meta.csv\")\n",
        "ad_posts_meta.drop_in_place(\"post_date\")\n",
        "ad_posts_meta"
      ],
      "metadata": {
        "colab": {
          "base_uri": "https://localhost:8080/",
          "height": 443
        },
        "id": "zaN0X2jTOBqc",
        "outputId": "204d2887-31b0-4ba4-eaab-4f195843f8c8"
      },
      "execution_count": 31,
      "outputs": [
        {
          "output_type": "execute_result",
          "data": {
            "text/plain": [
              "shape: (177_373, 2)\n",
              "┌─────────┬────────────┐\n",
              "│ id      ┆ channel_id │\n",
              "│ ---     ┆ ---        │\n",
              "│ i64     ┆ i64        │\n",
              "╞═════════╪════════════╡\n",
              "│ 6901405 ┆ 1229173666 │\n",
              "│ 6901333 ┆ 1229173666 │\n",
              "│ 6900679 ┆ 1229173666 │\n",
              "│ 6900562 ┆ 1229173666 │\n",
              "│ 6899803 ┆ 1229173666 │\n",
              "│ …       ┆ …          │\n",
              "│ 6902253 ┆ 1229173666 │\n",
              "│ 6902226 ┆ 1229173666 │\n",
              "│ 6902013 ┆ 1229173666 │\n",
              "│ 6901782 ┆ 1229173666 │\n",
              "│ 2753978 ┆ 1230128639 │\n",
              "└─────────┴────────────┘"
            ],
            "text/html": [
              "<div><style>\n",
              ".dataframe > thead > tr,\n",
              ".dataframe > tbody > tr {\n",
              "  text-align: right;\n",
              "  white-space: pre-wrap;\n",
              "}\n",
              "</style>\n",
              "<small>shape: (177_373, 2)</small><table border=\"1\" class=\"dataframe\"><thead><tr><th>id</th><th>channel_id</th></tr><tr><td>i64</td><td>i64</td></tr></thead><tbody><tr><td>6901405</td><td>1229173666</td></tr><tr><td>6901333</td><td>1229173666</td></tr><tr><td>6900679</td><td>1229173666</td></tr><tr><td>6900562</td><td>1229173666</td></tr><tr><td>6899803</td><td>1229173666</td></tr><tr><td>&hellip;</td><td>&hellip;</td></tr><tr><td>6902253</td><td>1229173666</td></tr><tr><td>6902226</td><td>1229173666</td></tr><tr><td>6902013</td><td>1229173666</td></tr><tr><td>6901782</td><td>1229173666</td></tr><tr><td>2753978</td><td>1230128639</td></tr></tbody></table></div>"
            ]
          },
          "metadata": {},
          "execution_count": 31
        }
      ]
    },
    {
      "cell_type": "markdown",
      "metadata": {
        "id": "3u1tvWz0e3ST"
      },
      "source": [
        "## Construct text for embeddings"
      ]
    },
    {
      "cell_type": "code",
      "source": [
        "stats = {\"ad_posts\": len(ad_posts_meta), \"about\": 0, \"summary\": 0}\n",
        "documents = []\n",
        "\n",
        "for ad_post_id, channel_id in tqdm(ad_posts_meta.iter_rows()):\n",
        "    _, title, about = ch_descr.row(by_predicate=(pl.col(\"id\") == channel_id))\n",
        "    summary = summaries.get(str(ad_post_id), None)\n",
        "\n",
        "    doc = f\"Название: {title}\"\n",
        "    if about:\n",
        "        stats[\"about\"] += 1\n",
        "        doc += f\"\\nОписание: {about}\"\n",
        "    if summary:\n",
        "        stats[\"summary\"] += 1\n",
        "        doc += f\"\\nХарактеристика контента: {summary}\"\n",
        "\n",
        "    documents.append(doc)"
      ],
      "metadata": {
        "colab": {
          "base_uri": "https://localhost:8080/"
        },
        "id": "P6wkODCBPE7o",
        "outputId": "b3c8fba3-c38e-4ccf-e5d5-94776374f507"
      },
      "execution_count": 35,
      "outputs": [
        {
          "output_type": "stream",
          "name": "stderr",
          "text": [
            "177373it [01:02, 2834.48it/s]\n"
          ]
        }
      ]
    },
    {
      "cell_type": "code",
      "source": [
        "# Analyze stats\n",
        "print(f\"\"\"ad posts = {stats['ad_posts']}, 100%\n",
        "about texts = {stats['about']}, {stats['about']/stats['ad_posts']*100}% of ad posts\n",
        "prev posts summaries = {stats['summary']}, {stats['summary']/stats['ad_posts']*100}% of ad posts\"\"\")"
      ],
      "metadata": {
        "colab": {
          "base_uri": "https://localhost:8080/"
        },
        "id": "GM2kvE61j7dq",
        "outputId": "8fba2785-dd17-4ebf-c26f-f8b41a73abee"
      },
      "execution_count": 36,
      "outputs": [
        {
          "output_type": "stream",
          "name": "stdout",
          "text": [
            "ad posts = 177373, 100%\n",
            "about texts = 176042, 99.24960394197538% of ad posts\n",
            "prev posts summaries = 310, 0.1747729361289486% of ad posts\n"
          ]
        }
      ]
    },
    {
      "cell_type": "code",
      "execution_count": 41,
      "metadata": {
        "id": "CmahXoC5e3ST",
        "outputId": "217a1231-1378-44ff-dbdd-729f5db17ec7",
        "colab": {
          "base_uri": "https://localhost:8080/"
        }
      },
      "outputs": [
        {
          "output_type": "stream",
          "name": "stdout",
          "text": [
            "Название: БКС Экспресс\n",
            "Описание: Официальный канал издания БКС Экспресс. Все об инвестициях: новости, аналитика, идеи и рекомендации. \n",
            "\n",
            "💻 Сайт: bcs-express.ru \n",
            "\n",
            "📱 Мобильное приложение БКС: https://s.bcs.ru/8mwl \n",
            "\n",
            "✉️ Для связи: ifs@bcs.ru\n",
            "Характеристика контента: 1. Тематика канала: финансы, инвестиции, фондовый рынок.\n",
            "2. Тональность контента: формальная, образовательная, аналитическая.\n",
            "3. Целевая аудитория: взрослые люди, преимущественно мужчины, интересующиеся инвестициями и фондовым рынком, финансовые аналитики и трейдеры.\n",
            "4. Общий стиль подачи информации: аналитические и информативные посты, содержащие данные и прогнозы, короткие и ёмкие сообщения с актуальной информацией.\n"
          ]
        }
      ],
      "source": [
        "# Print doc with prev posts summaries\n",
        "print(documents[ad_posts_meta.with_row_index().row(by_predicate=(pl.col(\"id\") == 3857852))[0]])"
      ]
    },
    {
      "cell_type": "code",
      "execution_count": 42,
      "metadata": {
        "id": "JfWaB2yCe3SU"
      },
      "outputs": [],
      "source": [
        "def get_detailed_instruct(task_description: str, query: str) -> str:\n",
        "    return f'Задача: {task_description}\\nДанные: {query}'"
      ]
    },
    {
      "cell_type": "code",
      "execution_count": 43,
      "metadata": {
        "id": "C8uXM9oBe3SU",
        "outputId": "7ab0a9b8-458c-46d6-d793-c6d96b69ec56",
        "colab": {
          "base_uri": "https://localhost:8080/"
        }
      },
      "outputs": [
        {
          "output_type": "stream",
          "name": "stderr",
          "text": [
            "100%|██████████| 177373/177373 [00:00<00:00, 693811.09it/s]\n"
          ]
        }
      ],
      "source": [
        "task = \"Проанализировав данные Telegram-канала (название, описание, характеристика контента), опиши его типичный профиль (тематика, аудитория, тон общения)\"\n",
        "\n",
        "input_texts = []\n",
        "for doc in tqdm(documents):\n",
        "    input_texts.append(get_detailed_instruct(task, doc))"
      ]
    },
    {
      "cell_type": "code",
      "execution_count": 44,
      "metadata": {
        "id": "nMlwIi7He3SU",
        "outputId": "bd3203df-26b9-4c9c-c5a3-2d7d7042bd91",
        "colab": {
          "base_uri": "https://localhost:8080/"
        }
      },
      "outputs": [
        {
          "output_type": "stream",
          "name": "stdout",
          "text": [
            "Задача: Проанализировав данные Telegram-канала (название, описание, характеристика контента), опиши его типичный профиль (тематика, аудитория, тон общения)\n",
            "Данные: Название: БКС Экспресс\n",
            "Описание: Официальный канал издания БКС Экспресс. Все об инвестициях: новости, аналитика, идеи и рекомендации. \n",
            "\n",
            "💻 Сайт: bcs-express.ru \n",
            "\n",
            "📱 Мобильное приложение БКС: https://s.bcs.ru/8mwl \n",
            "\n",
            "✉️ Для связи: ifs@bcs.ru\n",
            "Характеристика контента: 1. Тематика канала: финансы, инвестиции, фондовый рынок.\n",
            "2. Тональность контента: формальная, образовательная, аналитическая.\n",
            "3. Целевая аудитория: взрослые люди, преимущественно мужчины, интересующиеся инвестициями и фондовым рынком, финансовые аналитики и трейдеры.\n",
            "4. Общий стиль подачи информации: аналитические и информативные посты, содержащие данные и прогнозы, короткие и ёмкие сообщения с актуальной информацией.\n"
          ]
        }
      ],
      "source": [
        "print(input_texts[ad_posts_meta.with_row_index().row(by_predicate=(pl.col(\"id\") == 3857852))[0]])"
      ]
    },
    {
      "cell_type": "markdown",
      "metadata": {
        "id": "G56Qz_Cqe3SU"
      },
      "source": [
        "## Analyze length"
      ]
    },
    {
      "cell_type": "code",
      "execution_count": null,
      "metadata": {
        "id": "Q3w40E0Re3SU"
      },
      "outputs": [],
      "source": [
        "pl.DataFrame([len(i) for i in input_texts]).describe()"
      ]
    },
    {
      "cell_type": "code",
      "execution_count": null,
      "metadata": {
        "id": "T6vlEeM6e3SU"
      },
      "outputs": [],
      "source": [
        "plt.hist([len(i) for i in input_texts], bins=50);"
      ]
    },
    {
      "cell_type": "code",
      "source": [
        "# Analyze tokenized length\n",
        "model_name = 'intfloat/multilingual-e5-large-instruct'\n",
        "tokenizer = AutoTokenizer.from_pretrained(model_name)\n",
        "\n",
        "tok_length = []\n",
        "for inp in tqdm(input_texts):\n",
        "    tokens = tokenizer(inp, padding=False, truncation=False, return_tensors=\"np\", verbose=True)['input_ids']\n",
        "    tok_length.append(tokens.shape[1])"
      ],
      "metadata": {
        "id": "bztymiYtlnhF"
      },
      "execution_count": null,
      "outputs": []
    },
    {
      "cell_type": "code",
      "source": [
        "plt.hist(tok_length, bins=50);"
      ],
      "metadata": {
        "id": "UgI-gK1RmiK0"
      },
      "execution_count": null,
      "outputs": []
    },
    {
      "cell_type": "code",
      "source": [
        "pl.DataFrame(tok_length).describe()"
      ],
      "metadata": {
        "id": "VQmZka3knF7U"
      },
      "execution_count": null,
      "outputs": []
    },
    {
      "cell_type": "code",
      "source": [
        "len([l for l in tok_length if l > 514]) / len(tok_length) * 100"
      ],
      "metadata": {
        "id": "bD_CsEVonWTL"
      },
      "execution_count": null,
      "outputs": []
    },
    {
      "cell_type": "markdown",
      "metadata": {
        "id": "lsdKKCcCe3SU"
      },
      "source": [
        "## Calc embeddings"
      ]
    },
    {
      "cell_type": "code",
      "execution_count": null,
      "metadata": {
        "id": "FYMyNq3Ie3SU"
      },
      "outputs": [],
      "source": [
        "model_name = 'intfloat/multilingual-e5-large-instruct'\n",
        "\n",
        "tokenizer = AutoTokenizer.from_pretrained(model_name)\n",
        "model = AutoModel.from_pretrained(model_name)\n",
        "model = model.to(device)"
      ]
    },
    {
      "cell_type": "code",
      "execution_count": null,
      "metadata": {
        "id": "mi48GUxMe3SV"
      },
      "outputs": [],
      "source": [
        "def average_pool(last_hidden_states: Tensor,\n",
        "                 attention_mask: Tensor) -> Tensor:\n",
        "    last_hidden = last_hidden_states.masked_fill(~attention_mask[..., None].bool(), 0.0)\n",
        "    return last_hidden.sum(dim=1) / attention_mask.sum(dim=1)[..., None]\n",
        "\n",
        "\n",
        "def process_in_batches(model, tokenizer, input_texts, batch_size=16, device=torch.device(\"cpu\")):\n",
        "    embeddings = []\n",
        "    for i in trange(0, len(input_texts), batch_size):\n",
        "        batch_texts = input_texts[i:i + batch_size]\n",
        "\n",
        "        batch_dict = tokenizer(batch_texts, max_length=512, padding=True, truncation=True, return_tensors='pt')\n",
        "        batch_dict = {k: v.to(device) for k, v in batch_dict.items()}\n",
        "\n",
        "        with torch.no_grad():\n",
        "            outputs = model(**batch_dict)\n",
        "            batch_embeddings = average_pool(outputs.last_hidden_state, batch_dict['attention_mask'])\n",
        "\n",
        "        batch_embeddings = F.normalize(batch_embeddings, p=2, dim=1)\n",
        "        embeddings.append(batch_embeddings.cpu())\n",
        "\n",
        "        del batch_dict, outputs, batch_embeddings\n",
        "        torch.cuda.empty_cache()\n",
        "\n",
        "\n",
        "    return torch.cat(embeddings, dim=0)\n"
      ]
    },
    {
      "cell_type": "code",
      "execution_count": null,
      "metadata": {
        "id": "bQvlWIX1e3SV"
      },
      "outputs": [],
      "source": [
        "embeddings = process_in_batches(model, tokenizer, input_texts, batch_size=16, device=device)\n",
        "embeddings.shape"
      ]
    },
    {
      "cell_type": "code",
      "execution_count": null,
      "metadata": {
        "id": "WE6eoMNye3SV"
      },
      "outputs": [],
      "source": [
        "# Save embeddings\n",
        "EMB_FILE = Path(\"/content/drive/MyDrive/Telegram Marketing/Embeddings/channels/not_simple/ch_sum_emb_e5_instruct.npy\")\n",
        "np.save(EMB_FILE, embeddings.numpy())\n",
        "\n",
        "# Also save indices of posts\n",
        "IDS_FILE = Path(\"/content/drive/MyDrive/Telegram Marketing/Embeddings/channels/not_simple/ids_ch_sum_emb_e5_instruct.npy\")\n",
        "np.save(IDS_FILE, ad_posts_meta[\"id\"].to_numpy())"
      ]
    },
    {
      "cell_type": "code",
      "execution_count": null,
      "metadata": {
        "id": "3HJv-SsJe3SV"
      },
      "outputs": [],
      "source": [
        "print(torch.cuda.memory_summary())"
      ]
    }
  ],
  "metadata": {
    "kernelspec": {
      "display_name": "Python 3",
      "name": "python3"
    },
    "language_info": {
      "codemirror_mode": {
        "name": "ipython",
        "version": 3
      },
      "file_extension": ".py",
      "mimetype": "text/x-python",
      "name": "python",
      "nbconvert_exporter": "python",
      "pygments_lexer": "ipython3",
      "version": "3.12.8"
    },
    "colab": {
      "provenance": [],
      "gpuType": "T4"
    },
    "accelerator": "GPU"
  },
  "nbformat": 4,
  "nbformat_minor": 0
}
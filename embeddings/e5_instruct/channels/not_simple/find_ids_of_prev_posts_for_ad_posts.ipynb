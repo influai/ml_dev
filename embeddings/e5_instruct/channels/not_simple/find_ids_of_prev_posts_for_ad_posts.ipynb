{
 "cells": [
  {
   "cell_type": "code",
   "execution_count": 1,
   "metadata": {},
   "outputs": [],
   "source": [
    "import numpy as np\n",
    "import polars as pl"
   ]
  },
  {
   "cell_type": "code",
   "execution_count": 2,
   "metadata": {},
   "outputs": [],
   "source": [
    "FOLDER = \"/home/deniskirbaba/Documents/influai-data/embeddings/\""
   ]
  },
  {
   "cell_type": "markdown",
   "metadata": {},
   "source": [
    "## Join\n",
    "\n",
    "Заджойним id из posts_content к id из posts_metadata. Чтобы получить id, channel_id, post_date для постов, у которых точно есть что-то в raw_text."
   ]
  },
  {
   "cell_type": "code",
   "execution_count": 5,
   "metadata": {},
   "outputs": [
    {
     "data": {
      "text/html": [
       "<div><style>\n",
       ".dataframe > thead > tr,\n",
       ".dataframe > tbody > tr {\n",
       "  text-align: right;\n",
       "  white-space: pre-wrap;\n",
       "}\n",
       "</style>\n",
       "<small>shape: (5_000_000, 3)</small><table border=\"1\" class=\"dataframe\"><thead><tr><th>id</th><th>channel_id</th><th>post_date</th></tr><tr><td>i64</td><td>i64</td><td>str</td></tr></thead><tbody><tr><td>20163752</td><td>1235821477</td><td>&quot;2024-07-05T08:55:10.000000&quot;</td></tr><tr><td>20163753</td><td>1235821477</td><td>&quot;2024-07-04T15:52:28.000000&quot;</td></tr><tr><td>20163754</td><td>1235821477</td><td>&quot;2024-07-02T09:39:19.000000&quot;</td></tr><tr><td>20163755</td><td>1235821477</td><td>&quot;2024-07-02T09:38:44.000000&quot;</td></tr><tr><td>20163756</td><td>1235821477</td><td>&quot;2024-07-02T09:35:44.000000&quot;</td></tr><tr><td>&hellip;</td><td>&hellip;</td><td>&hellip;</td></tr><tr><td>25153714</td><td>1419580345</td><td>&quot;2024-09-02T16:16:29.000000&quot;</td></tr><tr><td>25153715</td><td>1419580345</td><td>&quot;2024-09-02T08:15:26.000000&quot;</td></tr><tr><td>25153716</td><td>1419580345</td><td>&quot;2024-09-01T16:11:19.000000&quot;</td></tr><tr><td>25153717</td><td>1419580345</td><td>&quot;2024-09-01T08:10:27.000000&quot;</td></tr><tr><td>25153718</td><td>1419580345</td><td>&quot;2024-08-31T15:35:51.000000&quot;</td></tr></tbody></table></div>"
      ],
      "text/plain": [
       "shape: (5_000_000, 3)\n",
       "┌──────────┬────────────┬────────────────────────────┐\n",
       "│ id       ┆ channel_id ┆ post_date                  │\n",
       "│ ---      ┆ ---        ┆ ---                        │\n",
       "│ i64      ┆ i64        ┆ str                        │\n",
       "╞══════════╪════════════╪════════════════════════════╡\n",
       "│ 20163752 ┆ 1235821477 ┆ 2024-07-05T08:55:10.000000 │\n",
       "│ 20163753 ┆ 1235821477 ┆ 2024-07-04T15:52:28.000000 │\n",
       "│ 20163754 ┆ 1235821477 ┆ 2024-07-02T09:39:19.000000 │\n",
       "│ 20163755 ┆ 1235821477 ┆ 2024-07-02T09:38:44.000000 │\n",
       "│ 20163756 ┆ 1235821477 ┆ 2024-07-02T09:35:44.000000 │\n",
       "│ …        ┆ …          ┆ …                          │\n",
       "│ 25153714 ┆ 1419580345 ┆ 2024-09-02T16:16:29.000000 │\n",
       "│ 25153715 ┆ 1419580345 ┆ 2024-09-02T08:15:26.000000 │\n",
       "│ 25153716 ┆ 1419580345 ┆ 2024-09-01T16:11:19.000000 │\n",
       "│ 25153717 ┆ 1419580345 ┆ 2024-09-01T08:10:27.000000 │\n",
       "│ 25153718 ┆ 1419580345 ┆ 2024-08-31T15:35:51.000000 │\n",
       "└──────────┴────────────┴────────────────────────────┘"
      ]
     },
     "execution_count": 5,
     "metadata": {},
     "output_type": "execute_result"
    }
   ],
   "source": [
    "# Load batched csv files stems\n",
    "posts_meta_batched_names = [\n",
    "    \"posts_meta_5000000\",\n",
    "    \"posts_meta_10000000\",\n",
    "    \"posts_meta_15000000\",\n",
    "    \"posts_meta_20000000\",\n",
    "    \"posts_meta_25000000\",\n",
    "    \"posts_meta_30000000\",\n",
    "    \"posts_meta_35000000\",\n",
    "    \"posts_meta_36745798\",\n",
    "]\n",
    "\n",
    "posts_meta = pl.read_csv(FOLDER + posts_meta_batched_names[0] + \".csv\")\n",
    "posts_meta"
   ]
  },
  {
   "cell_type": "code",
   "execution_count": 6,
   "metadata": {},
   "outputs": [
    {
     "data": {
      "text/html": [
       "<div><style>\n",
       ".dataframe > thead > tr,\n",
       ".dataframe > tbody > tr {\n",
       "  text-align: right;\n",
       "  white-space: pre-wrap;\n",
       "}\n",
       "</style>\n",
       "<small>shape: (36_745_798, 3)</small><table border=\"1\" class=\"dataframe\"><thead><tr><th>id</th><th>channel_id</th><th>post_date</th></tr><tr><td>i64</td><td>i64</td><td>str</td></tr></thead><tbody><tr><td>20163752</td><td>1235821477</td><td>&quot;2024-07-05T08:55:10.000000&quot;</td></tr><tr><td>20163753</td><td>1235821477</td><td>&quot;2024-07-04T15:52:28.000000&quot;</td></tr><tr><td>20163754</td><td>1235821477</td><td>&quot;2024-07-02T09:39:19.000000&quot;</td></tr><tr><td>20163755</td><td>1235821477</td><td>&quot;2024-07-02T09:38:44.000000&quot;</td></tr><tr><td>20163756</td><td>1235821477</td><td>&quot;2024-07-02T09:35:44.000000&quot;</td></tr><tr><td>&hellip;</td><td>&hellip;</td><td>&hellip;</td></tr><tr><td>20163747</td><td>1235821477</td><td>&quot;2024-07-07T18:00:27.000000&quot;</td></tr><tr><td>20163748</td><td>1235821477</td><td>&quot;2024-07-07T07:11:31.000000&quot;</td></tr><tr><td>20163749</td><td>1235821477</td><td>&quot;2024-07-07T07:11:31.000000&quot;</td></tr><tr><td>20163750</td><td>1235821477</td><td>&quot;2024-07-05T08:55:10.000000&quot;</td></tr><tr><td>20163751</td><td>1235821477</td><td>&quot;2024-07-05T08:55:10.000000&quot;</td></tr></tbody></table></div>"
      ],
      "text/plain": [
       "shape: (36_745_798, 3)\n",
       "┌──────────┬────────────┬────────────────────────────┐\n",
       "│ id       ┆ channel_id ┆ post_date                  │\n",
       "│ ---      ┆ ---        ┆ ---                        │\n",
       "│ i64      ┆ i64        ┆ str                        │\n",
       "╞══════════╪════════════╪════════════════════════════╡\n",
       "│ 20163752 ┆ 1235821477 ┆ 2024-07-05T08:55:10.000000 │\n",
       "│ 20163753 ┆ 1235821477 ┆ 2024-07-04T15:52:28.000000 │\n",
       "│ 20163754 ┆ 1235821477 ┆ 2024-07-02T09:39:19.000000 │\n",
       "│ 20163755 ┆ 1235821477 ┆ 2024-07-02T09:38:44.000000 │\n",
       "│ 20163756 ┆ 1235821477 ┆ 2024-07-02T09:35:44.000000 │\n",
       "│ …        ┆ …          ┆ …                          │\n",
       "│ 20163747 ┆ 1235821477 ┆ 2024-07-07T18:00:27.000000 │\n",
       "│ 20163748 ┆ 1235821477 ┆ 2024-07-07T07:11:31.000000 │\n",
       "│ 20163749 ┆ 1235821477 ┆ 2024-07-07T07:11:31.000000 │\n",
       "│ 20163750 ┆ 1235821477 ┆ 2024-07-05T08:55:10.000000 │\n",
       "│ 20163751 ┆ 1235821477 ┆ 2024-07-05T08:55:10.000000 │\n",
       "└──────────┴────────────┴────────────────────────────┘"
      ]
     },
     "execution_count": 6,
     "metadata": {},
     "output_type": "execute_result"
    }
   ],
   "source": [
    "# Concatenating\n",
    "for batch_stem in posts_meta_batched_names[1:]:\n",
    "    new_posts_meta = pl.read_csv(FOLDER + batch_stem + \".csv\")\n",
    "    posts_meta = pl.concat([posts_meta, new_posts_meta], how=\"vertical\")\n",
    "    del new_posts_meta\n",
    "\n",
    "posts_meta"
   ]
  },
  {
   "cell_type": "code",
   "execution_count": 7,
   "metadata": {},
   "outputs": [
    {
     "data": {
      "text/html": [
       "<div><style>\n",
       ".dataframe > thead > tr,\n",
       ".dataframe > tbody > tr {\n",
       "  text-align: right;\n",
       "  white-space: pre-wrap;\n",
       "}\n",
       "</style>\n",
       "<small>shape: (21_640_411, 1)</small><table border=\"1\" class=\"dataframe\"><thead><tr><th>id</th></tr><tr><td>i64</td></tr></thead><tbody><tr><td>20852619</td></tr><tr><td>20852620</td></tr><tr><td>20852621</td></tr><tr><td>20852622</td></tr><tr><td>20852623</td></tr><tr><td>&hellip;</td></tr><tr><td>20852610</td></tr><tr><td>20852611</td></tr><tr><td>20852612</td></tr><tr><td>20852613</td></tr><tr><td>20852616</td></tr></tbody></table></div>"
      ],
      "text/plain": [
       "shape: (21_640_411, 1)\n",
       "┌──────────┐\n",
       "│ id       │\n",
       "│ ---      │\n",
       "│ i64      │\n",
       "╞══════════╡\n",
       "│ 20852619 │\n",
       "│ 20852620 │\n",
       "│ 20852621 │\n",
       "│ 20852622 │\n",
       "│ 20852623 │\n",
       "│ …        │\n",
       "│ 20852610 │\n",
       "│ 20852611 │\n",
       "│ 20852612 │\n",
       "│ 20852613 │\n",
       "│ 20852616 │\n",
       "└──────────┘"
      ]
     },
     "execution_count": 7,
     "metadata": {},
     "output_type": "execute_result"
    }
   ],
   "source": [
    "post_ids_with_text = pl.read_csv(FOLDER + \"id_posts_with_text.csv\")\n",
    "post_ids_with_text"
   ]
  },
  {
   "cell_type": "code",
   "execution_count": 8,
   "metadata": {},
   "outputs": [
    {
     "name": "stdout",
     "output_type": "stream",
     "text": [
      "CPU times: user 10.6 s, sys: 3.6 s, total: 14.2 s\n",
      "Wall time: 7 s\n"
     ]
    },
    {
     "data": {
      "text/html": [
       "<div><style>\n",
       ".dataframe > thead > tr,\n",
       ".dataframe > tbody > tr {\n",
       "  text-align: right;\n",
       "  white-space: pre-wrap;\n",
       "}\n",
       "</style>\n",
       "<small>shape: (21_640_411, 3)</small><table border=\"1\" class=\"dataframe\"><thead><tr><th>id</th><th>channel_id</th><th>post_date</th></tr><tr><td>i64</td><td>i64</td><td>str</td></tr></thead><tbody><tr><td>20163752</td><td>1235821477</td><td>&quot;2024-07-05T08:55:10.000000&quot;</td></tr><tr><td>20163753</td><td>1235821477</td><td>&quot;2024-07-04T15:52:28.000000&quot;</td></tr><tr><td>20163761</td><td>1235821477</td><td>&quot;2024-07-02T09:33:40.000000&quot;</td></tr><tr><td>20163762</td><td>1235821477</td><td>&quot;2024-07-01T11:23:10.000000&quot;</td></tr><tr><td>20163763</td><td>1235821477</td><td>&quot;2024-06-30T20:40:22.000000&quot;</td></tr><tr><td>&hellip;</td><td>&hellip;</td><td>&hellip;</td></tr><tr><td>20163742</td><td>1235821477</td><td>&quot;2024-07-13T08:55:05.000000&quot;</td></tr><tr><td>20163745</td><td>1235821477</td><td>&quot;2024-07-10T09:22:54.000000&quot;</td></tr><tr><td>20163746</td><td>1235821477</td><td>&quot;2024-07-09T18:35:10.000000&quot;</td></tr><tr><td>20163747</td><td>1235821477</td><td>&quot;2024-07-07T18:00:27.000000&quot;</td></tr><tr><td>20163749</td><td>1235821477</td><td>&quot;2024-07-07T07:11:31.000000&quot;</td></tr></tbody></table></div>"
      ],
      "text/plain": [
       "shape: (21_640_411, 3)\n",
       "┌──────────┬────────────┬────────────────────────────┐\n",
       "│ id       ┆ channel_id ┆ post_date                  │\n",
       "│ ---      ┆ ---        ┆ ---                        │\n",
       "│ i64      ┆ i64        ┆ str                        │\n",
       "╞══════════╪════════════╪════════════════════════════╡\n",
       "│ 20163752 ┆ 1235821477 ┆ 2024-07-05T08:55:10.000000 │\n",
       "│ 20163753 ┆ 1235821477 ┆ 2024-07-04T15:52:28.000000 │\n",
       "│ 20163761 ┆ 1235821477 ┆ 2024-07-02T09:33:40.000000 │\n",
       "│ 20163762 ┆ 1235821477 ┆ 2024-07-01T11:23:10.000000 │\n",
       "│ 20163763 ┆ 1235821477 ┆ 2024-06-30T20:40:22.000000 │\n",
       "│ …        ┆ …          ┆ …                          │\n",
       "│ 20163742 ┆ 1235821477 ┆ 2024-07-13T08:55:05.000000 │\n",
       "│ 20163745 ┆ 1235821477 ┆ 2024-07-10T09:22:54.000000 │\n",
       "│ 20163746 ┆ 1235821477 ┆ 2024-07-09T18:35:10.000000 │\n",
       "│ 20163747 ┆ 1235821477 ┆ 2024-07-07T18:00:27.000000 │\n",
       "│ 20163749 ┆ 1235821477 ┆ 2024-07-07T07:11:31.000000 │\n",
       "└──────────┴────────────┴────────────────────────────┘"
      ]
     },
     "execution_count": 8,
     "metadata": {},
     "output_type": "execute_result"
    }
   ],
   "source": [
    "%%time\n",
    "posts_with_text_meta = posts_meta.join(post_ids_with_text, on=[\"id\"], how=\"inner\")\n",
    "posts_with_text_meta"
   ]
  },
  {
   "cell_type": "code",
   "execution_count": 9,
   "metadata": {},
   "outputs": [],
   "source": [
    "# Release memory\n",
    "del post_ids_with_text\n",
    "del posts_meta"
   ]
  },
  {
   "cell_type": "code",
   "execution_count": 10,
   "metadata": {},
   "outputs": [],
   "source": [
    "posts_with_text_meta.write_csv(FOLDER + \"posts_with_text_meta.csv\")"
   ]
  },
  {
   "cell_type": "code",
   "execution_count": 3,
   "metadata": {},
   "outputs": [],
   "source": [
    "posts_with_text_meta = pl.read_csv(FOLDER + \"posts_with_text_meta.csv\")"
   ]
  },
  {
   "cell_type": "markdown",
   "metadata": {},
   "source": [
    "## Construct csv with previous posts id\n",
    "\n",
    "Создадим таблицу, в которой к каждому посту (id, channel_id) будет определен список id предыдущих к этому посту в канале (размера = 10). "
   ]
  },
  {
   "cell_type": "code",
   "execution_count": 4,
   "metadata": {},
   "outputs": [
    {
     "name": "stdout",
     "output_type": "stream",
     "text": [
      "CPU times: user 21.8 s, sys: 219 ms, total: 22 s\n",
      "Wall time: 6.85 s\n"
     ]
    },
    {
     "data": {
      "text/html": [
       "<div><style>\n",
       ".dataframe > thead > tr,\n",
       ".dataframe > tbody > tr {\n",
       "  text-align: right;\n",
       "  white-space: pre-wrap;\n",
       "}\n",
       "</style>\n",
       "<small>shape: (21_640_411, 3)</small><table border=\"1\" class=\"dataframe\"><thead><tr><th>id</th><th>channel_id</th><th>post_date</th></tr><tr><td>i64</td><td>i64</td><td>datetime[ns, UTC]</td></tr></thead><tbody><tr><td>20163752</td><td>1235821477</td><td>2024-07-05 08:55:10 UTC</td></tr><tr><td>20163753</td><td>1235821477</td><td>2024-07-04 15:52:28 UTC</td></tr><tr><td>20163761</td><td>1235821477</td><td>2024-07-02 09:33:40 UTC</td></tr><tr><td>20163762</td><td>1235821477</td><td>2024-07-01 11:23:10 UTC</td></tr><tr><td>20163763</td><td>1235821477</td><td>2024-06-30 20:40:22 UTC</td></tr><tr><td>&hellip;</td><td>&hellip;</td><td>&hellip;</td></tr><tr><td>20163742</td><td>1235821477</td><td>2024-07-13 08:55:05 UTC</td></tr><tr><td>20163745</td><td>1235821477</td><td>2024-07-10 09:22:54 UTC</td></tr><tr><td>20163746</td><td>1235821477</td><td>2024-07-09 18:35:10 UTC</td></tr><tr><td>20163747</td><td>1235821477</td><td>2024-07-07 18:00:27 UTC</td></tr><tr><td>20163749</td><td>1235821477</td><td>2024-07-07 07:11:31 UTC</td></tr></tbody></table></div>"
      ],
      "text/plain": [
       "shape: (21_640_411, 3)\n",
       "┌──────────┬────────────┬─────────────────────────┐\n",
       "│ id       ┆ channel_id ┆ post_date               │\n",
       "│ ---      ┆ ---        ┆ ---                     │\n",
       "│ i64      ┆ i64        ┆ datetime[ns, UTC]       │\n",
       "╞══════════╪════════════╪═════════════════════════╡\n",
       "│ 20163752 ┆ 1235821477 ┆ 2024-07-05 08:55:10 UTC │\n",
       "│ 20163753 ┆ 1235821477 ┆ 2024-07-04 15:52:28 UTC │\n",
       "│ 20163761 ┆ 1235821477 ┆ 2024-07-02 09:33:40 UTC │\n",
       "│ 20163762 ┆ 1235821477 ┆ 2024-07-01 11:23:10 UTC │\n",
       "│ 20163763 ┆ 1235821477 ┆ 2024-06-30 20:40:22 UTC │\n",
       "│ …        ┆ …          ┆ …                       │\n",
       "│ 20163742 ┆ 1235821477 ┆ 2024-07-13 08:55:05 UTC │\n",
       "│ 20163745 ┆ 1235821477 ┆ 2024-07-10 09:22:54 UTC │\n",
       "│ 20163746 ┆ 1235821477 ┆ 2024-07-09 18:35:10 UTC │\n",
       "│ 20163747 ┆ 1235821477 ┆ 2024-07-07 18:00:27 UTC │\n",
       "│ 20163749 ┆ 1235821477 ┆ 2024-07-07 07:11:31 UTC │\n",
       "└──────────┴────────────┴─────────────────────────┘"
      ]
     },
     "execution_count": 4,
     "metadata": {},
     "output_type": "execute_result"
    }
   ],
   "source": [
    "%%time\n",
    "# Contert `post_date` str -> DateTime (needed bcs later we'll sorting by post_date)\n",
    "posts_with_text_meta = posts_with_text_meta.with_columns(\n",
    "    pl.col(\"post_date\")\n",
    "    .str.strptime(pl.Datetime, format=\"%Y-%m-%dT%H:%M:%S%.f\")\n",
    "    .dt.cast_time_unit(\"ns\")\n",
    "    .dt.convert_time_zone(\"UTC\")\n",
    ")\n",
    "posts_with_text_meta"
   ]
  },
  {
   "cell_type": "code",
   "execution_count": 5,
   "metadata": {},
   "outputs": [
    {
     "name": "stdout",
     "output_type": "stream",
     "text": [
      "CPU times: user 11.4 s, sys: 1.93 s, total: 13.4 s\n",
      "Wall time: 5.68 s\n"
     ]
    },
    {
     "data": {
      "text/html": [
       "<div><style>\n",
       ".dataframe > thead > tr,\n",
       ".dataframe > tbody > tr {\n",
       "  text-align: right;\n",
       "  white-space: pre-wrap;\n",
       "}\n",
       "</style>\n",
       "<small>shape: (21_640_411, 4)</small><table border=\"1\" class=\"dataframe\"><thead><tr><th>index</th><th>id</th><th>channel_id</th><th>post_date</th></tr><tr><td>u32</td><td>i64</td><td>i64</td><td>datetime[ns, UTC]</td></tr></thead><tbody><tr><td>0</td><td>4007211</td><td>1000183937</td><td>2024-01-09 06:46:26 UTC</td></tr><tr><td>1</td><td>4007210</td><td>1000183937</td><td>2024-01-09 15:00:00 UTC</td></tr><tr><td>2</td><td>4007209</td><td>1000183937</td><td>2024-01-10 05:02:05 UTC</td></tr><tr><td>3</td><td>4007208</td><td>1000183937</td><td>2024-01-10 12:01:35 UTC</td></tr><tr><td>4</td><td>4007207</td><td>1000183937</td><td>2024-01-11 07:29:01 UTC</td></tr><tr><td>&hellip;</td><td>&hellip;</td><td>&hellip;</td><td>&hellip;</td></tr><tr><td>21640406</td><td>7225243</td><td>2493256284</td><td>2024-11-12 16:09:23 UTC</td></tr><tr><td>21640407</td><td>7225239</td><td>2493256284</td><td>2024-11-18 19:37:44 UTC</td></tr><tr><td>21640408</td><td>7225238</td><td>2493256284</td><td>2024-11-23 09:56:06 UTC</td></tr><tr><td>21640409</td><td>7225233</td><td>2493256284</td><td>2024-11-26 17:37:24 UTC</td></tr><tr><td>21640410</td><td>7225230</td><td>2493256284</td><td>2024-11-29 17:53:10 UTC</td></tr></tbody></table></div>"
      ],
      "text/plain": [
       "shape: (21_640_411, 4)\n",
       "┌──────────┬─────────┬────────────┬─────────────────────────┐\n",
       "│ index    ┆ id      ┆ channel_id ┆ post_date               │\n",
       "│ ---      ┆ ---     ┆ ---        ┆ ---                     │\n",
       "│ u32      ┆ i64     ┆ i64        ┆ datetime[ns, UTC]       │\n",
       "╞══════════╪═════════╪════════════╪═════════════════════════╡\n",
       "│ 0        ┆ 4007211 ┆ 1000183937 ┆ 2024-01-09 06:46:26 UTC │\n",
       "│ 1        ┆ 4007210 ┆ 1000183937 ┆ 2024-01-09 15:00:00 UTC │\n",
       "│ 2        ┆ 4007209 ┆ 1000183937 ┆ 2024-01-10 05:02:05 UTC │\n",
       "│ 3        ┆ 4007208 ┆ 1000183937 ┆ 2024-01-10 12:01:35 UTC │\n",
       "│ 4        ┆ 4007207 ┆ 1000183937 ┆ 2024-01-11 07:29:01 UTC │\n",
       "│ …        ┆ …       ┆ …          ┆ …                       │\n",
       "│ 21640406 ┆ 7225243 ┆ 2493256284 ┆ 2024-11-12 16:09:23 UTC │\n",
       "│ 21640407 ┆ 7225239 ┆ 2493256284 ┆ 2024-11-18 19:37:44 UTC │\n",
       "│ 21640408 ┆ 7225238 ┆ 2493256284 ┆ 2024-11-23 09:56:06 UTC │\n",
       "│ 21640409 ┆ 7225233 ┆ 2493256284 ┆ 2024-11-26 17:37:24 UTC │\n",
       "│ 21640410 ┆ 7225230 ┆ 2493256284 ┆ 2024-11-29 17:53:10 UTC │\n",
       "└──────────┴─────────┴────────────┴─────────────────────────┘"
      ]
     },
     "execution_count": 5,
     "metadata": {},
     "output_type": "execute_result"
    }
   ],
   "source": [
    "%%time\n",
    "# Sort and add index column\n",
    "posts_with_text_meta = posts_with_text_meta.sort(by=[\"channel_id\", \"post_date\"]).with_row_index(\n",
    "    name=\"index\"\n",
    ")\n",
    "posts_with_text_meta"
   ]
  },
  {
   "cell_type": "code",
   "execution_count": 6,
   "metadata": {},
   "outputs": [
    {
     "name": "stdout",
     "output_type": "stream",
     "text": [
      "CPU times: user 4.13 s, sys: 4.51 s, total: 8.63 s\n",
      "Wall time: 8.12 s\n"
     ]
    },
    {
     "data": {
      "text/html": [
       "<div><style>\n",
       ".dataframe > thead > tr,\n",
       ".dataframe > tbody > tr {\n",
       "  text-align: right;\n",
       "  white-space: pre-wrap;\n",
       "}\n",
       "</style>\n",
       "<small>shape: (21_640_411, 3)</small><table border=\"1\" class=\"dataframe\"><thead><tr><th>channel_id</th><th>index</th><th>prev_id</th></tr><tr><td>i64</td><td>u32</td><td>list[i64]</td></tr></thead><tbody><tr><td>1000183937</td><td>0</td><td>[]</td></tr><tr><td>1000183937</td><td>1</td><td>[4007211]</td></tr><tr><td>1000183937</td><td>2</td><td>[4007211, 4007210]</td></tr><tr><td>1000183937</td><td>3</td><td>[4007211, 4007210, 4007209]</td></tr><tr><td>1000183937</td><td>4</td><td>[4007211, 4007210, … 4007208]</td></tr><tr><td>&hellip;</td><td>&hellip;</td><td>&hellip;</td></tr><tr><td>2493256284</td><td>21640406</td><td>[7225268, 7225267, … 7225247]</td></tr><tr><td>2493256284</td><td>21640407</td><td>[7225267, 7225263, … 7225243]</td></tr><tr><td>2493256284</td><td>21640408</td><td>[7225263, 7225262, … 7225239]</td></tr><tr><td>2493256284</td><td>21640409</td><td>[7225262, 7225261, … 7225238]</td></tr><tr><td>2493256284</td><td>21640410</td><td>[7225261, 7225260, … 7225233]</td></tr></tbody></table></div>"
      ],
      "text/plain": [
       "shape: (21_640_411, 3)\n",
       "┌────────────┬──────────┬───────────────────────────────┐\n",
       "│ channel_id ┆ index    ┆ prev_id                       │\n",
       "│ ---        ┆ ---      ┆ ---                           │\n",
       "│ i64        ┆ u32      ┆ list[i64]                     │\n",
       "╞════════════╪══════════╪═══════════════════════════════╡\n",
       "│ 1000183937 ┆ 0        ┆ []                            │\n",
       "│ 1000183937 ┆ 1        ┆ [4007211]                     │\n",
       "│ 1000183937 ┆ 2        ┆ [4007211, 4007210]            │\n",
       "│ 1000183937 ┆ 3        ┆ [4007211, 4007210, 4007209]   │\n",
       "│ 1000183937 ┆ 4        ┆ [4007211, 4007210, … 4007208] │\n",
       "│ …          ┆ …        ┆ …                             │\n",
       "│ 2493256284 ┆ 21640406 ┆ [7225268, 7225267, … 7225247] │\n",
       "│ 2493256284 ┆ 21640407 ┆ [7225267, 7225263, … 7225243] │\n",
       "│ 2493256284 ┆ 21640408 ┆ [7225263, 7225262, … 7225239] │\n",
       "│ 2493256284 ┆ 21640409 ┆ [7225262, 7225261, … 7225238] │\n",
       "│ 2493256284 ┆ 21640410 ┆ [7225261, 7225260, … 7225233] │\n",
       "└────────────┴──────────┴───────────────────────────────┘"
      ]
     },
     "execution_count": 6,
     "metadata": {},
     "output_type": "execute_result"
    }
   ],
   "source": [
    "%%time\n",
    "\n",
    "N_POSTS_BEFORE_TARGET = 10  # Number of the most recent posts we saving before target post \n",
    "\n",
    "prev_posts_with_text = (\n",
    "    posts_with_text_meta\n",
    "    .rolling(\"index\", period=f\"{N_POSTS_BEFORE_TARGET}i\", group_by=\"channel_id\", closed=\"left\")\n",
    "    .agg(pl.col(\"id\").alias(\"prev_id\"))\n",
    ")\n",
    "prev_posts_with_text"
   ]
  },
  {
   "cell_type": "code",
   "execution_count": 7,
   "metadata": {},
   "outputs": [
    {
     "data": {
      "text/html": [
       "<div><style>\n",
       ".dataframe > thead > tr,\n",
       ".dataframe > tbody > tr {\n",
       "  text-align: right;\n",
       "  white-space: pre-wrap;\n",
       "}\n",
       "</style>\n",
       "<small>shape: (21_640_411, 3)</small><table border=\"1\" class=\"dataframe\"><thead><tr><th>id</th><th>channel_id</th><th>prev_id</th></tr><tr><td>i64</td><td>i64</td><td>list[i64]</td></tr></thead><tbody><tr><td>4007211</td><td>1000183937</td><td>[]</td></tr><tr><td>4007210</td><td>1000183937</td><td>[4007211]</td></tr><tr><td>4007209</td><td>1000183937</td><td>[4007211, 4007210]</td></tr><tr><td>4007208</td><td>1000183937</td><td>[4007211, 4007210, 4007209]</td></tr><tr><td>4007207</td><td>1000183937</td><td>[4007211, 4007210, … 4007208]</td></tr><tr><td>&hellip;</td><td>&hellip;</td><td>&hellip;</td></tr><tr><td>7225243</td><td>2493256284</td><td>[7225268, 7225267, … 7225247]</td></tr><tr><td>7225239</td><td>2493256284</td><td>[7225267, 7225263, … 7225243]</td></tr><tr><td>7225238</td><td>2493256284</td><td>[7225263, 7225262, … 7225239]</td></tr><tr><td>7225233</td><td>2493256284</td><td>[7225262, 7225261, … 7225238]</td></tr><tr><td>7225230</td><td>2493256284</td><td>[7225261, 7225260, … 7225233]</td></tr></tbody></table></div>"
      ],
      "text/plain": [
       "shape: (21_640_411, 3)\n",
       "┌─────────┬────────────┬───────────────────────────────┐\n",
       "│ id      ┆ channel_id ┆ prev_id                       │\n",
       "│ ---     ┆ ---        ┆ ---                           │\n",
       "│ i64     ┆ i64        ┆ list[i64]                     │\n",
       "╞═════════╪════════════╪═══════════════════════════════╡\n",
       "│ 4007211 ┆ 1000183937 ┆ []                            │\n",
       "│ 4007210 ┆ 1000183937 ┆ [4007211]                     │\n",
       "│ 4007209 ┆ 1000183937 ┆ [4007211, 4007210]            │\n",
       "│ 4007208 ┆ 1000183937 ┆ [4007211, 4007210, 4007209]   │\n",
       "│ 4007207 ┆ 1000183937 ┆ [4007211, 4007210, … 4007208] │\n",
       "│ …       ┆ …          ┆ …                             │\n",
       "│ 7225243 ┆ 2493256284 ┆ [7225268, 7225267, … 7225247] │\n",
       "│ 7225239 ┆ 2493256284 ┆ [7225267, 7225263, … 7225243] │\n",
       "│ 7225238 ┆ 2493256284 ┆ [7225263, 7225262, … 7225239] │\n",
       "│ 7225233 ┆ 2493256284 ┆ [7225262, 7225261, … 7225238] │\n",
       "│ 7225230 ┆ 2493256284 ┆ [7225261, 7225260, … 7225233] │\n",
       "└─────────┴────────────┴───────────────────────────────┘"
      ]
     },
     "execution_count": 7,
     "metadata": {},
     "output_type": "execute_result"
    }
   ],
   "source": [
    "# Add id column back to the table (can do this safely because the order don't changed)\n",
    "assert prev_posts_with_text[\"index\"].is_sorted()\n",
    "\n",
    "prev_posts_with_text.insert_column(0, posts_with_text_meta[\"id\"])\n",
    "prev_posts_with_text.drop_in_place(\"index\")\n",
    "\n",
    "del posts_with_text_meta\n",
    "\n",
    "prev_posts_with_text"
   ]
  },
  {
   "cell_type": "markdown",
   "metadata": {},
   "source": [
    "## Now load the metadata for ad posts and join it with previous calculated table"
   ]
  },
  {
   "cell_type": "code",
   "execution_count": 9,
   "metadata": {},
   "outputs": [
    {
     "name": "stdout",
     "output_type": "stream",
     "text": [
      "CPU times: user 127 ms, sys: 20.8 ms, total: 148 ms\n",
      "Wall time: 125 ms\n"
     ]
    },
    {
     "data": {
      "text/html": [
       "<div><style>\n",
       ".dataframe > thead > tr,\n",
       ".dataframe > tbody > tr {\n",
       "  text-align: right;\n",
       "  white-space: pre-wrap;\n",
       "}\n",
       "</style>\n",
       "<small>shape: (177_373, 3)</small><table border=\"1\" class=\"dataframe\"><thead><tr><th>id</th><th>channel_id</th><th>post_date</th></tr><tr><td>i64</td><td>i64</td><td>str</td></tr></thead><tbody><tr><td>6901405</td><td>1229173666</td><td>&quot;2024-04-27T18:16:09.000000&quot;</td></tr><tr><td>6901333</td><td>1229173666</td><td>&quot;2024-05-01T18:15:06.000000&quot;</td></tr><tr><td>6900679</td><td>1229173666</td><td>&quot;2024-06-02T18:15:18.000000&quot;</td></tr><tr><td>6900562</td><td>1229173666</td><td>&quot;2024-06-07T18:15:10.000000&quot;</td></tr><tr><td>6899803</td><td>1229173666</td><td>&quot;2024-07-11T18:15:59.000000&quot;</td></tr><tr><td>&hellip;</td><td>&hellip;</td><td>&hellip;</td></tr><tr><td>6902253</td><td>1229173666</td><td>&quot;2024-03-22T18:16:45.000000&quot;</td></tr><tr><td>6902226</td><td>1229173666</td><td>&quot;2024-03-23T18:16:01.000000&quot;</td></tr><tr><td>6902013</td><td>1229173666</td><td>&quot;2024-03-31T18:15:08.000000&quot;</td></tr><tr><td>6901782</td><td>1229173666</td><td>&quot;2024-04-09T18:16:09.000000&quot;</td></tr><tr><td>2753978</td><td>1230128639</td><td>&quot;2024-02-02T16:11:58.000000&quot;</td></tr></tbody></table></div>"
      ],
      "text/plain": [
       "shape: (177_373, 3)\n",
       "┌─────────┬────────────┬────────────────────────────┐\n",
       "│ id      ┆ channel_id ┆ post_date                  │\n",
       "│ ---     ┆ ---        ┆ ---                        │\n",
       "│ i64     ┆ i64        ┆ str                        │\n",
       "╞═════════╪════════════╪════════════════════════════╡\n",
       "│ 6901405 ┆ 1229173666 ┆ 2024-04-27T18:16:09.000000 │\n",
       "│ 6901333 ┆ 1229173666 ┆ 2024-05-01T18:15:06.000000 │\n",
       "│ 6900679 ┆ 1229173666 ┆ 2024-06-02T18:15:18.000000 │\n",
       "│ 6900562 ┆ 1229173666 ┆ 2024-06-07T18:15:10.000000 │\n",
       "│ 6899803 ┆ 1229173666 ┆ 2024-07-11T18:15:59.000000 │\n",
       "│ …       ┆ …          ┆ …                          │\n",
       "│ 6902253 ┆ 1229173666 ┆ 2024-03-22T18:16:45.000000 │\n",
       "│ 6902226 ┆ 1229173666 ┆ 2024-03-23T18:16:01.000000 │\n",
       "│ 6902013 ┆ 1229173666 ┆ 2024-03-31T18:15:08.000000 │\n",
       "│ 6901782 ┆ 1229173666 ┆ 2024-04-09T18:16:09.000000 │\n",
       "│ 2753978 ┆ 1230128639 ┆ 2024-02-02T16:11:58.000000 │\n",
       "└─────────┴────────────┴────────────────────────────┘"
      ]
     },
     "execution_count": 9,
     "metadata": {},
     "output_type": "execute_result"
    }
   ],
   "source": [
    "%%time\n",
    "ad_posts_meta = pl.read_csv(FOLDER + \"ad_posts_meta.csv\")\n",
    "ad_posts_meta"
   ]
  },
  {
   "cell_type": "code",
   "execution_count": 13,
   "metadata": {},
   "outputs": [
    {
     "name": "stdout",
     "output_type": "stream",
     "text": [
      "CPU times: user 1 s, sys: 20.4 ms, total: 1.02 s\n",
      "Wall time: 544 ms\n"
     ]
    },
    {
     "data": {
      "text/html": [
       "<div><style>\n",
       ".dataframe > thead > tr,\n",
       ".dataframe > tbody > tr {\n",
       "  text-align: right;\n",
       "  white-space: pre-wrap;\n",
       "}\n",
       "</style>\n",
       "<small>shape: (177_373, 5)</small><table border=\"1\" class=\"dataframe\"><thead><tr><th>id</th><th>channel_id</th><th>prev_id</th><th>channel_id_right</th><th>post_date</th></tr><tr><td>i64</td><td>i64</td><td>list[i64]</td><td>i64</td><td>str</td></tr></thead><tbody><tr><td>4006259</td><td>1000183937</td><td>[4006269, 4006268, … 4006260]</td><td>1000183937</td><td>&quot;2024-11-06T15:14:08.000000&quot;</td></tr><tr><td>8352825</td><td>1000627591</td><td>[8352835, 8352834, … 8352826]</td><td>1000627591</td><td>&quot;2024-09-16T09:06:21.000000&quot;</td></tr><tr><td>7074797</td><td>1000683515</td><td>[7074807, 7074806, … 7074798]</td><td>1000683515</td><td>&quot;2024-08-26T06:02:01.000000&quot;</td></tr><tr><td>9257579</td><td>1000735083</td><td>[9257589, 9257588, … 9257580]</td><td>1000735083</td><td>&quot;2024-01-23T16:43:51.000000&quot;</td></tr><tr><td>9257507</td><td>1000735083</td><td>[9257517, 9257516, … 9257508]</td><td>1000735083</td><td>&quot;2024-01-28T10:02:48.000000&quot;</td></tr><tr><td>&hellip;</td><td>&hellip;</td><td>&hellip;</td><td>&hellip;</td><td>&hellip;</td></tr><tr><td>12415659</td><td>2314282174</td><td>[12415682, 12415676, … 12415660]</td><td>2314282174</td><td>&quot;2024-11-27T14:58:15.000000&quot;</td></tr><tr><td>12415580</td><td>2314282174</td><td>[12415600, 12415593, … 12415582]</td><td>2314282174</td><td>&quot;2024-11-28T09:52:06.000000&quot;</td></tr><tr><td>12415573</td><td>2314282174</td><td>[12415585, 12415584, … 12415574]</td><td>2314282174</td><td>&quot;2024-11-28T11:33:01.000000&quot;</td></tr><tr><td>4735900</td><td>2376767046</td><td>[4735914, 4735913, … 4735901]</td><td>2376767046</td><td>&quot;2024-10-14T07:02:44.000000&quot;</td></tr><tr><td>6350199</td><td>2470470640</td><td>[6350244, 6350242, … 6350209]</td><td>2470470640</td><td>&quot;2024-10-25T09:38:30.000000&quot;</td></tr></tbody></table></div>"
      ],
      "text/plain": [
       "shape: (177_373, 5)\n",
       "┌──────────┬────────────┬────────────────────────┬──────────────────┬──────────────────────────────┐\n",
       "│ id       ┆ channel_id ┆ prev_id                ┆ channel_id_right ┆ post_date                    │\n",
       "│ ---      ┆ ---        ┆ ---                    ┆ ---              ┆ ---                          │\n",
       "│ i64      ┆ i64        ┆ list[i64]              ┆ i64              ┆ str                          │\n",
       "╞══════════╪════════════╪════════════════════════╪══════════════════╪══════════════════════════════╡\n",
       "│ 4006259  ┆ 1000183937 ┆ [4006269, 4006268, …   ┆ 1000183937       ┆ 2024-11-06T15:14:08.000000   │\n",
       "│          ┆            ┆ 4006260]               ┆                  ┆                              │\n",
       "│ 8352825  ┆ 1000627591 ┆ [8352835, 8352834, …   ┆ 1000627591       ┆ 2024-09-16T09:06:21.000000   │\n",
       "│          ┆            ┆ 8352826]               ┆                  ┆                              │\n",
       "│ 7074797  ┆ 1000683515 ┆ [7074807, 7074806, …   ┆ 1000683515       ┆ 2024-08-26T06:02:01.000000   │\n",
       "│          ┆            ┆ 7074798]               ┆                  ┆                              │\n",
       "│ 9257579  ┆ 1000735083 ┆ [9257589, 9257588, …   ┆ 1000735083       ┆ 2024-01-23T16:43:51.000000   │\n",
       "│          ┆            ┆ 9257580]               ┆                  ┆                              │\n",
       "│ 9257507  ┆ 1000735083 ┆ [9257517, 9257516, …   ┆ 1000735083       ┆ 2024-01-28T10:02:48.000000   │\n",
       "│          ┆            ┆ 9257508]               ┆                  ┆                              │\n",
       "│ …        ┆ …          ┆ …                      ┆ …                ┆ …                            │\n",
       "│ 12415659 ┆ 2314282174 ┆ [12415682, 12415676, … ┆ 2314282174       ┆ 2024-11-27T14:58:15.000000   │\n",
       "│          ┆            ┆ 1241566…               ┆                  ┆                              │\n",
       "│ 12415580 ┆ 2314282174 ┆ [12415600, 12415593, … ┆ 2314282174       ┆ 2024-11-28T09:52:06.000000   │\n",
       "│          ┆            ┆ 1241558…               ┆                  ┆                              │\n",
       "│ 12415573 ┆ 2314282174 ┆ [12415585, 12415584, … ┆ 2314282174       ┆ 2024-11-28T11:33:01.000000   │\n",
       "│          ┆            ┆ 1241557…               ┆                  ┆                              │\n",
       "│ 4735900  ┆ 2376767046 ┆ [4735914, 4735913, …   ┆ 2376767046       ┆ 2024-10-14T07:02:44.000000   │\n",
       "│          ┆            ┆ 4735901]               ┆                  ┆                              │\n",
       "│ 6350199  ┆ 2470470640 ┆ [6350244, 6350242, …   ┆ 2470470640       ┆ 2024-10-25T09:38:30.000000   │\n",
       "│          ┆            ┆ 6350209]               ┆                  ┆                              │\n",
       "└──────────┴────────────┴────────────────────────┴──────────────────┴──────────────────────────────┘"
      ]
     },
     "execution_count": 13,
     "metadata": {},
     "output_type": "execute_result"
    }
   ],
   "source": [
    "%%time\n",
    "# Do inner join by id\n",
    "ad_prev_posts = prev_posts_with_text.join(ad_posts_meta, on=\"id\", how=\"inner\")\n",
    "ad_prev_posts"
   ]
  },
  {
   "cell_type": "code",
   "execution_count": 14,
   "metadata": {},
   "outputs": [
    {
     "data": {
      "text/html": [
       "<div><style>\n",
       ".dataframe > thead > tr,\n",
       ".dataframe > tbody > tr {\n",
       "  text-align: right;\n",
       "  white-space: pre-wrap;\n",
       "}\n",
       "</style>\n",
       "<small>shape: (177_373, 3)</small><table border=\"1\" class=\"dataframe\"><thead><tr><th>id</th><th>channel_id</th><th>prev_id</th></tr><tr><td>i64</td><td>i64</td><td>list[i64]</td></tr></thead><tbody><tr><td>4006259</td><td>1000183937</td><td>[4006269, 4006268, … 4006260]</td></tr><tr><td>8352825</td><td>1000627591</td><td>[8352835, 8352834, … 8352826]</td></tr><tr><td>7074797</td><td>1000683515</td><td>[7074807, 7074806, … 7074798]</td></tr><tr><td>9257579</td><td>1000735083</td><td>[9257589, 9257588, … 9257580]</td></tr><tr><td>9257507</td><td>1000735083</td><td>[9257517, 9257516, … 9257508]</td></tr><tr><td>&hellip;</td><td>&hellip;</td><td>&hellip;</td></tr><tr><td>12415659</td><td>2314282174</td><td>[12415682, 12415676, … 12415660]</td></tr><tr><td>12415580</td><td>2314282174</td><td>[12415600, 12415593, … 12415582]</td></tr><tr><td>12415573</td><td>2314282174</td><td>[12415585, 12415584, … 12415574]</td></tr><tr><td>4735900</td><td>2376767046</td><td>[4735914, 4735913, … 4735901]</td></tr><tr><td>6350199</td><td>2470470640</td><td>[6350244, 6350242, … 6350209]</td></tr></tbody></table></div>"
      ],
      "text/plain": [
       "shape: (177_373, 3)\n",
       "┌──────────┬────────────┬─────────────────────────────────┐\n",
       "│ id       ┆ channel_id ┆ prev_id                         │\n",
       "│ ---      ┆ ---        ┆ ---                             │\n",
       "│ i64      ┆ i64        ┆ list[i64]                       │\n",
       "╞══════════╪════════════╪═════════════════════════════════╡\n",
       "│ 4006259  ┆ 1000183937 ┆ [4006269, 4006268, … 4006260]   │\n",
       "│ 8352825  ┆ 1000627591 ┆ [8352835, 8352834, … 8352826]   │\n",
       "│ 7074797  ┆ 1000683515 ┆ [7074807, 7074806, … 7074798]   │\n",
       "│ 9257579  ┆ 1000735083 ┆ [9257589, 9257588, … 9257580]   │\n",
       "│ 9257507  ┆ 1000735083 ┆ [9257517, 9257516, … 9257508]   │\n",
       "│ …        ┆ …          ┆ …                               │\n",
       "│ 12415659 ┆ 2314282174 ┆ [12415682, 12415676, … 1241566… │\n",
       "│ 12415580 ┆ 2314282174 ┆ [12415600, 12415593, … 1241558… │\n",
       "│ 12415573 ┆ 2314282174 ┆ [12415585, 12415584, … 1241557… │\n",
       "│ 4735900  ┆ 2376767046 ┆ [4735914, 4735913, … 4735901]   │\n",
       "│ 6350199  ┆ 2470470640 ┆ [6350244, 6350242, … 6350209]   │\n",
       "└──────────┴────────────┴─────────────────────────────────┘"
      ]
     },
     "execution_count": 14,
     "metadata": {},
     "output_type": "execute_result"
    }
   ],
   "source": [
    "# Drop some cols\n",
    "ad_prev_posts.drop_in_place(\"channel_id_right\");\n",
    "ad_prev_posts.drop_in_place(\"post_date\");\n",
    "\n",
    "# Release memory\n",
    "del prev_posts_with_text\n",
    "del ad_posts_meta\n",
    "\n",
    "ad_prev_posts"
   ]
  },
  {
   "cell_type": "code",
   "execution_count": 15,
   "metadata": {},
   "outputs": [
    {
     "name": "stdout",
     "output_type": "stream",
     "text": [
      "CPU times: user 1.87 s, sys: 303 ms, total: 2.18 s\n",
      "Wall time: 2.27 s\n"
     ]
    }
   ],
   "source": [
    "%%time\n",
    "# Save it in numpy format\n",
    "np.save(FOLDER + \"ad_prev_posts.npy\", ad_prev_posts.to_numpy())"
   ]
  }
 ],
 "metadata": {
  "kernelspec": {
   "display_name": "influai-emb",
   "language": "python",
   "name": "python3"
  },
  "language_info": {
   "codemirror_mode": {
    "name": "ipython",
    "version": 3
   },
   "file_extension": ".py",
   "mimetype": "text/x-python",
   "name": "python",
   "nbconvert_exporter": "python",
   "pygments_lexer": "ipython3",
   "version": "3.12.8"
  }
 },
 "nbformat": 4,
 "nbformat_minor": 2
}

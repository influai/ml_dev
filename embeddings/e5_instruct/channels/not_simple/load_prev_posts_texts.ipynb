{
 "cells": [
  {
   "cell_type": "code",
   "execution_count": 30,
   "metadata": {},
   "outputs": [],
   "source": [
    "import json\n",
    "import os\n",
    "\n",
    "import numpy as np\n",
    "import psycopg\n",
    "from dotenv import load_dotenv\n",
    "from tqdm import tqdm"
   ]
  },
  {
   "cell_type": "markdown",
   "metadata": {},
   "source": [
    "## Load ad prev post ids"
   ]
  },
  {
   "cell_type": "code",
   "execution_count": 31,
   "metadata": {},
   "outputs": [
    {
     "data": {
      "text/plain": [
       "array([[4006259, 1000183937,\n",
       "        array([4006269, 4006268, 4006267, 4006266, 4006265, 4006264, 4006263,\n",
       "               4006262, 4006261, 4006260])                                   ],\n",
       "       [8352825, 1000627591,\n",
       "        array([8352835, 8352834, 8352833, 8352832, 8352831, 8352830, 8352829,\n",
       "               8352828, 8352827, 8352826])                                   ],\n",
       "       [7074797, 1000683515,\n",
       "        array([7074807, 7074806, 7074805, 7074804, 7074803, 7074802, 7074801,\n",
       "               7074800, 7074799, 7074798])                                   ]],\n",
       "      dtype=object)"
      ]
     },
     "execution_count": 31,
     "metadata": {},
     "output_type": "execute_result"
    }
   ],
   "source": [
    "ad_prev_posts = np.load(\n",
    "    \"/home/deniskirbaba/Documents/influai-data/embeddings/ad_prev_posts.npy\", allow_pickle=True\n",
    ")\n",
    "ad_prev_posts[:3]"
   ]
  },
  {
   "cell_type": "code",
   "execution_count": 32,
   "metadata": {},
   "outputs": [
    {
     "name": "stdout",
     "output_type": "stream",
     "text": [
      "Number of ad posts: 177373\n",
      "Total number of prev posts: 1766026\n"
     ]
    }
   ],
   "source": [
    "print(\n",
    "    f\"Number of ad posts: {len(ad_prev_posts)}\\nTotal number of prev posts: {sum([len(i[2]) for i in ad_prev_posts])}\"\n",
    ")"
   ]
  },
  {
   "cell_type": "markdown",
   "metadata": {},
   "source": [
    "## Set up DB conn and fetching function"
   ]
  },
  {
   "cell_type": "code",
   "execution_count": 33,
   "metadata": {},
   "outputs": [
    {
     "data": {
      "text/plain": [
       "True"
      ]
     },
     "execution_count": 33,
     "metadata": {},
     "output_type": "execute_result"
    }
   ],
   "source": [
    "load_dotenv()"
   ]
  },
  {
   "cell_type": "code",
   "execution_count": 34,
   "metadata": {},
   "outputs": [
    {
     "name": "stdout",
     "output_type": "stream",
     "text": [
      "Connection established.\n"
     ]
    }
   ],
   "source": [
    "try:\n",
    "    conn = psycopg.connect(\n",
    "        host=os.getenv(\"DB_IP\"),\n",
    "        dbname=os.getenv(\"DB_NAME\"),\n",
    "        user=os.getenv(\"DB_USER\"),\n",
    "        password=os.getenv(\"DB_PASSWORD\"),\n",
    "        port=os.getenv(\"DB_PORT\"),\n",
    "    )\n",
    "    print(\"Connection established.\")\n",
    "except Exception as e:\n",
    "    print(f\"Error connecting to the database: {e}\")\n",
    "    raise"
   ]
  },
  {
   "cell_type": "code",
   "execution_count": 35,
   "metadata": {},
   "outputs": [],
   "source": [
    "SCHEME = \"parse\"\n",
    "TABLE = \"posts_content\"\n",
    "COLUMNS = [\"raw_text\"]\n",
    "CHUNK_SIZE = 10_000\n",
    "OUTPUT_DIR = \"/home/deniskirbaba/Documents/influai-data/embeddings/ad_prev_texts\""
   ]
  },
  {
   "cell_type": "code",
   "execution_count": 36,
   "metadata": {},
   "outputs": [],
   "source": [
    "def save(ad_prev_texts, ad_posts_processed):\n",
    "    with open(f\"{OUTPUT_DIR}/ad_prev_texts_{ad_posts_processed}.json\", \"w\") as f:\n",
    "        json.dump(ad_prev_texts, f, ensure_ascii=False)"
   ]
  },
  {
   "cell_type": "code",
   "execution_count": 37,
   "metadata": {},
   "outputs": [],
   "source": [
    "def fetch_data(conn, ad_prev_posts):\n",
    "    try:\n",
    "        with conn.cursor(name=\"streaming_cursor\") as cursor:\n",
    "            ad_prev_texts = {}\n",
    "            ad_posts_processed = 0\n",
    "\n",
    "            for ad_post_id, _, ids in tqdm(ad_prev_posts):\n",
    "                if len(ids) != 0:\n",
    "                    id_list = \", \".join(map(str, ids))\n",
    "                    query = f\"SELECT {', '.join(COLUMNS)} FROM {SCHEME}.{TABLE} WHERE id IN ({id_list})\"\n",
    "                    cursor.execute(query)\n",
    "\n",
    "                    rows = []\n",
    "                    for row in cursor:\n",
    "                        rows.append(row)\n",
    "                    ad_prev_texts[ad_post_id] = [ids.tolist(), rows]\n",
    "                else:\n",
    "                    ad_prev_texts[ad_post_id] = []\n",
    "                    \n",
    "                ad_posts_processed += 1\n",
    "\n",
    "                if ad_posts_processed % CHUNK_SIZE == 0:\n",
    "                    save(ad_prev_texts, ad_posts_processed)\n",
    "                    ad_prev_texts = {}\n",
    "\n",
    "            if ad_prev_texts:\n",
    "                save(ad_prev_texts, ad_posts_processed)\n",
    "\n",
    "    except Exception as e:\n",
    "        print(f\"Error during data fetching: {e}\")\n",
    "        raise\n",
    "    finally:\n",
    "        conn.close()\n",
    "        print(\"Connection closed.\")"
   ]
  },
  {
   "cell_type": "code",
   "execution_count": 38,
   "metadata": {},
   "outputs": [
    {
     "name": "stderr",
     "output_type": "stream",
     "text": [
      " 12%|█▏        | 20938/177373 [43:35<5:25:39,  8.01it/s] \n"
     ]
    },
    {
     "name": "stdout",
     "output_type": "stream",
     "text": [
      "Connection closed.\n"
     ]
    },
    {
     "ename": "KeyboardInterrupt",
     "evalue": "",
     "output_type": "error",
     "traceback": [
      "\u001b[0;31m---------------------------------------------------------------------------\u001b[0m",
      "\u001b[0;31mKeyboardInterrupt\u001b[0m                         Traceback (most recent call last)",
      "Cell \u001b[0;32mIn[38], line 1\u001b[0m\n\u001b[0;32m----> 1\u001b[0m \u001b[43mfetch_data\u001b[49m\u001b[43m(\u001b[49m\u001b[43mconn\u001b[49m\u001b[43m,\u001b[49m\u001b[43m \u001b[49m\u001b[43mad_prev_posts\u001b[49m\u001b[43m)\u001b[49m\n",
      "Cell \u001b[0;32mIn[37], line 11\u001b[0m, in \u001b[0;36mfetch_data\u001b[0;34m(conn, ad_prev_posts)\u001b[0m\n\u001b[1;32m      9\u001b[0m id_list \u001b[38;5;241m=\u001b[39m \u001b[38;5;124m\"\u001b[39m\u001b[38;5;124m, \u001b[39m\u001b[38;5;124m\"\u001b[39m\u001b[38;5;241m.\u001b[39mjoin(\u001b[38;5;28mmap\u001b[39m(\u001b[38;5;28mstr\u001b[39m, ids))\n\u001b[1;32m     10\u001b[0m query \u001b[38;5;241m=\u001b[39m \u001b[38;5;124mf\u001b[39m\u001b[38;5;124m\"\u001b[39m\u001b[38;5;124mSELECT \u001b[39m\u001b[38;5;132;01m{\u001b[39;00m\u001b[38;5;124m'\u001b[39m\u001b[38;5;124m, \u001b[39m\u001b[38;5;124m'\u001b[39m\u001b[38;5;241m.\u001b[39mjoin(COLUMNS)\u001b[38;5;132;01m}\u001b[39;00m\u001b[38;5;124m FROM \u001b[39m\u001b[38;5;132;01m{\u001b[39;00mSCHEME\u001b[38;5;132;01m}\u001b[39;00m\u001b[38;5;124m.\u001b[39m\u001b[38;5;132;01m{\u001b[39;00mTABLE\u001b[38;5;132;01m}\u001b[39;00m\u001b[38;5;124m WHERE id IN (\u001b[39m\u001b[38;5;132;01m{\u001b[39;00mid_list\u001b[38;5;132;01m}\u001b[39;00m\u001b[38;5;124m)\u001b[39m\u001b[38;5;124m\"\u001b[39m\n\u001b[0;32m---> 11\u001b[0m \u001b[43mcursor\u001b[49m\u001b[38;5;241;43m.\u001b[39;49m\u001b[43mexecute\u001b[49m\u001b[43m(\u001b[49m\u001b[43mquery\u001b[49m\u001b[43m)\u001b[49m\n\u001b[1;32m     13\u001b[0m rows \u001b[38;5;241m=\u001b[39m []\n\u001b[1;32m     14\u001b[0m \u001b[38;5;28;01mfor\u001b[39;00m row \u001b[38;5;129;01min\u001b[39;00m cursor:\n",
      "File \u001b[0;32m~/miniconda3/envs/influai-emb/lib/python3.12/site-packages/psycopg/server_cursor.py:294\u001b[0m, in \u001b[0;36mServerCursor.execute\u001b[0;34m(self, query, params, binary, **kwargs)\u001b[0m\n\u001b[1;32m    292\u001b[0m         \u001b[38;5;28mself\u001b[39m\u001b[38;5;241m.\u001b[39m_conn\u001b[38;5;241m.\u001b[39mwait(\u001b[38;5;28mself\u001b[39m\u001b[38;5;241m.\u001b[39m_declare_gen(query, params, binary))\n\u001b[1;32m    293\u001b[0m \u001b[38;5;28;01mexcept\u001b[39;00m e\u001b[38;5;241m.\u001b[39m_NO_TRACEBACK \u001b[38;5;28;01mas\u001b[39;00m ex:\n\u001b[0;32m--> 294\u001b[0m     \u001b[38;5;28;01mraise\u001b[39;00m ex\u001b[38;5;241m.\u001b[39mwith_traceback(\u001b[38;5;28;01mNone\u001b[39;00m)\n\u001b[1;32m    296\u001b[0m \u001b[38;5;28;01mreturn\u001b[39;00m \u001b[38;5;28mself\u001b[39m\n",
      "\u001b[0;31mKeyboardInterrupt\u001b[0m: "
     ]
    }
   ],
   "source": [
    "fetch_data(conn, ad_prev_posts)"
   ]
  }
 ],
 "metadata": {
  "kernelspec": {
   "display_name": "influai-emb",
   "language": "python",
   "name": "python3"
  },
  "language_info": {
   "codemirror_mode": {
    "name": "ipython",
    "version": 3
   },
   "file_extension": ".py",
   "mimetype": "text/x-python",
   "name": "python",
   "nbconvert_exporter": "python",
   "pygments_lexer": "ipython3",
   "version": "3.12.8"
  }
 },
 "nbformat": 4,
 "nbformat_minor": 2
}

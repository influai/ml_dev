{
 "cells": [
  {
   "cell_type": "code",
   "execution_count": 1,
   "metadata": {},
   "outputs": [],
   "source": [
    "import json\n",
    "import os\n",
    "\n",
    "import numpy as np\n",
    "import psycopg\n",
    "from dotenv import load_dotenv\n",
    "from tqdm import tqdm"
   ]
  },
  {
   "cell_type": "markdown",
   "metadata": {},
   "source": [
    "## Load ad prev post ids"
   ]
  },
  {
   "cell_type": "code",
   "execution_count": 2,
   "metadata": {},
   "outputs": [
    {
     "data": {
      "text/plain": [
       "array([[4006259, 1000183937,\n",
       "        array([4006269, 4006268, 4006267, 4006266, 4006265, 4006264, 4006263,\n",
       "               4006262, 4006261, 4006260])                                   ],\n",
       "       [8352825, 1000627591,\n",
       "        array([8352835, 8352834, 8352833, 8352832, 8352831, 8352830, 8352829,\n",
       "               8352828, 8352827, 8352826])                                   ],\n",
       "       [7074797, 1000683515,\n",
       "        array([7074807, 7074806, 7074805, 7074804, 7074803, 7074802, 7074801,\n",
       "               7074800, 7074799, 7074798])                                   ]],\n",
       "      dtype=object)"
      ]
     },
     "execution_count": 2,
     "metadata": {},
     "output_type": "execute_result"
    }
   ],
   "source": [
    "ad_prev_posts = np.load(\n",
    "    \"/home/deniskirbaba/Documents/influai-data/embeddings/ad_prev_posts.npy\", allow_pickle=True\n",
    ")\n",
    "ad_prev_posts[:3]"
   ]
  },
  {
   "cell_type": "code",
   "execution_count": 3,
   "metadata": {},
   "outputs": [
    {
     "name": "stdout",
     "output_type": "stream",
     "text": [
      "Number of ad posts: 177373\n",
      "Total number of prev posts: 1766026\n"
     ]
    }
   ],
   "source": [
    "print(\n",
    "    f\"Number of ad posts: {len(ad_prev_posts)}\\nTotal number of prev posts: {sum([len(i[2]) for i in ad_prev_posts])}\"\n",
    ")"
   ]
  },
  {
   "cell_type": "markdown",
   "metadata": {},
   "source": [
    "## Set up DB conn and fetching function"
   ]
  },
  {
   "cell_type": "code",
   "execution_count": 4,
   "metadata": {},
   "outputs": [
    {
     "data": {
      "text/plain": [
       "True"
      ]
     },
     "execution_count": 4,
     "metadata": {},
     "output_type": "execute_result"
    }
   ],
   "source": [
    "load_dotenv()"
   ]
  },
  {
   "cell_type": "code",
   "execution_count": 5,
   "metadata": {},
   "outputs": [
    {
     "name": "stdout",
     "output_type": "stream",
     "text": [
      "Connection established.\n"
     ]
    }
   ],
   "source": [
    "try:\n",
    "    conn = psycopg.connect(\n",
    "        host=os.getenv(\"DB_IP\"),\n",
    "        dbname=os.getenv(\"DB_NAME\"),\n",
    "        user=os.getenv(\"DB_USER\"),\n",
    "        password=os.getenv(\"DB_PASSWORD\"),\n",
    "        port=os.getenv(\"DB_PORT\"),\n",
    "    )\n",
    "    print(\"Connection established.\")\n",
    "except Exception as e:\n",
    "    print(f\"Error connecting to the database: {e}\")\n",
    "    raise"
   ]
  },
  {
   "cell_type": "code",
   "execution_count": 6,
   "metadata": {},
   "outputs": [],
   "source": [
    "SCHEME = \"parse\"\n",
    "TABLE = \"posts_content\"\n",
    "COLUMNS = [\"raw_text\"]\n",
    "CHUNK_SIZE = 10_000\n",
    "OUTPUT_DIR = \"/home/deniskirbaba/Documents/influai-data/embeddings/ad_prev_texts\""
   ]
  },
  {
   "cell_type": "code",
   "execution_count": 7,
   "metadata": {},
   "outputs": [],
   "source": [
    "def save(ad_prev_texts, ad_posts_processed):\n",
    "    with open(f\"{OUTPUT_DIR}/ad_prev_texts_{ad_posts_processed}.json\", \"w\") as f:\n",
    "        json.dump(ad_prev_texts, f, ensure_ascii=False)"
   ]
  },
  {
   "cell_type": "code",
   "execution_count": 8,
   "metadata": {},
   "outputs": [],
   "source": [
    "def fetch_data(conn, ad_prev_posts):\n",
    "    try:\n",
    "        with conn.cursor(name=\"streaming_cursor\") as cursor:\n",
    "            ad_prev_texts = {}\n",
    "            ad_posts_processed = 0\n",
    "\n",
    "            for ad_post_id, _, ids in tqdm(ad_prev_posts):\n",
    "                if len(ids) != 0:\n",
    "                    id_list = \", \".join(map(str, ids))\n",
    "                    query = f\"SELECT {', '.join(COLUMNS)} FROM {SCHEME}.{TABLE} WHERE id IN ({id_list})\"\n",
    "                    cursor.execute(query)\n",
    "\n",
    "                    rows = []\n",
    "                    for row in cursor:\n",
    "                        rows.append(row)\n",
    "                    ad_prev_texts[ad_post_id] = [ids.tolist(), rows]\n",
    "                else:\n",
    "                    ad_prev_texts[ad_post_id] = []\n",
    "                    \n",
    "                ad_posts_processed += 1\n",
    "\n",
    "                if ad_posts_processed % CHUNK_SIZE == 0:\n",
    "                    save(ad_prev_texts, ad_posts_processed)\n",
    "                    ad_prev_texts = {}\n",
    "\n",
    "            if ad_prev_texts:\n",
    "                save(ad_prev_texts, ad_posts_processed)\n",
    "\n",
    "    except Exception as e:\n",
    "        print(f\"Error during data fetching: {e}\")\n",
    "        raise\n",
    "    finally:\n",
    "        conn.close()\n",
    "        print(\"Connection closed.\")"
   ]
  },
  {
   "cell_type": "code",
   "execution_count": 9,
   "metadata": {},
   "outputs": [
    {
     "name": "stderr",
     "output_type": "stream",
     "text": [
      "  0%|          | 0/177373 [00:00<?, ?it/s]"
     ]
    },
    {
     "name": "stderr",
     "output_type": "stream",
     "text": [
      "100%|██████████| 177373/177373 [7:02:36<00:00,  7.00it/s]    \n"
     ]
    },
    {
     "name": "stdout",
     "output_type": "stream",
     "text": [
      "Connection closed.\n"
     ]
    }
   ],
   "source": [
    "fetch_data(conn, ad_prev_posts)"
   ]
  }
 ],
 "metadata": {
  "kernelspec": {
   "display_name": "influai-emb",
   "language": "python",
   "name": "python3"
  },
  "language_info": {
   "codemirror_mode": {
    "name": "ipython",
    "version": 3
   },
   "file_extension": ".py",
   "mimetype": "text/x-python",
   "name": "python",
   "nbconvert_exporter": "python",
   "pygments_lexer": "ipython3",
   "version": "3.12.8"
  }
 },
 "nbformat": 4,
 "nbformat_minor": 2
}

{
 "cells": [
  {
   "cell_type": "code",
   "execution_count": 25,
   "metadata": {},
   "outputs": [],
   "source": [
    "import json\n",
    "from pathlib import Path\n",
    "from tqdm import tqdm\n",
    "import matplotlib.pyplot as plt\n",
    "import polars as pl"
   ]
  },
  {
   "cell_type": "markdown",
   "metadata": {},
   "source": [
    "## Load"
   ]
  },
  {
   "cell_type": "code",
   "execution_count": 14,
   "metadata": {},
   "outputs": [
    {
     "name": "stderr",
     "output_type": "stream",
     "text": [
      "18it [00:37,  2.09s/it]\n"
     ]
    }
   ],
   "source": [
    "# Load texts\n",
    "FOLDER = \"/home/deniskirbaba/Documents/influai-data/embeddings/ad_prev_texts\"\n",
    "\n",
    "texts = {}\n",
    "for batch_path in tqdm(Path(FOLDER).iterdir()):\n",
    "    with open(batch_path, \"r\") as f:\n",
    "        texts.update(json.load(f))"
   ]
  },
  {
   "cell_type": "code",
   "execution_count": 15,
   "metadata": {},
   "outputs": [
    {
     "data": {
      "text/plain": [
       "177373"
      ]
     },
     "execution_count": 15,
     "metadata": {},
     "output_type": "execute_result"
    }
   ],
   "source": [
    "len(texts)"
   ]
  },
  {
   "cell_type": "code",
   "execution_count": 20,
   "metadata": {},
   "outputs": [
    {
     "data": {
      "text/plain": [
       "[[11170379,\n",
       "  11170378,\n",
       "  11170377,\n",
       "  11170376,\n",
       "  11170375,\n",
       "  11170371,\n",
       "  11170370,\n",
       "  11170369,\n",
       "  11170368,\n",
       "  11170367],\n",
       " [['🇷🇺Российские военные группировки \"Центр\" освободили населенный пункт Тимофеевка в ДНР, сообщило Минобороны.\\n\\n💬 Чат: https://t.me/+vSFY5TTfYNJiMWEy\\n\\nИзвестияЛДНР'],\n",
       "  ['🖼️В Антраците на стенах школы Олега Кошевого разместят портреты молодогвардейцев\\n\\n🏫 Школа №1 города Антрацита, в которой учился один из лидеров молодогвардейцев Олег Кошевой, возобновит работу после ремонта осенью 2024 года. На стенах здания разместят портреты молодогвардейцев, сообщили в правительстве Ставрополья.\\n\\n💬\"Историческое здание не видело серьезного ремонта несколько десятков лет. К началу 2020-х оно сильно обветшало и могло быть утрачено. Помощь Ставрополья помогла школу сохранить. Капитальный ремонт завершен на 98%, к осени его полностью закончат. С нового учебного года в школе полноценно начнутся занятия. На стенах школы будут размещены портреты героев-молодогвардейцев\", - говорится в сообщении управления пресс-службы и информполитики губернатора и правительства края.\\n\\n💬 Чат: https://t.me/+vSFY5TTfYNJiMWEy\\n\\nИзвестияЛДНР'],\n",
       "  ['🕯️Митинг, посвященный десятой годовщине авиаудара украинских националистов по мирным жителям города, прошел в Суходольске, у памятного знака, посвященного жертвам того авианалета в августе 2014 года и погибшим суходольским ополченцам. \\n\\n❗️В мероприятии приняли участие руководство Краснодонского муниципального округа и отдела по жизнеобеспечению Суходольска, представители духовенства, казачества, ветеранских организаций, общественности города.\\n\\n😡6 августа 2014 года вооруженные формирования Украины нанесли авиаудар по шахтерскому Суходольску, в результате которого погибли 17 мирных граждан, в том числе один ребенок.\\n\\n«Когда был нанесен авиаудар по Суходольску, содрогнулась не только земля. Содрогнулись наши сердца. Мы содрогнулись от жестокости Украины. Но, несмотря на боль утрат, ополченцы встали на защиту родной земли, потому что ничто не сможет сломить силу русского духа», — уверен председатель Совета Краснодонского муниципального округа Владимир Шавлай.\\n\\n💬 Чат: https://t.me/+vSFY5TTfYNJiMWEy\\n\\nИзвестияЛДНР'],\n",
       "  ['❓Могут ли индивидуальные предприниматели в ЛНР рассчитывать на больничные и декретные?\\n\\n✅Индивидуальные предприниматели (ИП) платят обязательные взносы в фиксированном размере. Средства идут на пенсионное и медицинское страхование, но не дают права на пособие по временной нетрудоспособности. \\n\\n✔️Чтобы получать выплаты по болезни или декрету, нужно застраховаться на случай временной нетрудоспособности и в связи с материнством. Для ИП эти отчисления не является обязательным.\\n\\n✔️Заключите договор с Отделением Социального фонда России по ЛНР и отчисляйте взносы. Право на обеспечение по обязательному соцстрахованию появляется при условии уплаты взносов за предыдущий год.\\n\\n☝️В 2024 году пособие по болезни или декретные выплаты могут получать предприниматели, которые заплатили взносы до конца 2023 года.\\n\\n❗️Чтобы получать пособия в 2025 году, предприниматель должен перечислить до конца года 6696,22 руб.\\n\\n📲Если у вас есть вопросы, получить консультацию специалистов Отделения Социального фонда России по ЛНР вы можете по единому номеру 8 (959) 567-75-16 с понедельника по четверг с 09:00 до 18:00, в пятницу с 09:00 до 16:45, перерыв с 13:00 до 13:45.\\n\\n🔗Отделение Соцфонда России по ЛНР здесь \\n\\n💬 Чат: https://t.me/+vSFY5TTfYNJiMWEy\\n\\nИзвестияЛДНР'],\n",
       "  ['⭕️В ДНР задержали женщину, которая выбросила в мусорный контейнер тело новорожденного ребенка, сообщили в СУ СК России по региону⭕️\\n\\n❗️Установлено, что тело ребенка было обнаружено коммунальщиками 3 августа в мусорном контейнере возле одного из кафе города Енакиево. \\n\\n🔺Причиной смерти ребенка является закрытая черепно-мозговая травма.\\n\\n💬 Чат: https://t.me/+vSFY5TTfYNJiMWEy\\n\\nИзвестияЛДНР'],\n",
       "  ['⚡️Спасатели МЧС России оперативно ликвидировали пожар, возникший из-за непотушенной сигареты\\n\\n☎️ На линию 101 г. Красный Луч поступил вызов о загорании автомойки на частном подворье по ул. Советская.\\n⚠️ По информации: есть угроза распространения огня.\\n\\n🚒 На место оперативно выехали силы и средства 12 и 15 пожарно-спасательной частей. \\n⚠️ По прибытии спасателей наблюдалось открытое горение хоз. постройки и крыши жилого дома. Огонь перекинулся на высокое дерево и на здание автомойки. \\n\\n❗ Благодаря оперативным действиям спасателей удалось не допустить увеличения площади горения. \\n\\nВ результате пожара уничтожено: мебель на площади 9 квадратных метров, внутренняя отделка на площади 18 квадратных метров, повреждено покрытие на площади 18 квадратных метров в автомойке \"Водолей\", хоз. постройка на площади 12 квадратных метров, покрытие на площади 10 квадратных метров.\\n\\nПовреждено: покрытие на площади 6 квадратных метров, входная дверь и оконный блок в жилом доме.\\n\\n💬 Чат: https://t.me/+vSFY5TTfYNJiMWEy\\n\\nИзвестияЛДНР'],\n",
       "  ['⭕️ВСУ увеличили число атак по гражданским объектам на российских территориях с использованием ударных БпЛА и дальнобойных ракет.\\n\\n🔺Украинские боевики преднамеренно используют расширяющийся арсенал поставляемых западниками БпЛА для нанесения ударов по мирному населению, гражданским автомобилям, городскому общественному\\nтранспорту, сельскохозяйственной технике, жилым домам, магазинам и\\nАЗС. \\n\\n🔺В ДНР от ударов с использованием БпЛА пострадали пассажиры\\nгородских трамваев и маршрутных автобусов. Участились атаки дронов\\nна гражданские автомобили в ЛНР. БпЛА были использованы для нанесения удара по продовольственному рынку в\\nДонецке.\\n\\n🔺Обстрелы российской территории дальнобойным оружием, предоставленным «западными партнерами» киевского режима,\\nзафиксированы в Крыму, в ЛНР и ДНР.\\n\\n🚑 За минувшую неделю от обстрелов нацистов пострадал 91 мирный житель: ранены 86 человек, в том числе 5 несовершеннолетних, погибли 5 человек. \\n\\n💥Всего по мирным целям на российских территориях за прошедшие семь дней\\nукраинские вооруженные формирования выпустили не менее 1991 боеприпаса. \\n\\n‼️В числе наиболее циничных преступных деяний ВСУ против гражданского населения: \\n\\n🔹Убийство вагоновожатого в Горловке в результате атаки украинского БпЛА по городскому трамваю. \\n\\n🔹Ранение восеми мирных жителей при обстреле ВСУ города Алешки в Херсонской области.\\n\\n🔹Шесть пострадавших мирных жителей в результате сброса боеприпаса\\nдроном на продуктовый рынок в Донецке (ДНР).\\n\\n🔹Ранение 12-летнего мальчика в результате артиллерийского\\nобстрела села Новая Таволжанка Белгородской области.\\n\\n🔹Ранение женщины и ее 10-летней дочери в результате атаки украинского БпЛА на гражданский автомобиль в Сватово (ЛНР).\\n\\n🔹Атака БПЛА на городской автобус в Горловке. Девочка-подросток получила ранение. \\n\\n🔹От артобстрела получил ранение подросток в селе Малые Копани в Херсонской области.\\n\\n🔹75-летний мужчина получил ранение при обстреле поселка Саги в Херсонской области.\\n\\n💬 Чат: https://t.me/+vSFY5TTfYNJiMWEy\\n\\nИзвестияЛДНР'],\n",
       "  ['💦  6 августа аварийными бригадами ГУП ЛНР \"Лугансквода\" намечены ремонтные работы на водопроводных сетях и объектах по следующим адресам:\\n\\n🔹г. Луганск: ул.Даля, ул.Краснодонская, ул.16-я линия, ул.Оборонная, ул.Лебедева-Кумача, ул.Ткаченко, ул.Осипенко, кв.Ватутина, ул.П.Морозова/Димитрова, кв.50 лет Октября, ул.Смоленская, ул.Циолковского, ул.Щаденко, ул.Грабовского, ул.Мостовая, кв.Ольховский, ул.Коммунальная, п.Юбилейный ул.Дидоренко, ВНС 4п.\\n\\n🔹Лутугинский район: п.Белое-1 ул.Матросова, ул.Проездная.\\n\\n🔹Краснодонский район: г.Краснодон кв.Шахтер, п.Самсоновка ул.Советская.\\n\\n🔹г. Ровеньки: ул.Маяковского, ул.Космонавтов, ул.Шахтная, ул.Некрасова, ул.Нагольная/ул.Разломная.\\n\\n🔹г. Свердловск: кв. 60 лет СССР, Володарский водовод.\\n\\n🔹Славяносербский район: г.Зимогорье.\\n\\n🔹Перевальский район: г.Зоринск регулировка воды по сетям, п.Чернухино.\\n\\n🔹г. Алчевск: пер.Горького, водовод на ул.Станиславского, ул.Киевская кая, ул.Ленина.\\n\\n🔹г. Кировск: ул.Войкова, ул.Чкалова, ул.Луначарского.\\n\\n🔹г. Брянка: ул.Владимирская, ул.Украинская, ул.Артема.\\n\\n🔹г. Стаханов:  ул.Челюскинцев, ул. К.Либкнехта, ул.395 Ш.Дивизии, г.Ирмино ул.Л.Чайкиной.\\n\\n🔹г. Первомайск: ул.Пионерская.\\n\\n🔹Станично-Луганский район: с.Расцвет ул.Цветочная.\\n\\n🔹г.Красный Луч: ул.Папанина, ул.Павловская/К.Маркса, водовод на ВНС КРУМ.\\n\\n🔹г. Антрацит: ул.Петровского.\\n\\n⚠️ На время проведения ремонтных работ по вышеуказанным адресам и ближайшим районам возможны прекращения в подаче воды в течение дня.\\n\\n💬 Чат: https://t.me/+vSFY5TTfYNJiMWEy\\n\\nИзвестияЛДНР'],\n",
       "  ['⭕️В небе над ЛДНР работают наши друзья\\n ✈️ 🇷🇺✈️🇷🇺✈️ 🇷🇺✈️🇷🇺✈️ 🇷🇺✈️🇷🇺✈️ \\n\\n💬Чат:https://t.me/+vSFY5TTfYNJiMWEy\\n\\nИзвестияЛДНР'],\n",
       "  ['⚠️Минувшей ночью ВСУ пытались прорвать государственную границу в соседней Курской области\\n\\n👨\\u200d🦱 Врио губернатора Курской области Алексей Смирнов сообщил, что этой ночью со стороны Украины было несколько попыток прорыва государственной границы. Пограничники остановили наступления в Суджанском и Кореневском районах и не допустили захода противника на территорию.\\n\\n🟢\"Хочу предупредить о том, что в ближайшие часы будет появляться много различных информационных вбросов. Убедительно прошу доверять официальным источникам информации и не поддаваться на действия провокаторов\", – предупредил Смирнов.\\n\\nПрислать новость: http://t.me/ObstanovkaBelgorod_bot\\n\\nИзвестия Белгород']]]"
      ]
     },
     "execution_count": 20,
     "metadata": {},
     "output_type": "execute_result"
    }
   ],
   "source": [
    "texts[\"11170366\"]"
   ]
  },
  {
   "cell_type": "markdown",
   "metadata": {},
   "source": [
    "## Analyze length"
   ]
  },
  {
   "cell_type": "code",
   "execution_count": 39,
   "metadata": {},
   "outputs": [
    {
     "name": "stderr",
     "output_type": "stream",
     "text": [
      "  0%|          | 0/177373 [00:00<?, ?it/s]"
     ]
    },
    {
     "name": "stderr",
     "output_type": "stream",
     "text": [
      "100%|██████████| 177373/177373 [00:00<00:00, 282693.82it/s]\n"
     ]
    }
   ],
   "source": [
    "# Constuct the array of len of each posts and of group of posts for ad\n",
    "one_post_lengths = []\n",
    "ads_posts_lengths = []\n",
    "\n",
    "for prev_posts in tqdm(texts.values()):\n",
    "    if prev_posts:\n",
    "        lengths = [len(t[0]) for t in prev_posts[1]]\n",
    "        one_post_lengths.extend(lengths)\n",
    "        ads_posts_lengths.append(sum(lengths))\n",
    "    else:\n",
    "        ads_posts_lengths.append(0)"
   ]
  },
  {
   "cell_type": "code",
   "execution_count": 40,
   "metadata": {},
   "outputs": [
    {
     "data": {
      "text/plain": [
       "(1766026, 177373)"
      ]
     },
     "execution_count": 40,
     "metadata": {},
     "output_type": "execute_result"
    }
   ],
   "source": [
    "len(one_post_lengths), len(ads_posts_lengths)"
   ]
  },
  {
   "cell_type": "markdown",
   "metadata": {},
   "source": [
    "### Individual posts"
   ]
  },
  {
   "cell_type": "code",
   "execution_count": 41,
   "metadata": {},
   "outputs": [
    {
     "data": {
      "text/html": [
       "<div><style>\n",
       ".dataframe > thead > tr,\n",
       ".dataframe > tbody > tr {\n",
       "  text-align: right;\n",
       "  white-space: pre-wrap;\n",
       "}\n",
       "</style>\n",
       "<small>shape: (9, 2)</small><table border=\"1\" class=\"dataframe\"><thead><tr><th>statistic</th><th>value</th></tr><tr><td>str</td><td>f64</td></tr></thead><tbody><tr><td>&quot;count&quot;</td><td>1.766026e6</td></tr><tr><td>&quot;null_count&quot;</td><td>0.0</td></tr><tr><td>&quot;mean&quot;</td><td>576.319816</td></tr><tr><td>&quot;std&quot;</td><td>596.694546</td></tr><tr><td>&quot;min&quot;</td><td>1.0</td></tr><tr><td>&quot;25%&quot;</td><td>181.0</td></tr><tr><td>&quot;50%&quot;</td><td>372.0</td></tr><tr><td>&quot;75%&quot;</td><td>780.0</td></tr><tr><td>&quot;max&quot;</td><td>4096.0</td></tr></tbody></table></div>"
      ],
      "text/plain": [
       "shape: (9, 2)\n",
       "┌────────────┬────────────┐\n",
       "│ statistic  ┆ value      │\n",
       "│ ---        ┆ ---        │\n",
       "│ str        ┆ f64        │\n",
       "╞════════════╪════════════╡\n",
       "│ count      ┆ 1.766026e6 │\n",
       "│ null_count ┆ 0.0        │\n",
       "│ mean       ┆ 576.319816 │\n",
       "│ std        ┆ 596.694546 │\n",
       "│ min        ┆ 1.0        │\n",
       "│ 25%        ┆ 181.0      │\n",
       "│ 50%        ┆ 372.0      │\n",
       "│ 75%        ┆ 780.0      │\n",
       "│ max        ┆ 4096.0     │\n",
       "└────────────┴────────────┘"
      ]
     },
     "execution_count": 41,
     "metadata": {},
     "output_type": "execute_result"
    }
   ],
   "source": [
    "pl.Series(one_post_lengths).describe()"
   ]
  },
  {
   "cell_type": "code",
   "execution_count": 44,
   "metadata": {},
   "outputs": [
    {
     "data": {
      "image/png": "[encoded data removed]",
      "text/plain": [
       "<Figure size 640x480 with 1 Axes>"
      ]
     },
     "metadata": {},
     "output_type": "display_data"
    }
   ],
   "source": [
    "plt.hist(one_post_lengths, bins=50);"
   ]
  },
  {
   "cell_type": "markdown",
   "metadata": {},
   "source": [
    "### Previous posts to ad post"
   ]
  },
  {
   "cell_type": "code",
   "execution_count": 43,
   "metadata": {},
   "outputs": [
    {
     "data": {
      "text/html": [
       "<div><style>\n",
       ".dataframe > thead > tr,\n",
       ".dataframe > tbody > tr {\n",
       "  text-align: right;\n",
       "  white-space: pre-wrap;\n",
       "}\n",
       "</style>\n",
       "<small>shape: (9, 2)</small><table border=\"1\" class=\"dataframe\"><thead><tr><th>statistic</th><th>value</th></tr><tr><td>str</td><td>f64</td></tr></thead><tbody><tr><td>&quot;count&quot;</td><td>177373.0</td></tr><tr><td>&quot;null_count&quot;</td><td>0.0</td></tr><tr><td>&quot;mean&quot;</td><td>5738.16635</td></tr><tr><td>&quot;std&quot;</td><td>4276.376349</td></tr><tr><td>&quot;min&quot;</td><td>0.0</td></tr><tr><td>&quot;25%&quot;</td><td>2447.0</td></tr><tr><td>&quot;50%&quot;</td><td>4786.0</td></tr><tr><td>&quot;75%&quot;</td><td>7772.0</td></tr><tr><td>&quot;max&quot;</td><td>40759.0</td></tr></tbody></table></div>"
      ],
      "text/plain": [
       "shape: (9, 2)\n",
       "┌────────────┬─────────────┐\n",
       "│ statistic  ┆ value       │\n",
       "│ ---        ┆ ---         │\n",
       "│ str        ┆ f64         │\n",
       "╞════════════╪═════════════╡\n",
       "│ count      ┆ 177373.0    │\n",
       "│ null_count ┆ 0.0         │\n",
       "│ mean       ┆ 5738.16635  │\n",
       "│ std        ┆ 4276.376349 │\n",
       "│ min        ┆ 0.0         │\n",
       "│ 25%        ┆ 2447.0      │\n",
       "│ 50%        ┆ 4786.0      │\n",
       "│ 75%        ┆ 7772.0      │\n",
       "│ max        ┆ 40759.0     │\n",
       "└────────────┴─────────────┘"
      ]
     },
     "execution_count": 43,
     "metadata": {},
     "output_type": "execute_result"
    }
   ],
   "source": [
    "pl.Series(ads_posts_lengths).describe()"
   ]
  },
  {
   "cell_type": "code",
   "execution_count": 45,
   "metadata": {},
   "outputs": [
    {
     "data": {
      "image/png": "[encoded data removed]",
      "text/plain": [
       "<Figure size 640x480 with 1 Axes>"
      ]
     },
     "metadata": {},
     "output_type": "display_data"
    }
   ],
   "source": [
    "plt.hist(ads_posts_lengths, bins=50);"
   ]
  },
  {
   "cell_type": "markdown",
   "metadata": {},
   "source": [
    "Да, в среднем длина 10 прошлых постов по отношению к рекламному = 5к символов - если переводить в токены будет примерно 2к токенов - тут прям сильно на глаз, но смысл в том, что при простой конкатенации это бы не влезло в 514 токенов."
   ]
  }
 ],
 "metadata": {
  "kernelspec": {
   "display_name": "influai-emb",
   "language": "python",
   "name": "python3"
  },
  "language_info": {
   "codemirror_mode": {
    "name": "ipython",
    "version": 3
   },
   "file_extension": ".py",
   "mimetype": "text/x-python",
   "name": "python",
   "nbconvert_exporter": "python",
   "pygments_lexer": "ipython3",
   "version": "3.12.8"
  }
 },
 "nbformat": 4,
 "nbformat_minor": 2
}

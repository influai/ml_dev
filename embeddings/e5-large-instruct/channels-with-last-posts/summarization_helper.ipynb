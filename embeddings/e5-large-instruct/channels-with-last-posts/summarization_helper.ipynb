{
 "cells": [
  {
   "cell_type": "code",
   "execution_count": 20,
   "metadata": {},
   "outputs": [],
   "source": [
    "from pathlib import Path\n",
    "import json\n",
    "from tqdm import tqdm\n",
    "import pickle\n",
    "import itertools"
   ]
  },
  {
   "cell_type": "markdown",
   "metadata": {},
   "source": [
    "## Split"
   ]
  },
  {
   "cell_type": "code",
   "execution_count": 17,
   "metadata": {},
   "outputs": [
    {
     "name": "stderr",
     "output_type": "stream",
     "text": [
      "Processing posts: 100%|██████████| 10000/10000 [00:07<00:00, 1378.56it/s]\n",
      "Processing posts: 100%|██████████| 10000/10000 [00:07<00:00, 1365.14it/s]\n",
      "Processing posts: 100%|██████████| 10000/10000 [00:09<00:00, 1057.84it/s]\n",
      "Processing posts: 100%|██████████| 10000/10000 [00:08<00:00, 1200.55it/s]\n",
      "Processing posts: 100%|██████████| 10000/10000 [00:06<00:00, 1557.67it/s]\n",
      "Processing posts: 100%|██████████| 10000/10000 [00:06<00:00, 1590.25it/s]\n",
      "Processing posts: 100%|██████████| 10000/10000 [00:08<00:00, 1181.27it/s]\n",
      "Processing posts: 100%|██████████| 10000/10000 [00:07<00:00, 1386.15it/s]\n",
      "Processing posts: 100%|██████████| 10000/10000 [00:06<00:00, 1439.64it/s]\n",
      "Processing posts: 100%|██████████| 10000/10000 [00:08<00:00, 1214.24it/s]\n",
      "Processing posts: 100%|██████████| 10000/10000 [00:15<00:00, 634.98it/s]\n",
      "Processing posts: 100%|██████████| 10000/10000 [00:08<00:00, 1140.30it/s]\n",
      "Processing posts: 100%|██████████| 10000/10000 [00:11<00:00, 871.38it/s]\n",
      "Processing posts: 100%|██████████| 10000/10000 [00:07<00:00, 1405.22it/s]\n",
      "Processing posts: 100%|██████████| 7373/7373 [00:09<00:00, 812.95it/s]\n",
      "Processing posts: 100%|██████████| 10000/10000 [00:09<00:00, 1067.11it/s]\n",
      "Processing posts: 100%|██████████| 10000/10000 [00:12<00:00, 775.93it/s]\n",
      "Processing posts: 100%|██████████| 10000/10000 [00:09<00:00, 1055.80it/s]\n",
      "18it [04:00, 13.34s/it]\n"
     ]
    }
   ],
   "source": [
    "# Split all post texts\n",
    "AD_PREV_TEXTS_FOLDER = Path(\"/home/deniskirbaba/Documents/influai-data/embeddings/ad_prev_texts\")\n",
    "AD_PREV_TEXTS_SPLITTER_FOLDER = Path(\"/home/deniskirbaba/Documents/influai-data/embeddings/ad_prev_texts_splitted\")\n",
    "\n",
    "for path in tqdm(AD_PREV_TEXTS_FOLDER.iterdir()):\n",
    "    with open(path, \"r\") as f:\n",
    "        texts = json.load(f)\n",
    "\n",
    "    # Process each ad post\n",
    "    for ad_post_id, prev_posts in tqdm(texts.items(), desc=\"Processing posts\"):\n",
    "        # If we have posts previous to the target ad post\n",
    "        if prev_posts:\n",
    "            doc = \"\\n===\\n\".join(itertools.chain.from_iterable(prev_posts[1]))\n",
    "            with open(AD_PREV_TEXTS_SPLITTER_FOLDER / f\"{ad_post_id}.txt\", \"w\") as f:\n",
    "                f.write(doc)"
   ]
  },
  {
   "cell_type": "markdown",
   "metadata": {},
   "source": [
    "## Create not summarized ids list"
   ]
  },
  {
   "cell_type": "code",
   "execution_count": 18,
   "metadata": {},
   "outputs": [
    {
     "data": {
      "text/plain": [
       "(177224, 0)"
      ]
     },
     "execution_count": 18,
     "metadata": {},
     "output_type": "execute_result"
    }
   ],
   "source": [
    "AD_PREV_SUMMARIES_FOLDER = Path(\"/home/deniskirbaba/Documents/influai-data/embeddings/ad_prev_summaries\")\n",
    "\n",
    "len(list(iter(AD_PREV_TEXTS_SPLITTER_FOLDER.iterdir()))), len(list(iter(AD_PREV_SUMMARIES_FOLDER.iterdir())))"
   ]
  },
  {
   "cell_type": "code",
   "execution_count": 19,
   "metadata": {},
   "outputs": [
    {
     "data": {
      "text/plain": [
       "177224"
      ]
     },
     "execution_count": 19,
     "metadata": {},
     "output_type": "execute_result"
    }
   ],
   "source": [
    "ad_prev_texts_stems = {path.stem for path in AD_PREV_TEXTS_SPLITTER_FOLDER.iterdir()}\n",
    "ad_prev_summaries_stems = {path.stem for path in AD_PREV_SUMMARIES_FOLDER.iterdir()}\n",
    "\n",
    "not_summarized = list(ad_prev_texts_stems - ad_prev_summaries_stems)\n",
    "len(not_summarized)"
   ]
  },
  {
   "cell_type": "code",
   "execution_count": 21,
   "metadata": {},
   "outputs": [],
   "source": [
    "n_workers = 5\n",
    "n_batch = (len(not_summarized) + n_workers) // n_workers\n",
    "\n",
    "for i in range(0, len(not_summarized), n_batch):\n",
    "    with open(f\"/home/deniskirbaba/Documents/influai-data/embeddings/ad_prev_not_summarized/not_summarized_{i}.pkl\", \"wb\") as f:\n",
    "        pickle.dump(not_summarized[i : i + n_batch], f)"
   ]
  }
 ],
 "metadata": {
  "kernelspec": {
   "display_name": "influai-emb",
   "language": "python",
   "name": "python3"
  },
  "language_info": {
   "codemirror_mode": {
    "name": "ipython",
    "version": 3
   },
   "file_extension": ".py",
   "mimetype": "text/x-python",
   "name": "python",
   "nbconvert_exporter": "python",
   "pygments_lexer": "ipython3",
   "version": "3.12.8"
  }
 },
 "nbformat": 4,
 "nbformat_minor": 2
}

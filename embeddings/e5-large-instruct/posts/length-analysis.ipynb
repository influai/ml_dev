{
 "cells": [
  {
   "cell_type": "code",
   "execution_count": 1,
   "metadata": {},
   "outputs": [],
   "source": [
    "import matplotlib.pyplot as plt\n",
    "import polars as pl"
   ]
  },
  {
   "cell_type": "code",
   "execution_count": 2,
   "metadata": {},
   "outputs": [],
   "source": [
    "ad_posts = pl.read_csv(\"/home/deniskirbaba/Documents/influai-data/ad_text.csv\")"
   ]
  },
  {
   "cell_type": "code",
   "execution_count": 3,
   "metadata": {},
   "outputs": [
    {
     "data": {
      "text/html": [
       "<div><style>\n",
       ".dataframe > thead > tr,\n",
       ".dataframe > tbody > tr {\n",
       "  text-align: right;\n",
       "  white-space: pre-wrap;\n",
       "}\n",
       "</style>\n",
       "<small>shape: (177_373, 2)</small><table border=\"1\" class=\"dataframe\"><thead><tr><th>id</th><th>raw_text</th></tr><tr><td>i64</td><td>str</td></tr></thead><tbody><tr><td>7719933</td><td>&quot;👀 ICML 2024 глазами ML-лидов Я…</td></tr><tr><td>7719924</td><td>&quot;🎉 Коворкинг Яндекса на крыше М…</td></tr><tr><td>7719923</td><td>&quot;👀 Показываем зумеров глазами з…</td></tr><tr><td>7719914</td><td>&quot;🔥 Яндекс Х Epic Growth Confere…</td></tr><tr><td>7719559</td><td>&quot;💫 Стартует новый сезон трениро…</td></tr><tr><td>&hellip;</td><td>&hellip;</td></tr><tr><td>7719936</td><td>&quot;💫 В гармонии с кодом и природо…</td></tr><tr><td>7719964</td><td>&quot;📎 Роман Елизаров о 20-летнем о…</td></tr><tr><td>7719955</td><td>&quot;📕 Виртуальный рассказчик Букме…</td></tr><tr><td>7719946</td><td>&quot;👀 Личный опыт участия в Multit…</td></tr><tr><td>7719937</td><td>&quot;📕 Новости с ICML 2024, нейросе…</td></tr></tbody></table></div>"
      ],
      "text/plain": [
       "shape: (177_373, 2)\n",
       "┌─────────┬─────────────────────────────────┐\n",
       "│ id      ┆ raw_text                        │\n",
       "│ ---     ┆ ---                             │\n",
       "│ i64     ┆ str                             │\n",
       "╞═════════╪═════════════════════════════════╡\n",
       "│ 7719933 ┆ 👀 ICML                         │\n",
       "│         ┆ 2024 глазами ML-лидов Я…        │\n",
       "│ 7719924 ┆ 🎉 Коворкинг Яндекса на крыше   │\n",
       "│         ┆ М…                              │\n",
       "│ 7719923 ┆ 👀 Показываем зумеров глазами   │\n",
       "│         ┆ з…                              │\n",
       "│ 7719914 ┆ 🔥 Яндекс Х Epic Growth         │\n",
       "│         ┆ Confere…                        │\n",
       "│ 7719559 ┆ 💫 Стартует новый сезон         │\n",
       "│         ┆ трениро…                        │\n",
       "│ …       ┆ …                               │\n",
       "│ 7719936 ┆ 💫 В гармонии с кодом и         │\n",
       "│         ┆ природо…                        │\n",
       "│ 7719964 ┆ 📎 Роман Елизаров о 20-летнем   │\n",
       "│         ┆ о…                              │\n",
       "│ 7719955 ┆ 📕 Виртуальный рассказчик       │\n",
       "│         ┆ Букме…                          │\n",
       "│ 7719946 ┆ 👀 Личный опыт участия в        │\n",
       "│         ┆ Multit…                         │\n",
       "│ 7719937 ┆ 📕 Новости с ICML 2024,         │\n",
       "│         ┆ нейросе…                        │\n",
       "└─────────┴─────────────────────────────────┘"
      ]
     },
     "execution_count": 3,
     "metadata": {},
     "output_type": "execute_result"
    }
   ],
   "source": [
    "ad_posts"
   ]
  },
  {
   "cell_type": "markdown",
   "metadata": {},
   "source": [
    "## Analyze length"
   ]
  },
  {
   "cell_type": "code",
   "execution_count": 4,
   "metadata": {},
   "outputs": [],
   "source": [
    "text_length = ad_posts.map_rows(lambda x: len(x[1]))"
   ]
  },
  {
   "cell_type": "code",
   "execution_count": 5,
   "metadata": {},
   "outputs": [
    {
     "data": {
      "text/html": [
       "<div><style>\n",
       ".dataframe > thead > tr,\n",
       ".dataframe > tbody > tr {\n",
       "  text-align: right;\n",
       "  white-space: pre-wrap;\n",
       "}\n",
       "</style>\n",
       "<small>shape: (9, 2)</small><table border=\"1\" class=\"dataframe\"><thead><tr><th>statistic</th><th>map</th></tr><tr><td>str</td><td>f64</td></tr></thead><tbody><tr><td>&quot;count&quot;</td><td>177373.0</td></tr><tr><td>&quot;null_count&quot;</td><td>0.0</td></tr><tr><td>&quot;mean&quot;</td><td>658.048209</td></tr><tr><td>&quot;std&quot;</td><td>633.397479</td></tr><tr><td>&quot;min&quot;</td><td>1.0</td></tr><tr><td>&quot;25%&quot;</td><td>207.0</td></tr><tr><td>&quot;50%&quot;</td><td>459.0</td></tr><tr><td>&quot;75%&quot;</td><td>895.0</td></tr><tr><td>&quot;max&quot;</td><td>4096.0</td></tr></tbody></table></div>"
      ],
      "text/plain": [
       "shape: (9, 2)\n",
       "┌────────────┬────────────┐\n",
       "│ statistic  ┆ map        │\n",
       "│ ---        ┆ ---        │\n",
       "│ str        ┆ f64        │\n",
       "╞════════════╪════════════╡\n",
       "│ count      ┆ 177373.0   │\n",
       "│ null_count ┆ 0.0        │\n",
       "│ mean       ┆ 658.048209 │\n",
       "│ std        ┆ 633.397479 │\n",
       "│ min        ┆ 1.0        │\n",
       "│ 25%        ┆ 207.0      │\n",
       "│ 50%        ┆ 459.0      │\n",
       "│ 75%        ┆ 895.0      │\n",
       "│ max        ┆ 4096.0     │\n",
       "└────────────┴────────────┘"
      ]
     },
     "execution_count": 5,
     "metadata": {},
     "output_type": "execute_result"
    }
   ],
   "source": [
    "text_length.describe()"
   ]
  },
  {
   "cell_type": "code",
   "execution_count": 6,
   "metadata": {},
   "outputs": [
    {
     "data": {
      "image/png": "[encoded data removed]",
      "text/plain": [
       "<Figure size 640x480 with 1 Axes>"
      ]
     },
     "metadata": {},
     "output_type": "display_data"
    }
   ],
   "source": [
    "plt.hist(text_length, bins=50);"
   ]
  },
  {
   "cell_type": "markdown",
   "metadata": {},
   "source": [
    "## Analyze tokens"
   ]
  },
  {
   "cell_type": "code",
   "execution_count": 7,
   "metadata": {},
   "outputs": [
    {
     "name": "stderr",
     "output_type": "stream",
     "text": [
      "/home/deniskirbaba/miniconda3/envs/influai-emb/lib/python3.12/site-packages/tqdm/auto.py:21: TqdmWarning: IProgress not found. Please update jupyter and ipywidgets. See https://ipywidgets.readthedocs.io/en/stable/user_install.html\n",
      "  from .autonotebook import tqdm as notebook_tqdm\n"
     ]
    }
   ],
   "source": [
    "from transformers import AutoTokenizer"
   ]
  },
  {
   "cell_type": "code",
   "execution_count": 8,
   "metadata": {},
   "outputs": [],
   "source": [
    "model_name = \"intfloat/multilingual-e5-large-instruct\"\n",
    "tokenizer = AutoTokenizer.from_pretrained(model_name)"
   ]
  },
  {
   "cell_type": "code",
   "execution_count": null,
   "metadata": {},
   "outputs": [
    {
     "name": "stderr",
     "output_type": "stream",
     "text": [
      "Token indices sequence length is longer than the specified maximum sequence length for this model (862 > 512). Running this sequence through the model will result in indexing errors\n"
     ]
    }
   ],
   "source": [
    "tok_texts = tokenizer(\n",
    "    ad_posts[\"raw_text\"].to_list(),\n",
    "    padding=False,\n",
    "    truncation=False,\n",
    "    return_tensors=\"np\",\n",
    "    verbose=True,\n",
    ")"
   ]
  },
  {
   "cell_type": "code",
   "execution_count": 19,
   "metadata": {},
   "outputs": [
    {
     "data": {
      "text/html": [
       "<div><style>\n",
       ".dataframe > thead > tr,\n",
       ".dataframe > tbody > tr {\n",
       "  text-align: right;\n",
       "  white-space: pre-wrap;\n",
       "}\n",
       "</style>\n",
       "<small>shape: (177_373, 1)</small><table border=\"1\" class=\"dataframe\"><thead><tr><th>tok_len</th></tr><tr><td>i64</td></tr></thead><tbody><tr><td>136</td></tr><tr><td>255</td></tr><tr><td>196</td></tr><tr><td>405</td></tr><tr><td>175</td></tr><tr><td>&hellip;</td></tr><tr><td>308</td></tr><tr><td>187</td></tr><tr><td>174</td></tr><tr><td>183</td></tr><tr><td>838</td></tr></tbody></table></div>"
      ],
      "text/plain": [
       "shape: (177_373, 1)\n",
       "┌─────────┐\n",
       "│ tok_len │\n",
       "│ ---     │\n",
       "│ i64     │\n",
       "╞═════════╡\n",
       "│ 136     │\n",
       "│ 255     │\n",
       "│ 196     │\n",
       "│ 405     │\n",
       "│ 175     │\n",
       "│ …       │\n",
       "│ 308     │\n",
       "│ 187     │\n",
       "│ 174     │\n",
       "│ 183     │\n",
       "│ 838     │\n",
       "└─────────┘"
      ]
     },
     "execution_count": 19,
     "metadata": {},
     "output_type": "execute_result"
    }
   ],
   "source": [
    "tok_length = [len(ids) for ids in tok_texts.data[\"input_ids\"]]\n",
    "tok_length_pl = pl.DataFrame(tok_length, schema=[\"tok_len\"], orient=\"row\")\n",
    "tok_length_pl"
   ]
  },
  {
   "cell_type": "code",
   "execution_count": 20,
   "metadata": {},
   "outputs": [
    {
     "data": {
      "text/html": [
       "<div><style>\n",
       ".dataframe > thead > tr,\n",
       ".dataframe > tbody > tr {\n",
       "  text-align: right;\n",
       "  white-space: pre-wrap;\n",
       "}\n",
       "</style>\n",
       "<small>shape: (9, 2)</small><table border=\"1\" class=\"dataframe\"><thead><tr><th>statistic</th><th>tok_len</th></tr><tr><td>str</td><td>f64</td></tr></thead><tbody><tr><td>&quot;count&quot;</td><td>177373.0</td></tr><tr><td>&quot;null_count&quot;</td><td>0.0</td></tr><tr><td>&quot;mean&quot;</td><td>185.551702</td></tr><tr><td>&quot;std&quot;</td><td>160.212755</td></tr><tr><td>&quot;min&quot;</td><td>4.0</td></tr><tr><td>&quot;25%&quot;</td><td>74.0</td></tr><tr><td>&quot;50%&quot;</td><td>139.0</td></tr><tr><td>&quot;75%&quot;</td><td>246.0</td></tr><tr><td>&quot;max&quot;</td><td>1526.0</td></tr></tbody></table></div>"
      ],
      "text/plain": [
       "shape: (9, 2)\n",
       "┌────────────┬────────────┐\n",
       "│ statistic  ┆ tok_len    │\n",
       "│ ---        ┆ ---        │\n",
       "│ str        ┆ f64        │\n",
       "╞════════════╪════════════╡\n",
       "│ count      ┆ 177373.0   │\n",
       "│ null_count ┆ 0.0        │\n",
       "│ mean       ┆ 185.551702 │\n",
       "│ std        ┆ 160.212755 │\n",
       "│ min        ┆ 4.0        │\n",
       "│ 25%        ┆ 74.0       │\n",
       "│ 50%        ┆ 139.0      │\n",
       "│ 75%        ┆ 246.0      │\n",
       "│ max        ┆ 1526.0     │\n",
       "└────────────┴────────────┘"
      ]
     },
     "execution_count": 20,
     "metadata": {},
     "output_type": "execute_result"
    }
   ],
   "source": [
    "tok_length_pl.describe()"
   ]
  },
  {
   "cell_type": "code",
   "execution_count": null,
   "metadata": {},
   "outputs": [
    {
     "data": {
      "image/png": "[encoded data removed]",
      "text/plain": [
       "<Figure size 640x480 with 1 Axes>"
      ]
     },
     "metadata": {},
     "output_type": "display_data"
    }
   ],
   "source": [
    "plt.hist(tok_length_pl, bins=50);"
   ]
  },
  {
   "cell_type": "code",
   "execution_count": 28,
   "metadata": {},
   "outputs": [
    {
     "data": {
      "text/plain": [
       "4.696317928884328"
      ]
     },
     "execution_count": 28,
     "metadata": {},
     "output_type": "execute_result"
    }
   ],
   "source": [
    "len(tok_length_pl.filter(pl.col(\"tok_len\") > 514)) / len(tok_length_pl) * 100"
   ]
  },
  {
   "cell_type": "markdown",
   "metadata": {},
   "source": [
    "Длина контекста у модели = 514 токенов. Меньше 5% постов будет обрезано, что удовлетворительно.\n",
    "\n",
    "Также стоит учитывать, что модели `intfloat/multilingual-e5-large-instruct` для каждого текста надо подавать промпт для большей эффективности, поэтому число обрезанных постов немного возрастет. Проверим насколько."
   ]
  },
  {
   "cell_type": "code",
   "execution_count": 32,
   "metadata": {},
   "outputs": [],
   "source": [
    "possible_prompts = [\n",
    "    {\n",
    "        \"prompt_for_ad_emb\": \"На основе рекламного текста опиши ключевые интересы, ценности и потребности целевой аудитории, которая заинтересуется этой рекламой.\",\n",
    "        \"prompt_for_channel_emb\": \"Проанализируй название, описание и посты Telegram-канала и определи ключевые интересы, ценности и потребности его аудитории.\",\n",
    "    },\n",
    "    {\n",
    "        \"prompt_for_ad_emb\": \"По рекламному тексту сформируй профиль идеального Telegram-канала для размещения этой рекламы.\",\n",
    "        \"prompt_for_channel_emb\": \"Проанализировав данные Telegram-канала, опиши его типичный профиль (тематика, аудитория, тон общения).\",\n",
    "    },\n",
    "    {\n",
    "        \"prompt_for_ad_emb\": \"Изучив текст рекламы, определи, какие тематики каналов и форматы контента лучше всего подойдут для её размещения.\",\n",
    "        \"prompt_for_channel_emb\": \"На основе данных о Telegram-канале, опиши его основные тематики и форматы контента.\",\n",
    "    },\n",
    "    {\n",
    "        \"prompt_for_ad_emb\": \"Какие характеристики Telegram-канала (тематика, тональность, аудитория) обеспечат максимальную эффективность этой рекламы?\",\n",
    "        \"prompt_for_channel_emb\": \"На основе информации о Telegram-канале, выдели его ключевые характеристики (тематика, тональность, аудитория).\",\n",
    "    },\n",
    "    {\n",
    "        \"prompt_for_ad_emb\": \"Сформулируй требования к Telegram-каналу, который обеспечит успешное размещение данной рекламы (тематика, тип аудитории, охват).\",\n",
    "        \"prompt_for_channel_emb\": \"Опиши Telegram-канал, основываясь на его названии, описании и содержании постов (тематика, аудитория, активность).\",\n",
    "    },\n",
    "    {\n",
    "        \"prompt_for_ad_emb\": \"Какие особенности Telegram-канала помогут данной рекламе достичь наибольшего отклика?\",\n",
    "        \"prompt_for_channel_emb\": \"Проанализируй Telegram-канал и опиши его особенности, которые могут привлекать аудиторию (уникальность, стиль подачи).\",\n",
    "    },\n",
    "    {\n",
    "        \"prompt_for_ad_emb\": \"Определи ключевые слова и темы, которые соответствуют тексту рекламы и могут быть найдены в эффективных Telegram-каналах.\",\n",
    "        \"prompt_for_channel_emb\": \"На основе данных о Telegram-канале выдели ключевые слова и основные темы его контента.\",\n",
    "    },\n",
    "]"
   ]
  },
  {
   "cell_type": "code",
   "execution_count": 33,
   "metadata": {},
   "outputs": [],
   "source": [
    "ad_prompts_tok = tokenizer(\n",
    "    [prompts[\"prompt_for_ad_emb\"] for prompts in possible_prompts],\n",
    "    padding=False,\n",
    "    truncation=False,\n",
    "    return_tensors=\"np\",\n",
    "    verbose=True,\n",
    ")"
   ]
  },
  {
   "cell_type": "code",
   "execution_count": 34,
   "metadata": {},
   "outputs": [
    {
     "data": {
      "text/plain": [
       "[30, 23, 29, 27, 36, 21, 31]"
      ]
     },
     "execution_count": 34,
     "metadata": {},
     "output_type": "execute_result"
    }
   ],
   "source": [
    "[len(ids) for ids in ad_prompts_tok.data[\"input_ids\"]]"
   ]
  },
  {
   "cell_type": "code",
   "execution_count": 36,
   "metadata": {},
   "outputs": [
    {
     "data": {
      "text/plain": [
       "5.6688447508921875"
      ]
     },
     "execution_count": 36,
     "metadata": {},
     "output_type": "execute_result"
    }
   ],
   "source": [
    "len(tok_length_pl.filter(pl.col(\"tok_len\") > (514 - 30))) / len(tok_length_pl) * 100"
   ]
  },
  {
   "cell_type": "markdown",
   "metadata": {},
   "source": [
    "Процент обрезанных постов увеличился незначительно."
   ]
  }
 ],
 "metadata": {
  "kernelspec": {
   "display_name": "influai-emb",
   "language": "python",
   "name": "python3"
  },
  "language_info": {
   "codemirror_mode": {
    "name": "ipython",
    "version": 3
   },
   "file_extension": ".py",
   "mimetype": "text/x-python",
   "name": "python",
   "nbconvert_exporter": "python",
   "pygments_lexer": "ipython3",
   "version": "3.12.8"
  }
 },
 "nbformat": 4,
 "nbformat_minor": 2
}

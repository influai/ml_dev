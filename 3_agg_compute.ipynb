{
 "cells": [
  {
   "cell_type": "code",
   "execution_count": 1,
   "metadata": {},
   "outputs": [
    {
     "data": {
      "text/plain": [
       "True"
      ]
     },
     "execution_count": 1,
     "metadata": {},
     "output_type": "execute_result"
    }
   ],
   "source": [
    "import os\n",
    "import time\n",
    "import polars as pl\n",
    "import pandas as pd\n",
    "from dotenv import load_dotenv\n",
    "from sqlalchemy import create_engine\n",
    "\n",
    "load_dotenv('./.env')"
   ]
  },
  {
   "cell_type": "code",
   "execution_count": 2,
   "metadata": {},
   "outputs": [],
   "source": [
    "DB_IP = os.environ.get(\"DB_IP\")\n",
    "DB_PORT = os.environ.get(\"DB_PORT\")\n",
    "DB_NAME = os.environ.get(\"DB_NAME\")\n",
    "DB_USER = os.environ.get(\"DB_USER\")\n",
    "DB_PASSWORD = os.environ.get(\"DB_PASSWORD\")\n",
    "\n",
    "url = f\"postgresql://{DB_USER}:{DB_PASSWORD}@{DB_IP}:{DB_PORT}/{DB_NAME}\"\n",
    "engine = create_engine(url)"
   ]
  },
  {
   "cell_type": "code",
   "execution_count": 3,
   "metadata": {},
   "outputs": [],
   "source": [
    "metrics_with_meta = pl.read_csv(\"../data/metrics_with_meta.csv\")\n",
    "final_basis_short = pl.read_csv(\"channel_target_sample.csv\")"
   ]
  },
  {
   "cell_type": "markdown",
   "metadata": {},
   "source": [
    "# fix bags"
   ]
  },
  {
   "cell_type": "code",
   "execution_count": 4,
   "metadata": {},
   "outputs": [
    {
     "data": {
      "text/html": [
       "<div><style>\n",
       ".dataframe > thead > tr,\n",
       ".dataframe > tbody > tr {\n",
       "  text-align: right;\n",
       "  white-space: pre-wrap;\n",
       "}\n",
       "</style>\n",
       "<small>shape: (1, 31)</small><table border=\"1\" class=\"dataframe\"><thead><tr><th></th><th>id</th><th>views</th><th>forwards</th><th>comments</th><th>paid_reactions</th><th>standard_reactions</th><th>custom_reactions</th><th>sum_standard_reactions</th><th>sum_custom_reactions</th><th>total_sum_reactions</th><th>good_finger</th><th>heart</th><th>fire</th><th>fun</th><th>bad_finger</th><th>total_activites</th><th>relative_total_sum_reactions</th><th>relative_paid_reactions</th><th>relative_good_finger</th><th>relative_sum_custom_reactions</th><th>relative_forwards</th><th>relative_heart</th><th>relative_comments</th><th>relative_fun</th><th>relative_sum_standard_reactions</th><th>relative_bad_finger</th><th>relative_fire</th><th>relative_total_activites</th><th>channel_id</th><th>post_date</th></tr><tr><td>i64</td><td>i64</td><td>f64</td><td>f64</td><td>f64</td><td>i64</td><td>str</td><td>str</td><td>i64</td><td>i64</td><td>i64</td><td>i64</td><td>i64</td><td>i64</td><td>i64</td><td>i64</td><td>f64</td><td>f64</td><td>f64</td><td>f64</td><td>f64</td><td>f64</td><td>f64</td><td>f64</td><td>f64</td><td>f64</td><td>f64</td><td>f64</td><td>f64</td><td>i64</td><td>str</td></tr></thead><tbody><tr><td>16324765</td><td>417423</td><td>1520.0</td><td>0.0</td><td>0.0</td><td>0</td><td>&quot;{&#x27;🔥&#x27;: 9, &#x27;👍&#x27;: 6, &#x27;❤&#x27;: 6}&quot;</td><td>&quot;{}&quot;</td><td>21</td><td>0</td><td>21</td><td>6</td><td>6</td><td>9</td><td>0</td><td>0</td><td>21.0</td><td>0.013816</td><td>0.0</td><td>0.003947</td><td>0.0</td><td>0.0</td><td>0.003947</td><td>0.0</td><td>0.0</td><td>0.013816</td><td>0.0</td><td>0.005921</td><td>0.0</td><td>1531069454</td><td>&quot;2024-08-24 16:05:22+00:00&quot;</td></tr></tbody></table></div>"
      ],
      "text/plain": [
       "shape: (1, 31)\n",
       "┌──────────┬────────┬────────┬──────────┬───┬─────────────┬─────────────┬────────────┬─────────────┐\n",
       "│          ┆ id     ┆ views  ┆ forwards ┆ … ┆ relative_fi ┆ relative_to ┆ channel_id ┆ post_date   │\n",
       "│ ---      ┆ ---    ┆ ---    ┆ ---      ┆   ┆ re          ┆ tal_activit ┆ ---        ┆ ---         │\n",
       "│ i64      ┆ i64    ┆ f64    ┆ f64      ┆   ┆ ---         ┆ es          ┆ i64        ┆ str         │\n",
       "│          ┆        ┆        ┆          ┆   ┆ f64         ┆ ---         ┆            ┆             │\n",
       "│          ┆        ┆        ┆          ┆   ┆             ┆ f64         ┆            ┆             │\n",
       "╞══════════╪════════╪════════╪══════════╪═══╪═════════════╪═════════════╪════════════╪═════════════╡\n",
       "│ 16324765 ┆ 417423 ┆ 1520.0 ┆ 0.0      ┆ … ┆ 0.005921    ┆ 0.0         ┆ 1531069454 ┆ 2024-08-24  │\n",
       "│          ┆        ┆        ┆          ┆   ┆             ┆             ┆            ┆ 16:05:22+00 │\n",
       "│          ┆        ┆        ┆          ┆   ┆             ┆             ┆            ┆ :00         │\n",
       "└──────────┴────────┴────────┴──────────┴───┴─────────────┴─────────────┴────────────┴─────────────┘"
      ]
     },
     "execution_count": 4,
     "metadata": {},
     "output_type": "execute_result"
    }
   ],
   "source": [
    "fill_na_columns = [\"forwards\", \"comments\", \"paid_reactions\", 'sum_standard_reactions', \"sum_custom_reactions\"]\n",
    "\n",
    "metrics_with_meta = (\n",
    "    metrics_with_meta\n",
    "    .with_columns(\n",
    "        [\n",
    "            pl.col(x).fill_null(0).alias(x) \n",
    "            for x in fill_na_columns\n",
    "        ]\n",
    "    )\n",
    ")\n",
    "\n",
    "metrics_with_meta = (\n",
    "    metrics_with_meta\n",
    "    .with_columns(\n",
    "        (\n",
    "            pl.col(\"forwards\") +\n",
    "            pl.col(\"comments\") +\n",
    "            pl.col(\"paid_reactions\") +\n",
    "            pl.col(\"sum_standard_reactions\") +\n",
    "            pl.col(\"sum_custom_reactions\")\n",
    "        ).alias(\"total_activites\")\n",
    "    )\n",
    ")\n",
    "\n",
    "metrics_with_meta.sample()"
   ]
  },
  {
   "cell_type": "code",
   "execution_count": 5,
   "metadata": {},
   "outputs": [
    {
     "data": {
      "text/html": [
       "<div><style>\n",
       ".dataframe > thead > tr,\n",
       ".dataframe > tbody > tr {\n",
       "  text-align: right;\n",
       "  white-space: pre-wrap;\n",
       "}\n",
       "</style>\n",
       "<small>shape: (1, 32)</small><table border=\"1\" class=\"dataframe\"><thead><tr><th></th><th>id</th><th>views</th><th>forwards</th><th>comments</th><th>paid_reactions</th><th>standard_reactions</th><th>custom_reactions</th><th>sum_standard_reactions</th><th>sum_custom_reactions</th><th>total_sum_reactions</th><th>good_finger</th><th>heart</th><th>fire</th><th>fun</th><th>bad_finger</th><th>total_activites</th><th>relative_total_sum_reactions</th><th>relative_paid_reactions</th><th>relative_good_finger</th><th>relative_sum_custom_reactions</th><th>relative_forwards</th><th>relative_heart</th><th>relative_comments</th><th>relative_fun</th><th>relative_sum_standard_reactions</th><th>relative_bad_finger</th><th>relative_fire</th><th>relative_total_activites</th><th>channel_id</th><th>post_date</th><th>relative_</th></tr><tr><td>i64</td><td>i64</td><td>f64</td><td>f64</td><td>f64</td><td>i64</td><td>str</td><td>str</td><td>i64</td><td>i64</td><td>i64</td><td>i64</td><td>i64</td><td>i64</td><td>i64</td><td>i64</td><td>f64</td><td>f64</td><td>f64</td><td>f64</td><td>f64</td><td>f64</td><td>f64</td><td>f64</td><td>f64</td><td>f64</td><td>f64</td><td>f64</td><td>f64</td><td>i64</td><td>str</td><td>f64</td></tr></thead><tbody><tr><td>12695238</td><td>2692489</td><td>4122.0</td><td>1.0</td><td>0.0</td><td>0</td><td>&quot;{}&quot;</td><td>&quot;{}&quot;</td><td>0</td><td>0</td><td>0</td><td>0</td><td>0</td><td>0</td><td>0</td><td>0</td><td>1.0</td><td>0.0</td><td>0.0</td><td>0.0</td><td>0.0</td><td>0.000243</td><td>0.0</td><td>0.0</td><td>0.0</td><td>0.0</td><td>0.0</td><td>0.0</td><td>0.000243</td><td>1203415947</td><td>&quot;2024-07-06 11:45:09+00:00&quot;</td><td>3079.873362</td></tr></tbody></table></div>"
      ],
      "text/plain": [
       "shape: (1, 32)\n",
       "┌──────────┬─────────┬────────┬──────────┬───┬─────────────┬────────────┬─────────────┬────────────┐\n",
       "│          ┆ id      ┆ views  ┆ forwards ┆ … ┆ relative_to ┆ channel_id ┆ post_date   ┆ relative_  │\n",
       "│ ---      ┆ ---     ┆ ---    ┆ ---      ┆   ┆ tal_activit ┆ ---        ┆ ---         ┆ ---        │\n",
       "│ i64      ┆ i64     ┆ f64    ┆ f64      ┆   ┆ es          ┆ i64        ┆ str         ┆ f64        │\n",
       "│          ┆         ┆        ┆          ┆   ┆ ---         ┆            ┆             ┆            │\n",
       "│          ┆         ┆        ┆          ┆   ┆ f64         ┆            ┆             ┆            │\n",
       "╞══════════╪═════════╪════════╪══════════╪═══╪═════════════╪════════════╪═════════════╪════════════╡\n",
       "│ 12695238 ┆ 2692489 ┆ 4122.0 ┆ 1.0      ┆ … ┆ 0.000243    ┆ 1203415947 ┆ 2024-07-06  ┆ 3079.87336 │\n",
       "│          ┆         ┆        ┆          ┆   ┆             ┆            ┆ 11:45:09+00 ┆ 2          │\n",
       "│          ┆         ┆        ┆          ┆   ┆             ┆            ┆ :00         ┆            │\n",
       "└──────────┴─────────┴────────┴──────────┴───┴─────────────┴────────────┴─────────────┴────────────┘"
      ]
     },
     "execution_count": 5,
     "metadata": {},
     "output_type": "execute_result"
    }
   ],
   "source": [
    "not_features = [\"id\", \"views\", \"standard_reactions\", \"custom_reactions\", \"channel_id\", \"post_date\"]\n",
    "drop_rel = [x for x in metrics_with_meta.columns if \"relative_\" in x]\n",
    "\n",
    "cols = list(set(metrics_with_meta.columns) - set(not_features + drop_rel))\n",
    "\n",
    "metrics_with_meta = (\n",
    "    metrics_with_meta\n",
    "    .with_columns(\n",
    "        [\n",
    "            (pl.col(x).fill_null(0) / pl.col(\"views\")).alias(f\"relative_{x}\") \n",
    "            for x in cols\n",
    "        ]\n",
    "    )\n",
    ")\n",
    "\n",
    "metrics_with_meta.sample()"
   ]
  },
  {
   "cell_type": "markdown",
   "metadata": {},
   "source": [
    "# compute aggs "
   ]
  },
  {
   "cell_type": "code",
   "execution_count": 6,
   "metadata": {},
   "outputs": [],
   "source": [
    "columns_to_agg = [\n",
    "    'views', 'forwards', 'comments', \"paid_reactions\", \n",
    "    \"sum_standard_reactions\", 'sum_custom_reactions', 'total_sum_reactions', \n",
    "    'good_finger', 'heart', 'fire', 'fun', 'bad_finger', 'total_activites'\n",
    "]\n",
    "\n",
    "metrics_with_meta_agg = (\n",
    "    metrics_with_meta\n",
    "    .sort([\"channel_id\", \"post_date\"])\n",
    "    .group_by([\"channel_id\"])\n",
    "    .agg([\n",
    "        pl.col(x)\n",
    "        .rolling_sum(window_size=50)\n",
    "        .alias(f\"{x}_avg_last_50\")\n",
    "        for x in columns_to_agg\n",
    "    ])\n",
    ")"
   ]
  },
  {
   "cell_type": "code",
   "execution_count": 7,
   "metadata": {},
   "outputs": [
    {
     "name": "stdout",
     "output_type": "stream",
     "text": [
      "(17544153, 45)\n"
     ]
    },
    {
     "data": {
      "text/html": [
       "<div><style>\n",
       ".dataframe > thead > tr,\n",
       ".dataframe > tbody > tr {\n",
       "  text-align: right;\n",
       "  white-space: pre-wrap;\n",
       "}\n",
       "</style>\n",
       "<small>shape: (1, 45)</small><table border=\"1\" class=\"dataframe\"><thead><tr><th></th><th>id</th><th>views</th><th>forwards</th><th>comments</th><th>paid_reactions</th><th>standard_reactions</th><th>custom_reactions</th><th>sum_standard_reactions</th><th>sum_custom_reactions</th><th>total_sum_reactions</th><th>good_finger</th><th>heart</th><th>fire</th><th>fun</th><th>bad_finger</th><th>total_activites</th><th>relative_total_sum_reactions</th><th>relative_paid_reactions</th><th>relative_good_finger</th><th>relative_sum_custom_reactions</th><th>relative_forwards</th><th>relative_heart</th><th>relative_comments</th><th>relative_fun</th><th>relative_sum_standard_reactions</th><th>relative_bad_finger</th><th>relative_fire</th><th>relative_total_activites</th><th>channel_id</th><th>post_date</th><th>relative_</th><th>views_avg_last_50</th><th>forwards_avg_last_50</th><th>comments_avg_last_50</th><th>paid_reactions_avg_last_50</th><th>sum_standard_reactions_avg_last_50</th><th>sum_custom_reactions_avg_last_50</th><th>total_sum_reactions_avg_last_50</th><th>good_finger_avg_last_50</th><th>heart_avg_last_50</th><th>fire_avg_last_50</th><th>fun_avg_last_50</th><th>bad_finger_avg_last_50</th><th>total_activites_avg_last_50</th></tr><tr><td>i64</td><td>i64</td><td>f64</td><td>f64</td><td>f64</td><td>i64</td><td>str</td><td>str</td><td>i64</td><td>i64</td><td>i64</td><td>i64</td><td>i64</td><td>i64</td><td>i64</td><td>i64</td><td>f64</td><td>f64</td><td>f64</td><td>f64</td><td>f64</td><td>f64</td><td>f64</td><td>f64</td><td>f64</td><td>f64</td><td>f64</td><td>f64</td><td>f64</td><td>i64</td><td>str</td><td>f64</td><td>f64</td><td>f64</td><td>f64</td><td>i64</td><td>i64</td><td>i64</td><td>i64</td><td>i64</td><td>i64</td><td>i64</td><td>i64</td><td>i64</td><td>f64</td></tr></thead><tbody><tr><td>2118974</td><td>3783009</td><td>224.0</td><td>0.0</td><td>0.0</td><td>0</td><td>&quot;{}&quot;</td><td>&quot;{}&quot;</td><td>0</td><td>0</td><td>0</td><td>0</td><td>0</td><td>0</td><td>0</td><td>0</td><td>0.0</td><td>0.0</td><td>0.0</td><td>0.0</td><td>0.0</td><td>0.0</td><td>0.0</td><td>0.0</td><td>0.0</td><td>0.0</td><td>0.0</td><td>0.0</td><td>0.0</td><td>1451099382</td><td>&quot;2024-08-28 05:01:17+00:00&quot;</td><td>9459.705357</td><td>9764.0</td><td>16.0</td><td>0.0</td><td>0</td><td>0</td><td>0</td><td>0</td><td>0</td><td>0</td><td>0</td><td>0</td><td>0</td><td>16.0</td></tr></tbody></table></div>"
      ],
      "text/plain": [
       "shape: (1, 45)\n",
       "┌─────────┬─────────┬───────┬──────────┬───┬─────────────┬─────────────┬─────────────┬─────────────┐\n",
       "│         ┆ id      ┆ views ┆ forwards ┆ … ┆ fire_avg_la ┆ fun_avg_las ┆ bad_finger_ ┆ total_activ │\n",
       "│ ---     ┆ ---     ┆ ---   ┆ ---      ┆   ┆ st_50       ┆ t_50        ┆ avg_last_50 ┆ ites_avg_la │\n",
       "│ i64     ┆ i64     ┆ f64   ┆ f64      ┆   ┆ ---         ┆ ---         ┆ ---         ┆ st_50       │\n",
       "│         ┆         ┆       ┆          ┆   ┆ i64         ┆ i64         ┆ i64         ┆ ---         │\n",
       "│         ┆         ┆       ┆          ┆   ┆             ┆             ┆             ┆ f64         │\n",
       "╞═════════╪═════════╪═══════╪══════════╪═══╪═════════════╪═════════════╪═════════════╪═════════════╡\n",
       "│ 2118974 ┆ 3783009 ┆ 224.0 ┆ 0.0      ┆ … ┆ 0           ┆ 0           ┆ 0           ┆ 16.0        │\n",
       "└─────────┴─────────┴───────┴──────────┴───┴─────────────┴─────────────┴─────────────┴─────────────┘"
      ]
     },
     "execution_count": 7,
     "metadata": {},
     "output_type": "execute_result"
    }
   ],
   "source": [
    "metrics_with_meta_agg = (\n",
    "    metrics_with_meta\n",
    "    .sort([\"channel_id\", \"post_date\"])\n",
    "    .hstack(\n",
    "        metrics_with_meta_agg\n",
    "        .explode([f\"{x}_avg_last_50\" for x in columns_to_agg])\n",
    "        .drop(\"channel_id\")\n",
    "    )\n",
    ")\n",
    "\n",
    "print(metrics_with_meta_agg.shape)\n",
    "metrics_with_meta_agg.sample()"
   ]
  },
  {
   "cell_type": "code",
   "execution_count": 8,
   "metadata": {},
   "outputs": [
    {
     "name": "stdout",
     "output_type": "stream",
     "text": [
      "(17544153, 57)\n"
     ]
    },
    {
     "data": {
      "text/html": [
       "<div><style>\n",
       ".dataframe > thead > tr,\n",
       ".dataframe > tbody > tr {\n",
       "  text-align: right;\n",
       "  white-space: pre-wrap;\n",
       "}\n",
       "</style>\n",
       "<small>shape: (1, 57)</small><table border=\"1\" class=\"dataframe\"><thead><tr><th></th><th>id</th><th>views</th><th>forwards</th><th>comments</th><th>paid_reactions</th><th>standard_reactions</th><th>custom_reactions</th><th>sum_standard_reactions</th><th>sum_custom_reactions</th><th>total_sum_reactions</th><th>good_finger</th><th>heart</th><th>fire</th><th>fun</th><th>bad_finger</th><th>total_activites</th><th>relative_total_sum_reactions</th><th>relative_paid_reactions</th><th>relative_good_finger</th><th>relative_sum_custom_reactions</th><th>relative_forwards</th><th>relative_heart</th><th>relative_comments</th><th>relative_fun</th><th>relative_sum_standard_reactions</th><th>relative_bad_finger</th><th>relative_fire</th><th>relative_total_activites</th><th>channel_id</th><th>post_date</th><th>relative_</th><th>views_avg_last_50</th><th>forwards_avg_last_50</th><th>comments_avg_last_50</th><th>paid_reactions_avg_last_50</th><th>sum_standard_reactions_avg_last_50</th><th>sum_custom_reactions_avg_last_50</th><th>total_sum_reactions_avg_last_50</th><th>good_finger_avg_last_50</th><th>heart_avg_last_50</th><th>fire_avg_last_50</th><th>fun_avg_last_50</th><th>bad_finger_avg_last_50</th><th>total_activites_avg_last_50</th><th>relative_forwards_avg_last_50</th><th>relative_comments_avg_last_50</th><th>relative_paid_reactions_avg_last_50</th><th>relative_sum_standard_reactions_avg_last_50</th><th>relative_sum_custom_reactions_avg_last_50</th><th>relative_total_sum_reactions_avg_last_50</th><th>relative_good_finger_avg_last_50</th><th>relative_heart_avg_last_50</th><th>relative_fire_avg_last_50</th><th>relative_fun_avg_last_50</th><th>relative_bad_finger_avg_last_50</th><th>relative_total_activites_avg_last_50</th></tr><tr><td>i64</td><td>i64</td><td>f64</td><td>f64</td><td>f64</td><td>i64</td><td>str</td><td>str</td><td>i64</td><td>i64</td><td>i64</td><td>i64</td><td>i64</td><td>i64</td><td>i64</td><td>i64</td><td>f64</td><td>f64</td><td>f64</td><td>f64</td><td>f64</td><td>f64</td><td>f64</td><td>f64</td><td>f64</td><td>f64</td><td>f64</td><td>f64</td><td>f64</td><td>i64</td><td>str</td><td>f64</td><td>f64</td><td>f64</td><td>f64</td><td>i64</td><td>i64</td><td>i64</td><td>i64</td><td>i64</td><td>i64</td><td>i64</td><td>i64</td><td>i64</td><td>f64</td><td>f64</td><td>f64</td><td>f64</td><td>f64</td><td>f64</td><td>f64</td><td>f64</td><td>f64</td><td>f64</td><td>f64</td><td>f64</td><td>f64</td></tr></thead><tbody><tr><td>507019</td><td>2166923</td><td>1.0</td><td>0.0</td><td>0.0</td><td>0</td><td>&quot;{}&quot;</td><td>&quot;{}&quot;</td><td>0</td><td>0</td><td>0</td><td>0</td><td>0</td><td>0</td><td>0</td><td>0</td><td>0.0</td><td>0.0</td><td>0.0</td><td>0.0</td><td>0.0</td><td>0.0</td><td>0.0</td><td>0.0</td><td>0.0</td><td>0.0</td><td>0.0</td><td>0.0</td><td>0.0</td><td>1622576835</td><td>&quot;2024-11-26 02:11:23+00:00&quot;</td><td>507019.0</td><td>86.0</td><td>0.0</td><td>0.0</td><td>0</td><td>0</td><td>0</td><td>0</td><td>0</td><td>0</td><td>0</td><td>0</td><td>0</td><td>0.0</td><td>0.0</td><td>0.0</td><td>0.0</td><td>0.0</td><td>0.0</td><td>0.0</td><td>0.0</td><td>0.0</td><td>0.0</td><td>0.0</td><td>0.0</td><td>0.0</td></tr></tbody></table></div>"
      ],
      "text/plain": [
       "shape: (1, 57)\n",
       "┌────────┬─────────┬───────┬──────────┬───┬──────────────┬─────────────┬─────────────┬─────────────┐\n",
       "│        ┆ id      ┆ views ┆ forwards ┆ … ┆ relative_fir ┆ relative_fu ┆ relative_ba ┆ relative_to │\n",
       "│ ---    ┆ ---     ┆ ---   ┆ ---      ┆   ┆ e_avg_last_5 ┆ n_avg_last_ ┆ d_finger_av ┆ tal_activit │\n",
       "│ i64    ┆ i64     ┆ f64   ┆ f64      ┆   ┆ 0            ┆ 50          ┆ g_last_5…   ┆ es_avg_l…   │\n",
       "│        ┆         ┆       ┆          ┆   ┆ ---          ┆ ---         ┆ ---         ┆ ---         │\n",
       "│        ┆         ┆       ┆          ┆   ┆ f64          ┆ f64         ┆ f64         ┆ f64         │\n",
       "╞════════╪═════════╪═══════╪══════════╪═══╪══════════════╪═════════════╪═════════════╪═════════════╡\n",
       "│ 507019 ┆ 2166923 ┆ 1.0   ┆ 0.0      ┆ … ┆ 0.0          ┆ 0.0         ┆ 0.0         ┆ 0.0         │\n",
       "└────────┴─────────┴───────┴──────────┴───┴──────────────┴─────────────┴─────────────┴─────────────┘"
      ]
     },
     "execution_count": 8,
     "metadata": {},
     "output_type": "execute_result"
    }
   ],
   "source": [
    "avg_last_50 = [f\"{x}_avg_last_50\" for x in columns_to_agg if \"views\" not in x ]\n",
    "\n",
    "metrics_with_meta_agg = (\n",
    "    metrics_with_meta_agg\n",
    "    .with_columns(\n",
    "        [\n",
    "            (pl.col(x).fill_null(0) / pl.col(\"views_avg_last_50\")).alias(f\"relative_{x}\") \n",
    "            for x in avg_last_50\n",
    "        ]\n",
    "    )\n",
    ")\n",
    "\n",
    "print(metrics_with_meta_agg.shape)\n",
    "metrics_with_meta_agg.sample()"
   ]
  },
  {
   "cell_type": "code",
   "execution_count": 9,
   "metadata": {},
   "outputs": [],
   "source": [
    "metrics_with_meta_agg.write_csv(\"../data/metrics_with_meta_agg.csv\")"
   ]
  },
  {
   "cell_type": "markdown",
   "metadata": {},
   "source": [
    "# join final basis"
   ]
  },
  {
   "cell_type": "code",
   "execution_count": 10,
   "metadata": {},
   "outputs": [
    {
     "data": {
      "text/html": [
       "<div>\n",
       "<style scoped>\n",
       "    .dataframe tbody tr th:only-of-type {\n",
       "        vertical-align: middle;\n",
       "    }\n",
       "\n",
       "    .dataframe tbody tr th {\n",
       "        vertical-align: top;\n",
       "    }\n",
       "\n",
       "    .dataframe thead th {\n",
       "        text-align: right;\n",
       "    }\n",
       "</style>\n",
       "<table border=\"1\" class=\"dataframe\">\n",
       "  <thead>\n",
       "    <tr style=\"text-align: right;\">\n",
       "      <th></th>\n",
       "      <th>level_0</th>\n",
       "      <th>index</th>\n",
       "      <th>id</th>\n",
       "      <th>raw_text</th>\n",
       "      <th>urls</th>\n",
       "      <th>geo</th>\n",
       "      <th>poll</th>\n",
       "      <th>via_bot_id</th>\n",
       "      <th>via_business_bot_id</th>\n",
       "      <th>cnt_urls</th>\n",
       "      <th>...</th>\n",
       "      <th>web</th>\n",
       "      <th>audio</th>\n",
       "      <th>voice</th>\n",
       "      <th>video</th>\n",
       "      <th>gif</th>\n",
       "      <th>channel_id</th>\n",
       "      <th>post_date</th>\n",
       "      <th>id_channels</th>\n",
       "      <th>participants</th>\n",
       "      <th>about</th>\n",
       "    </tr>\n",
       "  </thead>\n",
       "  <tbody>\n",
       "    <tr>\n",
       "      <th>63704</th>\n",
       "      <td>63917</td>\n",
       "      <td>63708</td>\n",
       "      <td>13558723</td>\n",
       "      <td>Спасательные работы после крушения вертолета п...</td>\n",
       "      <td>nan</td>\n",
       "      <td>None</td>\n",
       "      <td>None</td>\n",
       "      <td>None</td>\n",
       "      <td>None</td>\n",
       "      <td>1</td>\n",
       "      <td>...</td>\n",
       "      <td>False</td>\n",
       "      <td>False</td>\n",
       "      <td>False</td>\n",
       "      <td>True</td>\n",
       "      <td>False</td>\n",
       "      <td>1430620446</td>\n",
       "      <td>2024-05-19 15:36:20+00:00</td>\n",
       "      <td>1430620446</td>\n",
       "      <td>26556</td>\n",
       "      <td>Главное о войне на Ближнем Востоке: новости, о...</td>\n",
       "    </tr>\n",
       "  </tbody>\n",
       "</table>\n",
       "<p>1 rows × 64 columns</p>\n",
       "</div>"
      ],
      "text/plain": [
       "       level_0  index        id  \\\n",
       "63704    63917  63708  13558723   \n",
       "\n",
       "                                                raw_text urls   geo  poll  \\\n",
       "63704  Спасательные работы после крушения вертолета п...  nan  None  None   \n",
       "\n",
       "      via_bot_id via_business_bot_id  cnt_urls  ...    web  audio  voice  \\\n",
       "63704       None                None         1  ...  False  False  False   \n",
       "\n",
       "       video    gif  channel_id                 post_date  id_channels  \\\n",
       "63704   True  False  1430620446 2024-05-19 15:36:20+00:00   1430620446   \n",
       "\n",
       "       participants                                              about  \n",
       "63704         26556  Главное о войне на Ближнем Востоке: новости, о...  \n",
       "\n",
       "[1 rows x 64 columns]"
      ]
     },
     "execution_count": 10,
     "metadata": {},
     "output_type": "execute_result"
    }
   ],
   "source": [
    "final_basis = pd.read_sql_table(\"final_basis\", schema=\"ml_house\", con=engine)\n",
    "final_basis.sample()"
   ]
  },
  {
   "cell_type": "code",
   "execution_count": 11,
   "metadata": {},
   "outputs": [
    {
     "data": {
      "text/plain": [
       "Index(['level_0', 'index', 'id', 'raw_text', 'urls', 'geo', 'poll',\n",
       "       'via_bot_id', 'via_business_bot_id', 'cnt_urls', 'target_flag1',\n",
       "       'target_flag2', 'target_flag3', 'target_flag4', 'target_flag5',\n",
       "       'target_flag6', 'target_flag7', 'target_flag8', 'target_flag9',\n",
       "       'target_flag10', 'views', 'forwards', 'comments', 'paid_reactions',\n",
       "       'standard_reactions', 'custom_reactions', 'sum_standard_reactions',\n",
       "       'sum_custom_reactions', 'total_sum_reactions', 'good_finger', 'heart',\n",
       "       'fire', 'fun', 'bad_finger', 'total_activites',\n",
       "       'relative_total_sum_reactions', 'relative_paid_reactions',\n",
       "       'relative_good_finger', 'relative_sum_custom_reactions',\n",
       "       'relative_forwards', 'relative_heart', 'relative_comments',\n",
       "       'relative_fun', 'relative_sum_standard_reactions',\n",
       "       'relative_bad_finger', 'relative_fire', 'relative_total_activites',\n",
       "       'is_post', 'silent', 'noforwards', 'pinned', 'fwd_from_flag', 'photo',\n",
       "       'document', 'web', 'audio', 'voice', 'video', 'gif', 'channel_id',\n",
       "       'post_date', 'id_channels', 'participants', 'about'],\n",
       "      dtype='object')"
      ]
     },
     "execution_count": 11,
     "metadata": {},
     "output_type": "execute_result"
    }
   ],
   "source": [
    "final_basis.columns"
   ]
  },
  {
   "cell_type": "code",
   "execution_count": 12,
   "metadata": {},
   "outputs": [],
   "source": [
    "cols = ['id', 'raw_text', 'urls', 'geo', 'poll',\n",
    "       'via_bot_id', 'via_business_bot_id', 'cnt_urls', 'target_flag1',\n",
    "       'target_flag2', 'target_flag3', 'target_flag4', 'target_flag5',\n",
    "       'target_flag6', 'target_flag7', 'target_flag8', 'target_flag9',\n",
    "       'target_flag10', 'is_post', 'silent', 'noforwards', 'pinned', 'fwd_from_flag', \n",
    "       'photo', 'document', 'web', 'audio', 'voice', 'video', 'gif', 'channel_id',\n",
    "       'post_date', 'id_channels', 'participants', 'about']"
   ]
  },
  {
   "cell_type": "code",
   "execution_count": 13,
   "metadata": {},
   "outputs": [
    {
     "name": "stdout",
     "output_type": "stream",
     "text": [
      "(177373, 35)\n"
     ]
    },
    {
     "data": {
      "text/html": [
       "<div><style>\n",
       ".dataframe > thead > tr,\n",
       ".dataframe > tbody > tr {\n",
       "  text-align: right;\n",
       "  white-space: pre-wrap;\n",
       "}\n",
       "</style>\n",
       "<small>shape: (1, 35)</small><table border=\"1\" class=\"dataframe\"><thead><tr><th>id</th><th>raw_text</th><th>urls</th><th>geo</th><th>poll</th><th>via_bot_id</th><th>via_business_bot_id</th><th>cnt_urls</th><th>target_flag1</th><th>target_flag2</th><th>target_flag3</th><th>target_flag4</th><th>target_flag5</th><th>target_flag6</th><th>target_flag7</th><th>target_flag8</th><th>target_flag9</th><th>target_flag10</th><th>is_post</th><th>silent</th><th>noforwards</th><th>pinned</th><th>fwd_from_flag</th><th>photo</th><th>document</th><th>web</th><th>audio</th><th>voice</th><th>video</th><th>gif</th><th>channel_id</th><th>post_date</th><th>id_channels</th><th>participants</th><th>about</th></tr><tr><td>i64</td><td>str</td><td>str</td><td>str</td><td>str</td><td>str</td><td>str</td><td>i64</td><td>i64</td><td>i64</td><td>i64</td><td>i64</td><td>i64</td><td>i64</td><td>i64</td><td>i64</td><td>i64</td><td>i64</td><td>bool</td><td>bool</td><td>bool</td><td>bool</td><td>bool</td><td>bool</td><td>bool</td><td>bool</td><td>bool</td><td>bool</td><td>bool</td><td>bool</td><td>i64</td><td>datetime[ns, UTC]</td><td>i64</td><td>i64</td><td>str</td></tr></thead><tbody><tr><td>8486938</td><td>&quot;🗣 Материалы #ПерсоналЭкспо2024…</td><td>&quot;{https://hrnet.ru/,https://per…</td><td>null</td><td>null</td><td>null</td><td>null</td><td>3</td><td>0</td><td>0</td><td>0</td><td>0</td><td>0</td><td>0</td><td>0</td><td>0</td><td>1</td><td>0</td><td>true</td><td>false</td><td>false</td><td>false</td><td>false</td><td>false</td><td>false</td><td>false</td><td>false</td><td>false</td><td>false</td><td>false</td><td>1364654610</td><td>2024-08-29 05:54:01 UTC</td><td>1364654610</td><td>8420</td><td>&quot;Самое большое, взрослое (нам у…</td></tr></tbody></table></div>"
      ],
      "text/plain": [
       "shape: (1, 35)\n",
       "┌─────────┬────────────┬────────────┬──────┬───┬────────────┬────────────┬────────────┬────────────┐\n",
       "│ id      ┆ raw_text   ┆ urls       ┆ geo  ┆ … ┆ post_date  ┆ id_channel ┆ participan ┆ about      │\n",
       "│ ---     ┆ ---        ┆ ---        ┆ ---  ┆   ┆ ---        ┆ s          ┆ ts         ┆ ---        │\n",
       "│ i64     ┆ str        ┆ str        ┆ str  ┆   ┆ datetime[n ┆ ---        ┆ ---        ┆ str        │\n",
       "│         ┆            ┆            ┆      ┆   ┆ s, UTC]    ┆ i64        ┆ i64        ┆            │\n",
       "╞═════════╪════════════╪════════════╪══════╪═══╪════════════╪════════════╪════════════╪════════════╡\n",
       "│ 8486938 ┆ 🗣          ┆ {https://h ┆ null ┆ … ┆ 2024-08-29 ┆ 1364654610 ┆ 8420       ┆ Самое      │\n",
       "│         ┆ Материалы  ┆ rnet.ru/,h ┆      ┆   ┆ 05:54:01   ┆            ┆            ┆ большое,   │\n",
       "│         ┆ #ПерсоналЭ ┆ ttps://per ┆      ┆   ┆ UTC        ┆            ┆            ┆ взрослое   │\n",
       "│         ┆ кспо2024…  ┆ …          ┆      ┆   ┆            ┆            ┆            ┆ (нам у…    │\n",
       "└─────────┴────────────┴────────────┴──────┴───┴────────────┴────────────┴────────────┴────────────┘"
      ]
     },
     "execution_count": 13,
     "metadata": {},
     "output_type": "execute_result"
    }
   ],
   "source": [
    "final_basis = pl.DataFrame(final_basis[cols])\n",
    "print(final_basis.shape)\n",
    "final_basis.sample()"
   ]
  },
  {
   "cell_type": "code",
   "execution_count": 31,
   "metadata": {},
   "outputs": [
    {
     "name": "stdout",
     "output_type": "stream",
     "text": [
      "(177373, 35)\n",
      "(177373, 88)\n"
     ]
    }
   ],
   "source": [
    "print(final_basis.shape)\n",
    "\n",
    "basis_metrics = (\n",
    "    final_basis\n",
    "    .join(\n",
    "        (\n",
    "            metrics_with_meta_agg\n",
    "            .drop(pl.col(\"\"))\n",
    "            .with_columns(\n",
    "                pl.col(\"post_date\")\n",
    "                .str.strptime(pl.Datetime, format=\"%Y-%m-%d %H:%M:%S%z\")\n",
    "                .dt.cast_time_unit(\"ns\")\n",
    "                .dt.convert_time_zone(\"UTC\")\n",
    "                )\n",
    "        ),\n",
    "        on = [\"id\", \"channel_id\", \"post_date\"],\n",
    "        how=\"inner\"\n",
    "    )\n",
    ")\n",
    "\n",
    "print(basis_metrics.shape)"
   ]
  },
  {
   "cell_type": "code",
   "execution_count": 32,
   "metadata": {},
   "outputs": [],
   "source": [
    "basis_metrics = basis_metrics.to_pandas()"
   ]
  },
  {
   "cell_type": "code",
   "execution_count": 33,
   "metadata": {},
   "outputs": [
    {
     "name": "stdout",
     "output_type": "stream",
     "text": [
      "23.04857861995697\n"
     ]
    }
   ],
   "source": [
    "start = time.time() \n",
    "\n",
    "with engine.connect() as conn:\n",
    "\n",
    "    (\n",
    "        basis_metrics\n",
    "        .to_sql(name=\"final_basis_with_metrics\", \n",
    "                con=conn,\n",
    "                schema=\"ml_house\",\n",
    "                if_exists='replace', \n",
    "                index=False,\n",
    "                chunksize=1000\n",
    "                )\n",
    "    )\n",
    "    \n",
    "print((time.time() - start)/60)"
   ]
  }
 ],
 "metadata": {
  "kernelspec": {
   "display_name": ".venv",
   "language": "python",
   "name": "python3"
  },
  "language_info": {
   "codemirror_mode": {
    "name": "ipython",
    "version": 3
   },
   "file_extension": ".py",
   "mimetype": "text/x-python",
   "name": "python",
   "nbconvert_exporter": "python",
   "pygments_lexer": "ipython3",
   "version": "3.12.0"
  }
 },
 "nbformat": 4,
 "nbformat_minor": 2
}

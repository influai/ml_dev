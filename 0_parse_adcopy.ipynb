{
 "cells": [
  {
   "cell_type": "code",
   "execution_count": 1,
   "metadata": {},
   "outputs": [
    {
     "name": "stdout",
     "output_type": "stream",
     "text": [
      "Python 3.12.0\n"
     ]
    }
   ],
   "source": [
    "!python --version"
   ]
  },
  {
   "cell_type": "code",
   "execution_count": 2,
   "metadata": {},
   "outputs": [
    {
     "name": "stdout",
     "output_type": "stream",
     "text": [
      "Package           Version\n",
      "----------------- -----------\n",
      "asttokens         3.0.0\n",
      "colorama          0.4.6\n",
      "comm              0.2.2\n",
      "debugpy           1.8.9\n",
      "decorator         5.1.1\n",
      "executing         2.1.0\n",
      "greenlet          3.1.1\n",
      "ipykernel         6.29.5\n",
      "ipython           8.30.0\n",
      "jedi              0.19.2\n",
      "jupyter_client    8.6.3\n",
      "jupyter_core      5.7.2\n",
      "matplotlib-inline 0.1.7\n",
      "nest-asyncio      1.6.0\n",
      "numpy             2.1.3\n",
      "packaging         24.2\n",
      "pandas            2.2.3\n",
      "parso             0.8.4\n",
      "pip               24.3.1\n",
      "platformdirs      4.3.6\n",
      "prompt_toolkit    3.0.48\n",
      "psutil            6.1.0\n",
      "pure_eval         0.2.3\n",
      "Pygments          2.18.0\n",
      "python-dateutil   2.9.0.post0\n",
      "python-dotenv     1.0.1\n",
      "pytz              2024.2\n",
      "pywin32           308\n",
      "pyzmq             26.2.0\n",
      "six               1.17.0\n",
      "SQLAlchemy        2.0.36\n",
      "stack-data        0.6.3\n",
      "tornado           6.4.2\n",
      "tqdm              4.67.1\n",
      "traitlets         5.14.3\n",
      "typing_extensions 4.12.2\n",
      "tzdata            2024.2\n",
      "wcwidth           0.2.13\n"
     ]
    }
   ],
   "source": [
    "!pip list"
   ]
  },
  {
   "cell_type": "code",
   "execution_count": 3,
   "metadata": {},
   "outputs": [],
   "source": [
    "!pip freeze > requirements.txt"
   ]
  },
  {
   "cell_type": "code",
   "execution_count": 4,
   "metadata": {},
   "outputs": [],
   "source": [
    "import pandas as pd \n",
    "\n",
    "from tqdm import tqdm"
   ]
  },
  {
   "cell_type": "markdown",
   "metadata": {},
   "source": [
    "# prepare ad basis"
   ]
  },
  {
   "cell_type": "code",
   "execution_count": 5,
   "metadata": {},
   "outputs": [
    {
     "name": "stderr",
     "output_type": "stream",
     "text": [
      "<timed exec>:1: DtypeWarning: Columns (5,6) have mixed types. Specify dtype option on import or set low_memory=False.\n"
     ]
    },
    {
     "name": "stdout",
     "output_type": "stream",
     "text": [
      "CPU times: total: 6min\n",
      "Wall time: 11min 39s\n"
     ]
    },
    {
     "data": {
      "text/html": [
       "<div>\n",
       "<style scoped>\n",
       "    .dataframe tbody tr th:only-of-type {\n",
       "        vertical-align: middle;\n",
       "    }\n",
       "\n",
       "    .dataframe tbody tr th {\n",
       "        vertical-align: top;\n",
       "    }\n",
       "\n",
       "    .dataframe thead th {\n",
       "        text-align: right;\n",
       "    }\n",
       "</style>\n",
       "<table border=\"1\" class=\"dataframe\">\n",
       "  <thead>\n",
       "    <tr style=\"text-align: right;\">\n",
       "      <th></th>\n",
       "      <th>id</th>\n",
       "      <th>raw_text</th>\n",
       "      <th>urls</th>\n",
       "      <th>geo</th>\n",
       "      <th>poll</th>\n",
       "      <th>via_bot_id</th>\n",
       "      <th>via_business_bot_id</th>\n",
       "    </tr>\n",
       "  </thead>\n",
       "  <tbody>\n",
       "    <tr>\n",
       "      <th>11236106</th>\n",
       "      <td>Если партнерша хочет донести свои пожелания ил...</td>\n",
       "      <td>{}</td>\n",
       "      <td>NaN</td>\n",
       "      <td>NaN</td>\n",
       "      <td>NaN</td>\n",
       "      <td>NaN</td>\n",
       "      <td>NaN</td>\n",
       "    </tr>\n",
       "    <tr>\n",
       "      <th>6471826</th>\n",
       "      <td>319467</td>\n",
       "      <td>Бизнес РФ стал чаще менять название с иностран...</td>\n",
       "      <td>{}</td>\n",
       "      <td>NaN</td>\n",
       "      <td>NaN</td>\n",
       "      <td>NaN</td>\n",
       "      <td>NaN</td>\n",
       "    </tr>\n",
       "    <tr>\n",
       "      <th>11620220</th>\n",
       "      <td>margin: 100px auto</td>\n",
       "      <td>NaN</td>\n",
       "      <td>NaN</td>\n",
       "      <td>NaN</td>\n",
       "      <td>NaN</td>\n",
       "      <td>NaN</td>\n",
       "      <td>NaN</td>\n",
       "    </tr>\n",
       "    <tr>\n",
       "      <th>9747265</th>\n",
       "      <td>4152839</td>\n",
       "      <td>Красивое женственное платье, которое подойдет ...</td>\n",
       "      <td>{https://www.wildberries.ru/catalog/198809990/...</td>\n",
       "      <td>NaN</td>\n",
       "      <td>NaN</td>\n",
       "      <td>NaN</td>\n",
       "      <td>NaN</td>\n",
       "    </tr>\n",
       "    <tr>\n",
       "      <th>5683259</th>\n",
       "      <td>5073095</td>\n",
       "      <td>🔼 Тренд на рабочие профессии набирает обороты\\...</td>\n",
       "      <td>{https://t.me/World_Sanctions/29778,https://t....</td>\n",
       "      <td>NaN</td>\n",
       "      <td>NaN</td>\n",
       "      <td>NaN</td>\n",
       "      <td>NaN</td>\n",
       "    </tr>\n",
       "    <tr>\n",
       "      <th>9136584</th>\n",
       "      <td>16340869</td>\n",
       "      <td>Как грамотно провести реинжиниринг отчетности\\...</td>\n",
       "      <td>{https://globalcio.ru/discussion/38608/}</td>\n",
       "      <td>NaN</td>\n",
       "      <td>NaN</td>\n",
       "      <td>NaN</td>\n",
       "      <td>NaN</td>\n",
       "    </tr>\n",
       "    <tr>\n",
       "      <th>11898207</th>\n",
       "      <td>17401107</td>\n",
       "      <td>⭐️: Отправте стики (НЕ ПРЕМИУМ) \\nС джаннет пж...</td>\n",
       "      <td>{}</td>\n",
       "      <td>NaN</td>\n",
       "      <td>NaN</td>\n",
       "      <td>NaN</td>\n",
       "      <td>NaN</td>\n",
       "    </tr>\n",
       "    <tr>\n",
       "      <th>3924113</th>\n",
       "      <td>6025084</td>\n",
       "      <td>Кстати мы уже вспоминали классику Илариу, дава...</td>\n",
       "      <td>{ttps://t.me/breakevens/322}</td>\n",
       "      <td>NaN</td>\n",
       "      <td>NaN</td>\n",
       "      <td>NaN</td>\n",
       "      <td>NaN</td>\n",
       "    </tr>\n",
       "    <tr>\n",
       "      <th>5313370</th>\n",
       "      <td>5793475</td>\n",
       "      <td>«Вашингтон» 🔠 проиграл «Колорадо» 🧨\\n\\n🏒 Регул...</td>\n",
       "      <td>{https://t.me/Capitals_rus/4464?single,https:/...</td>\n",
       "      <td>NaN</td>\n",
       "      <td>NaN</td>\n",
       "      <td>NaN</td>\n",
       "      <td>NaN</td>\n",
       "    </tr>\n",
       "    <tr>\n",
       "      <th>305938</th>\n",
       "      <td>8602150</td>\n",
       "      <td>Вчера был поставлен эксперимент с объемом\\n\\nВ...</td>\n",
       "      <td>{}</td>\n",
       "      <td>NaN</td>\n",
       "      <td>NaN</td>\n",
       "      <td>NaN</td>\n",
       "      <td>NaN</td>\n",
       "    </tr>\n",
       "  </tbody>\n",
       "</table>\n",
       "</div>"
      ],
      "text/plain": [
       "                                                         id  \\\n",
       "11236106  Если партнерша хочет донести свои пожелания ил...   \n",
       "6471826                                              319467   \n",
       "11620220                                 margin: 100px auto   \n",
       "9747265                                             4152839   \n",
       "5683259                                             5073095   \n",
       "9136584                                            16340869   \n",
       "11898207                                           17401107   \n",
       "3924113                                             6025084   \n",
       "5313370                                             5793475   \n",
       "305938                                              8602150   \n",
       "\n",
       "                                                   raw_text  \\\n",
       "11236106                                                 {}   \n",
       "6471826   Бизнес РФ стал чаще менять название с иностран...   \n",
       "11620220                                                NaN   \n",
       "9747265   Красивое женственное платье, которое подойдет ...   \n",
       "5683259   🔼 Тренд на рабочие профессии набирает обороты\\...   \n",
       "9136584   Как грамотно провести реинжиниринг отчетности\\...   \n",
       "11898207  ⭐️: Отправте стики (НЕ ПРЕМИУМ) \\nС джаннет пж...   \n",
       "3924113   Кстати мы уже вспоминали классику Илариу, дава...   \n",
       "5313370   «Вашингтон» 🔠 проиграл «Колорадо» 🧨\\n\\n🏒 Регул...   \n",
       "305938    Вчера был поставлен эксперимент с объемом\\n\\nВ...   \n",
       "\n",
       "                                                       urls  geo poll  \\\n",
       "11236106                                                NaN  NaN  NaN   \n",
       "6471826                                                  {}  NaN  NaN   \n",
       "11620220                                                NaN  NaN  NaN   \n",
       "9747265   {https://www.wildberries.ru/catalog/198809990/...  NaN  NaN   \n",
       "5683259   {https://t.me/World_Sanctions/29778,https://t....  NaN  NaN   \n",
       "9136584            {https://globalcio.ru/discussion/38608/}  NaN  NaN   \n",
       "11898207                                                 {}  NaN  NaN   \n",
       "3924113                        {ttps://t.me/breakevens/322}  NaN  NaN   \n",
       "5313370   {https://t.me/Capitals_rus/4464?single,https:/...  NaN  NaN   \n",
       "305938                                                   {}  NaN  NaN   \n",
       "\n",
       "         via_bot_id via_business_bot_id  \n",
       "11236106        NaN                 NaN  \n",
       "6471826         NaN                 NaN  \n",
       "11620220        NaN                 NaN  \n",
       "9747265         NaN                 NaN  \n",
       "5683259         NaN                 NaN  \n",
       "9136584         NaN                 NaN  \n",
       "11898207        NaN                 NaN  \n",
       "3924113         NaN                 NaN  \n",
       "5313370         NaN                 NaN  \n",
       "305938          NaN                 NaN  "
      ]
     },
     "execution_count": 5,
     "metadata": {},
     "output_type": "execute_result"
    }
   ],
   "source": [
    "%%time\n",
    "\n",
    "df = pd.read_csv(\"../data/post_content_v1.csv\", on_bad_lines=\"skip\", sep=\";\")\n",
    "df.sample(10)"
   ]
  },
  {
   "cell_type": "code",
   "execution_count": 6,
   "metadata": {},
   "outputs": [
    {
     "data": {
      "text/plain": [
       "(12742228, 7)"
      ]
     },
     "execution_count": 6,
     "metadata": {},
     "output_type": "execute_result"
    }
   ],
   "source": [
    "df.shape"
   ]
  },
  {
   "cell_type": "code",
   "execution_count": 15,
   "metadata": {},
   "outputs": [
    {
     "name": "stdout",
     "output_type": "stream",
     "text": [
      "CPU times: total: 7min 10s\n",
      "Wall time: 10min 44s\n"
     ]
    }
   ],
   "source": [
    "%%time\n",
    "\n",
    "mask = (\n",
    "    df.raw_text.str.contains(\"подпишись\") | df.raw_text.str.contains(\"подписывайся\") | \n",
    "    df.raw_text.str.contains(\"#реклама\") | df.raw_text.str.contains(\"О рекламодателе\") | \n",
    "    df.raw_text.str.contains(\"партнёрский пост\") | df.raw_text.str.contains(\"#Ad\") | \n",
    "    df.raw_text.str.contains(\"Этот пост спонсирован\") | df.raw_text.str.contains(\"📢\") |\n",
    "    df.raw_text.str.contains(\"💬\") | df.raw_text.str.contains(\"✉️\")\n",
    ")"
   ]
  },
  {
   "cell_type": "code",
   "execution_count": 16,
   "metadata": {},
   "outputs": [
    {
     "name": "stdout",
     "output_type": "stream",
     "text": [
      "(177377, 7)\n"
     ]
    },
    {
     "data": {
      "text/plain": [
       "id\n",
       "7      109710\n",
       "8       52832\n",
       "6       13329\n",
       "5        1463\n",
       "4          21\n",
       "3          18\n",
       "2           1\n",
       "617         1\n",
       "71          1\n",
       "12          1\n",
       "Name: count, dtype: int64"
      ]
     },
     "execution_count": 16,
     "metadata": {},
     "output_type": "execute_result"
    }
   ],
   "source": [
    "filtred_df = df[mask]\n",
    "\n",
    "print(filtred_df.shape)\n",
    "filtred_df.id.str.len().value_counts()"
   ]
  },
  {
   "cell_type": "code",
   "execution_count": 17,
   "metadata": {},
   "outputs": [
    {
     "name": "stderr",
     "output_type": "stream",
     "text": [
      "C:\\Users\\Kika-\\AppData\\Local\\Temp\\ipykernel_16900\\2515153611.py:1: SettingWithCopyWarning: \n",
      "A value is trying to be set on a copy of a slice from a DataFrame.\n",
      "Try using .loc[row_indexer,col_indexer] = value instead\n",
      "\n",
      "See the caveats in the documentation: https://pandas.pydata.org/pandas-docs/stable/user_guide/indexing.html#returning-a-view-versus-a-copy\n",
      "  filtred_df.urls = filtred_df.urls.astype(str)\n",
      "C:\\Users\\Kika-\\AppData\\Local\\Temp\\ipykernel_16900\\2515153611.py:2: SettingWithCopyWarning: \n",
      "A value is trying to be set on a copy of a slice from a DataFrame.\n",
      "Try using .loc[row_indexer,col_indexer] = value instead\n",
      "\n",
      "See the caveats in the documentation: https://pandas.pydata.org/pandas-docs/stable/user_guide/indexing.html#returning-a-view-versus-a-copy\n",
      "  filtred_df[\"len_id\"] = filtred_df.id.str.len()\n",
      "C:\\Users\\Kika-\\AppData\\Local\\Temp\\ipykernel_16900\\2515153611.py:3: SettingWithCopyWarning: \n",
      "A value is trying to be set on a copy of a slice from a DataFrame.\n",
      "Try using .loc[row_indexer,col_indexer] = value instead\n",
      "\n",
      "See the caveats in the documentation: https://pandas.pydata.org/pandas-docs/stable/user_guide/indexing.html#returning-a-view-versus-a-copy\n",
      "  filtred_df[\"cnt_urls\"] = filtred_df.urls.apply(lambda x: len(x.split(\",\")))\n"
     ]
    }
   ],
   "source": [
    "filtred_df.urls = filtred_df.urls.astype(str)\n",
    "filtred_df[\"len_id\"] = filtred_df.id.str.len()\n",
    "filtred_df[\"cnt_urls\"] = filtred_df.urls.apply(lambda x: len(x.split(\",\")))\n",
    "\n",
    "\n",
    "mask = (filtred_df[\"len_id\"] > 2) & (filtred_df[\"len_id\"] < 9)\n",
    "filtred_df = filtred_df[mask]\n",
    "\n",
    "filtred_df[\"id\"] = filtred_df[\"id\"].astype(int)\n",
    "filtred_df = filtred_df.drop(columns=[\"len_id\"])"
   ]
  },
  {
   "cell_type": "code",
   "execution_count": 18,
   "metadata": {},
   "outputs": [],
   "source": [
    "patterns = [\n",
    "    \"подпишись\", \"подписывайся\", \"#реклама\", \"О рекламодателе\", \n",
    "    \"партнёрский пост\", \"#Ad\", \"Этот пост спонсирован\", \"📢\",\n",
    "    \"💬\", \"✉️\"\n",
    "]"
   ]
  },
  {
   "cell_type": "code",
   "execution_count": 19,
   "metadata": {},
   "outputs": [
    {
     "name": "stderr",
     "output_type": "stream",
     "text": [
      "10it [00:05,  1.83it/s]"
     ]
    },
    {
     "name": "stdout",
     "output_type": "stream",
     "text": [
      "CPU times: total: 3.59 s\n",
      "Wall time: 5.5 s\n"
     ]
    },
    {
     "name": "stderr",
     "output_type": "stream",
     "text": [
      "\n"
     ]
    }
   ],
   "source": [
    "%%time\n",
    "\n",
    "for i, x in tqdm(enumerate(patterns)):\n",
    "    column_name = f\"target_flag{i+1}\"  \n",
    "    filtred_df[column_name] = 0 \n",
    "    mask = filtred_df.raw_text.str.contains(x)\n",
    "    filtred_df.loc[mask, column_name] = 1"
   ]
  },
  {
   "cell_type": "code",
   "execution_count": 20,
   "metadata": {},
   "outputs": [
    {
     "data": {
      "text/plain": [
       "подпишись                  5845\n",
       "подписывайся               2561\n",
       "#реклама                   5989\n",
       "О рекламодателе            3112\n",
       "партнёрский пост             24\n",
       "#Ad                         542\n",
       "Этот пост спонсирован         1\n",
       "📢                         26914\n",
       "💬                        120608\n",
       "✉️                        16812\n",
       "dtype: int64"
      ]
     },
     "execution_count": 20,
     "metadata": {},
     "output_type": "execute_result"
    }
   ],
   "source": [
    "flags = [x for x in filtred_df.columns if \"flag\" in x]\n",
    "\n",
    "pd.Series(filtred_df[flags].sum(axis=0).values, index=patterns)"
   ]
  },
  {
   "cell_type": "code",
   "execution_count": 21,
   "metadata": {},
   "outputs": [
    {
     "data": {
      "text/plain": [
       "(177373, 18)"
      ]
     },
     "execution_count": 21,
     "metadata": {},
     "output_type": "execute_result"
    }
   ],
   "source": [
    "filtred_df.shape"
   ]
  },
  {
   "cell_type": "markdown",
   "metadata": {},
   "source": [
    "# save"
   ]
  },
  {
   "cell_type": "code",
   "execution_count": 22,
   "metadata": {},
   "outputs": [
    {
     "data": {
      "text/plain": [
       "True"
      ]
     },
     "execution_count": 22,
     "metadata": {},
     "output_type": "execute_result"
    }
   ],
   "source": [
    "import os\n",
    "\n",
    "from dotenv import load_dotenv\n",
    "from sqlalchemy import create_engine, inspect\n",
    "\n",
    "load_dotenv('./.env')"
   ]
  },
  {
   "cell_type": "code",
   "execution_count": 24,
   "metadata": {},
   "outputs": [
    {
     "data": {
      "text/plain": [
       "['information_schema', 'ml_house', 'parse', 'public']"
      ]
     },
     "execution_count": 24,
     "metadata": {},
     "output_type": "execute_result"
    }
   ],
   "source": [
    "DB_IP = os.environ.get(\"DB_IP\")\n",
    "DB_PORT = os.environ.get(\"DB_PORT\")\n",
    "DB_NAME = os.environ.get(\"DB_NAME\")\n",
    "DB_USER = os.environ.get(\"DB_USER\")\n",
    "DB_PASSWORD = os.environ.get(\"DB_PASSWORD\")\n",
    "\n",
    "url = f\"postgresql://{DB_USER}:{DB_PASSWORD}@{DB_IP}:{DB_PORT}/{DB_NAME}\"\n",
    "engine = create_engine(url)\n",
    "inspector = inspect(engine)\n",
    "\n",
    "inspector.get_schema_names()"
   ]
  },
  {
   "cell_type": "code",
   "execution_count": 25,
   "metadata": {},
   "outputs": [
    {
     "data": {
      "text/plain": [
       "373"
      ]
     },
     "execution_count": 25,
     "metadata": {},
     "output_type": "execute_result"
    }
   ],
   "source": [
    "filtred_df.to_sql(\"ad_basis\", engine, schema=\"ml_house\", if_exists='replace', index=False)"
   ]
  }
 ],
 "metadata": {
  "kernelspec": {
   "display_name": ".venv",
   "language": "python",
   "name": "python3"
  },
  "language_info": {
   "codemirror_mode": {
    "name": "ipython",
    "version": 3
   },
   "file_extension": ".py",
   "mimetype": "text/x-python",
   "name": "python",
   "nbconvert_exporter": "python",
   "pygments_lexer": "ipython3",
   "version": "3.12.0"
  }
 },
 "nbformat": 4,
 "nbformat_minor": 2
}
